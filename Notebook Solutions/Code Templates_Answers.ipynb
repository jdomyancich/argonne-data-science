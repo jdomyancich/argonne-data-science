{
 "cells": [
  {
   "cell_type": "markdown",
   "id": "ad33e31a-e88f-4171-a3f7-9d80c6c69abb",
   "metadata": {},
   "source": [
    "# How to Use this Notebook\n",
    "___\n",
    "\n",
    "This notebook is meant to provide both a template for writing your own notebooks and examples of how the template can be applied using a dataset from the NOAA's Global Historical Climatology Network (GHCN) to investigate climate change. While there is no set recipe of how data science is done or shown in a Jupyter notebook, this notebook highlights some fundamental tasks when working with data and the general order in which they are often performed:\n",
    "- Importing\n",
    "- Cleaning\n",
    "- Exploring\n",
    "- Analyzing"
   ]
  },
  {
   "cell_type": "markdown",
   "id": "a2515456-2cf6-4fa0-8eaa-37d096f30e85",
   "metadata": {},
   "source": [
    "### The Templates\n",
    "\n",
    "In each use case, a template is given that shows the structure of the code with placeholders shown as `<missing_code>`. For example, if you come across `<variable_name>` or `<input_value>`, it suggests that you should replace it with an appropriate variable name or input value relevant to your specific use case. This is a common practice when writing code for illustrative purposes. While these placeholders are not valid Python syntax, they serve as a visual cue to indicate the section that requires user customization.\n",
    "\n",
    "Sometimes, the angle brackets `< >` are not needed when it is obvious that generic code is being used. This is most often the case when assigning variables. This makes the template less cluttered and easier to interpret. For example, the following cell uses angle brackets to call out the `file_path`, but brackets are not needed to identify the variable where the data is stored, `dataframe_name`. \n",
    "\n",
    "`dataframe_name = pd.read_csv('<file_path>')`"
   ]
  },
  {
   "cell_type": "markdown",
   "id": "0548fa79-bf84-4993-b2f3-398e5b80393c",
   "metadata": {},
   "source": [
    "### The Examples\n",
    "\n",
    "When there are large sections of missing code, comments are often use to describe what is to be added.\n",
    "Following each template, working code is provided that replaces the `<missing_code>` with code that works for the GHCN data."
   ]
  },
  {
   "cell_type": "markdown",
   "id": "2941b458-1d5b-4f27-a681-1927af1dbffd",
   "metadata": {},
   "source": [
    "# Importing\n",
    "___"
   ]
  },
  {
   "cell_type": "markdown",
   "id": "8e4f588f-a139-491c-bcb1-c451c9cfe605",
   "metadata": {},
   "source": [
    "### Importing the Libraries\n",
    "\n",
    "There are over 200,000 Python libraries available. The type of data and what you will do with it determine which libraries you need. However, there are some popular libraries that are commonly used:\n",
    "\n",
    "- NumPy: scientific computing\n",
    "- Pandas: data analysis and manipulation\n",
    "- Matplotlib: visualizations\n",
    "- SciPy: more scientific computing\n",
    "\n",
    "The necessary libraries are often imported at the beginning of the notebook and are \"imported as\" using an abbreviation. The abbreviation allows us to use the library with less code. You can choose whatever abbreviation you want, but most libraries have a commonly accepted one. However, they don't have to be abbreviated (as is often the case with SciPy).\n",
    "\n",
    "Notice that a special version of matplotlib called `pyplot` is often used. Pyplot makes using matplotlob easier in Jupyter notebooks. "
   ]
  },
  {
   "cell_type": "code",
   "execution_count": 2,
   "id": "b73f8476-511a-453b-a865-ea528467e2b4",
   "metadata": {},
   "outputs": [],
   "source": [
    "import numpy as np\n",
    "import pandas as pd\n",
    "pd.options.mode.chained_assignment = None   # This turns off an annoying warning\n",
    "import matplotlib.pyplot as plt\n",
    "import scipy"
   ]
  },
  {
   "cell_type": "markdown",
   "id": "354d58d0-52ad-4159-bbcd-161457175600",
   "metadata": {},
   "source": [
    "### Importing the Data\n",
    "\n",
    "Datasets may be stored \"locally\" on your computer or \"in the cloud\" on a server in a variety of file formats. Comma separated values (.csv) is the most common format.\n",
    "\n",
    "The data must be brought into the computer's memory and stored in a variable. Pandas has a function called `read_csv` that converts a .csv file into a Pandas dataframe:"
   ]
  },
  {
   "cell_type": "code",
   "execution_count": 3,
   "id": "4f3c1cb0-0cd6-4019-b82b-c2436d823289",
   "metadata": {},
   "outputs": [
    {
     "ename": "FileNotFoundError",
     "evalue": "[Errno 2] No such file or directory: '<dataset_location>'",
     "output_type": "error",
     "traceback": [
      "\u001b[0;31m---------------------------------------------------------------------------\u001b[0m",
      "\u001b[0;31mFileNotFoundError\u001b[0m                         Traceback (most recent call last)",
      "Input \u001b[0;32mIn [3]\u001b[0m, in \u001b[0;36m<cell line: 1>\u001b[0;34m()\u001b[0m\n\u001b[0;32m----> 1\u001b[0m dataframe_name \u001b[38;5;241m=\u001b[39m \u001b[43mpd\u001b[49m\u001b[38;5;241;43m.\u001b[39;49m\u001b[43mread_csv\u001b[49m\u001b[43m(\u001b[49m\u001b[38;5;124;43m'\u001b[39;49m\u001b[38;5;124;43m<dataset_location>\u001b[39;49m\u001b[38;5;124;43m'\u001b[39;49m\u001b[43m)\u001b[49m\n",
      "File \u001b[0;32m/Users/argonneed/opt/anaconda3/lib/python3.9/site-packages/pandas/util/_decorators.py:311\u001b[0m, in \u001b[0;36mdeprecate_nonkeyword_arguments.<locals>.decorate.<locals>.wrapper\u001b[0;34m(*args, **kwargs)\u001b[0m\n\u001b[1;32m    305\u001b[0m \u001b[38;5;28;01mif\u001b[39;00m \u001b[38;5;28mlen\u001b[39m(args) \u001b[38;5;241m>\u001b[39m num_allow_args:\n\u001b[1;32m    306\u001b[0m     warnings\u001b[38;5;241m.\u001b[39mwarn(\n\u001b[1;32m    307\u001b[0m         msg\u001b[38;5;241m.\u001b[39mformat(arguments\u001b[38;5;241m=\u001b[39marguments),\n\u001b[1;32m    308\u001b[0m         \u001b[38;5;167;01mFutureWarning\u001b[39;00m,\n\u001b[1;32m    309\u001b[0m         stacklevel\u001b[38;5;241m=\u001b[39mstacklevel,\n\u001b[1;32m    310\u001b[0m     )\n\u001b[0;32m--> 311\u001b[0m \u001b[38;5;28;01mreturn\u001b[39;00m \u001b[43mfunc\u001b[49m\u001b[43m(\u001b[49m\u001b[38;5;241;43m*\u001b[39;49m\u001b[43margs\u001b[49m\u001b[43m,\u001b[49m\u001b[43m \u001b[49m\u001b[38;5;241;43m*\u001b[39;49m\u001b[38;5;241;43m*\u001b[39;49m\u001b[43mkwargs\u001b[49m\u001b[43m)\u001b[49m\n",
      "File \u001b[0;32m/Users/argonneed/opt/anaconda3/lib/python3.9/site-packages/pandas/io/parsers/readers.py:680\u001b[0m, in \u001b[0;36mread_csv\u001b[0;34m(filepath_or_buffer, sep, delimiter, header, names, index_col, usecols, squeeze, prefix, mangle_dupe_cols, dtype, engine, converters, true_values, false_values, skipinitialspace, skiprows, skipfooter, nrows, na_values, keep_default_na, na_filter, verbose, skip_blank_lines, parse_dates, infer_datetime_format, keep_date_col, date_parser, dayfirst, cache_dates, iterator, chunksize, compression, thousands, decimal, lineterminator, quotechar, quoting, doublequote, escapechar, comment, encoding, encoding_errors, dialect, error_bad_lines, warn_bad_lines, on_bad_lines, delim_whitespace, low_memory, memory_map, float_precision, storage_options)\u001b[0m\n\u001b[1;32m    665\u001b[0m kwds_defaults \u001b[38;5;241m=\u001b[39m _refine_defaults_read(\n\u001b[1;32m    666\u001b[0m     dialect,\n\u001b[1;32m    667\u001b[0m     delimiter,\n\u001b[0;32m   (...)\u001b[0m\n\u001b[1;32m    676\u001b[0m     defaults\u001b[38;5;241m=\u001b[39m{\u001b[38;5;124m\"\u001b[39m\u001b[38;5;124mdelimiter\u001b[39m\u001b[38;5;124m\"\u001b[39m: \u001b[38;5;124m\"\u001b[39m\u001b[38;5;124m,\u001b[39m\u001b[38;5;124m\"\u001b[39m},\n\u001b[1;32m    677\u001b[0m )\n\u001b[1;32m    678\u001b[0m kwds\u001b[38;5;241m.\u001b[39mupdate(kwds_defaults)\n\u001b[0;32m--> 680\u001b[0m \u001b[38;5;28;01mreturn\u001b[39;00m \u001b[43m_read\u001b[49m\u001b[43m(\u001b[49m\u001b[43mfilepath_or_buffer\u001b[49m\u001b[43m,\u001b[49m\u001b[43m \u001b[49m\u001b[43mkwds\u001b[49m\u001b[43m)\u001b[49m\n",
      "File \u001b[0;32m/Users/argonneed/opt/anaconda3/lib/python3.9/site-packages/pandas/io/parsers/readers.py:575\u001b[0m, in \u001b[0;36m_read\u001b[0;34m(filepath_or_buffer, kwds)\u001b[0m\n\u001b[1;32m    572\u001b[0m _validate_names(kwds\u001b[38;5;241m.\u001b[39mget(\u001b[38;5;124m\"\u001b[39m\u001b[38;5;124mnames\u001b[39m\u001b[38;5;124m\"\u001b[39m, \u001b[38;5;28;01mNone\u001b[39;00m))\n\u001b[1;32m    574\u001b[0m \u001b[38;5;66;03m# Create the parser.\u001b[39;00m\n\u001b[0;32m--> 575\u001b[0m parser \u001b[38;5;241m=\u001b[39m \u001b[43mTextFileReader\u001b[49m\u001b[43m(\u001b[49m\u001b[43mfilepath_or_buffer\u001b[49m\u001b[43m,\u001b[49m\u001b[43m \u001b[49m\u001b[38;5;241;43m*\u001b[39;49m\u001b[38;5;241;43m*\u001b[39;49m\u001b[43mkwds\u001b[49m\u001b[43m)\u001b[49m\n\u001b[1;32m    577\u001b[0m \u001b[38;5;28;01mif\u001b[39;00m chunksize \u001b[38;5;129;01mor\u001b[39;00m iterator:\n\u001b[1;32m    578\u001b[0m     \u001b[38;5;28;01mreturn\u001b[39;00m parser\n",
      "File \u001b[0;32m/Users/argonneed/opt/anaconda3/lib/python3.9/site-packages/pandas/io/parsers/readers.py:933\u001b[0m, in \u001b[0;36mTextFileReader.__init__\u001b[0;34m(self, f, engine, **kwds)\u001b[0m\n\u001b[1;32m    930\u001b[0m     \u001b[38;5;28mself\u001b[39m\u001b[38;5;241m.\u001b[39moptions[\u001b[38;5;124m\"\u001b[39m\u001b[38;5;124mhas_index_names\u001b[39m\u001b[38;5;124m\"\u001b[39m] \u001b[38;5;241m=\u001b[39m kwds[\u001b[38;5;124m\"\u001b[39m\u001b[38;5;124mhas_index_names\u001b[39m\u001b[38;5;124m\"\u001b[39m]\n\u001b[1;32m    932\u001b[0m \u001b[38;5;28mself\u001b[39m\u001b[38;5;241m.\u001b[39mhandles: IOHandles \u001b[38;5;241m|\u001b[39m \u001b[38;5;28;01mNone\u001b[39;00m \u001b[38;5;241m=\u001b[39m \u001b[38;5;28;01mNone\u001b[39;00m\n\u001b[0;32m--> 933\u001b[0m \u001b[38;5;28mself\u001b[39m\u001b[38;5;241m.\u001b[39m_engine \u001b[38;5;241m=\u001b[39m \u001b[38;5;28;43mself\u001b[39;49m\u001b[38;5;241;43m.\u001b[39;49m\u001b[43m_make_engine\u001b[49m\u001b[43m(\u001b[49m\u001b[43mf\u001b[49m\u001b[43m,\u001b[49m\u001b[43m \u001b[49m\u001b[38;5;28;43mself\u001b[39;49m\u001b[38;5;241;43m.\u001b[39;49m\u001b[43mengine\u001b[49m\u001b[43m)\u001b[49m\n",
      "File \u001b[0;32m/Users/argonneed/opt/anaconda3/lib/python3.9/site-packages/pandas/io/parsers/readers.py:1217\u001b[0m, in \u001b[0;36mTextFileReader._make_engine\u001b[0;34m(self, f, engine)\u001b[0m\n\u001b[1;32m   1213\u001b[0m     mode \u001b[38;5;241m=\u001b[39m \u001b[38;5;124m\"\u001b[39m\u001b[38;5;124mrb\u001b[39m\u001b[38;5;124m\"\u001b[39m\n\u001b[1;32m   1214\u001b[0m \u001b[38;5;66;03m# error: No overload variant of \"get_handle\" matches argument types\u001b[39;00m\n\u001b[1;32m   1215\u001b[0m \u001b[38;5;66;03m# \"Union[str, PathLike[str], ReadCsvBuffer[bytes], ReadCsvBuffer[str]]\"\u001b[39;00m\n\u001b[1;32m   1216\u001b[0m \u001b[38;5;66;03m# , \"str\", \"bool\", \"Any\", \"Any\", \"Any\", \"Any\", \"Any\"\u001b[39;00m\n\u001b[0;32m-> 1217\u001b[0m \u001b[38;5;28mself\u001b[39m\u001b[38;5;241m.\u001b[39mhandles \u001b[38;5;241m=\u001b[39m \u001b[43mget_handle\u001b[49m\u001b[43m(\u001b[49m\u001b[43m  \u001b[49m\u001b[38;5;66;43;03m# type: ignore[call-overload]\u001b[39;49;00m\n\u001b[1;32m   1218\u001b[0m \u001b[43m    \u001b[49m\u001b[43mf\u001b[49m\u001b[43m,\u001b[49m\n\u001b[1;32m   1219\u001b[0m \u001b[43m    \u001b[49m\u001b[43mmode\u001b[49m\u001b[43m,\u001b[49m\n\u001b[1;32m   1220\u001b[0m \u001b[43m    \u001b[49m\u001b[43mencoding\u001b[49m\u001b[38;5;241;43m=\u001b[39;49m\u001b[38;5;28;43mself\u001b[39;49m\u001b[38;5;241;43m.\u001b[39;49m\u001b[43moptions\u001b[49m\u001b[38;5;241;43m.\u001b[39;49m\u001b[43mget\u001b[49m\u001b[43m(\u001b[49m\u001b[38;5;124;43m\"\u001b[39;49m\u001b[38;5;124;43mencoding\u001b[39;49m\u001b[38;5;124;43m\"\u001b[39;49m\u001b[43m,\u001b[49m\u001b[43m \u001b[49m\u001b[38;5;28;43;01mNone\u001b[39;49;00m\u001b[43m)\u001b[49m\u001b[43m,\u001b[49m\n\u001b[1;32m   1221\u001b[0m \u001b[43m    \u001b[49m\u001b[43mcompression\u001b[49m\u001b[38;5;241;43m=\u001b[39;49m\u001b[38;5;28;43mself\u001b[39;49m\u001b[38;5;241;43m.\u001b[39;49m\u001b[43moptions\u001b[49m\u001b[38;5;241;43m.\u001b[39;49m\u001b[43mget\u001b[49m\u001b[43m(\u001b[49m\u001b[38;5;124;43m\"\u001b[39;49m\u001b[38;5;124;43mcompression\u001b[39;49m\u001b[38;5;124;43m\"\u001b[39;49m\u001b[43m,\u001b[49m\u001b[43m \u001b[49m\u001b[38;5;28;43;01mNone\u001b[39;49;00m\u001b[43m)\u001b[49m\u001b[43m,\u001b[49m\n\u001b[1;32m   1222\u001b[0m \u001b[43m    \u001b[49m\u001b[43mmemory_map\u001b[49m\u001b[38;5;241;43m=\u001b[39;49m\u001b[38;5;28;43mself\u001b[39;49m\u001b[38;5;241;43m.\u001b[39;49m\u001b[43moptions\u001b[49m\u001b[38;5;241;43m.\u001b[39;49m\u001b[43mget\u001b[49m\u001b[43m(\u001b[49m\u001b[38;5;124;43m\"\u001b[39;49m\u001b[38;5;124;43mmemory_map\u001b[39;49m\u001b[38;5;124;43m\"\u001b[39;49m\u001b[43m,\u001b[49m\u001b[43m \u001b[49m\u001b[38;5;28;43;01mFalse\u001b[39;49;00m\u001b[43m)\u001b[49m\u001b[43m,\u001b[49m\n\u001b[1;32m   1223\u001b[0m \u001b[43m    \u001b[49m\u001b[43mis_text\u001b[49m\u001b[38;5;241;43m=\u001b[39;49m\u001b[43mis_text\u001b[49m\u001b[43m,\u001b[49m\n\u001b[1;32m   1224\u001b[0m \u001b[43m    \u001b[49m\u001b[43merrors\u001b[49m\u001b[38;5;241;43m=\u001b[39;49m\u001b[38;5;28;43mself\u001b[39;49m\u001b[38;5;241;43m.\u001b[39;49m\u001b[43moptions\u001b[49m\u001b[38;5;241;43m.\u001b[39;49m\u001b[43mget\u001b[49m\u001b[43m(\u001b[49m\u001b[38;5;124;43m\"\u001b[39;49m\u001b[38;5;124;43mencoding_errors\u001b[39;49m\u001b[38;5;124;43m\"\u001b[39;49m\u001b[43m,\u001b[49m\u001b[43m \u001b[49m\u001b[38;5;124;43m\"\u001b[39;49m\u001b[38;5;124;43mstrict\u001b[39;49m\u001b[38;5;124;43m\"\u001b[39;49m\u001b[43m)\u001b[49m\u001b[43m,\u001b[49m\n\u001b[1;32m   1225\u001b[0m \u001b[43m    \u001b[49m\u001b[43mstorage_options\u001b[49m\u001b[38;5;241;43m=\u001b[39;49m\u001b[38;5;28;43mself\u001b[39;49m\u001b[38;5;241;43m.\u001b[39;49m\u001b[43moptions\u001b[49m\u001b[38;5;241;43m.\u001b[39;49m\u001b[43mget\u001b[49m\u001b[43m(\u001b[49m\u001b[38;5;124;43m\"\u001b[39;49m\u001b[38;5;124;43mstorage_options\u001b[39;49m\u001b[38;5;124;43m\"\u001b[39;49m\u001b[43m,\u001b[49m\u001b[43m \u001b[49m\u001b[38;5;28;43;01mNone\u001b[39;49;00m\u001b[43m)\u001b[49m\u001b[43m,\u001b[49m\n\u001b[1;32m   1226\u001b[0m \u001b[43m\u001b[49m\u001b[43m)\u001b[49m\n\u001b[1;32m   1227\u001b[0m \u001b[38;5;28;01massert\u001b[39;00m \u001b[38;5;28mself\u001b[39m\u001b[38;5;241m.\u001b[39mhandles \u001b[38;5;129;01mis\u001b[39;00m \u001b[38;5;129;01mnot\u001b[39;00m \u001b[38;5;28;01mNone\u001b[39;00m\n\u001b[1;32m   1228\u001b[0m f \u001b[38;5;241m=\u001b[39m \u001b[38;5;28mself\u001b[39m\u001b[38;5;241m.\u001b[39mhandles\u001b[38;5;241m.\u001b[39mhandle\n",
      "File \u001b[0;32m/Users/argonneed/opt/anaconda3/lib/python3.9/site-packages/pandas/io/common.py:789\u001b[0m, in \u001b[0;36mget_handle\u001b[0;34m(path_or_buf, mode, encoding, compression, memory_map, is_text, errors, storage_options)\u001b[0m\n\u001b[1;32m    784\u001b[0m \u001b[38;5;28;01melif\u001b[39;00m \u001b[38;5;28misinstance\u001b[39m(handle, \u001b[38;5;28mstr\u001b[39m):\n\u001b[1;32m    785\u001b[0m     \u001b[38;5;66;03m# Check whether the filename is to be opened in binary mode.\u001b[39;00m\n\u001b[1;32m    786\u001b[0m     \u001b[38;5;66;03m# Binary mode does not support 'encoding' and 'newline'.\u001b[39;00m\n\u001b[1;32m    787\u001b[0m     \u001b[38;5;28;01mif\u001b[39;00m ioargs\u001b[38;5;241m.\u001b[39mencoding \u001b[38;5;129;01mand\u001b[39;00m \u001b[38;5;124m\"\u001b[39m\u001b[38;5;124mb\u001b[39m\u001b[38;5;124m\"\u001b[39m \u001b[38;5;129;01mnot\u001b[39;00m \u001b[38;5;129;01min\u001b[39;00m ioargs\u001b[38;5;241m.\u001b[39mmode:\n\u001b[1;32m    788\u001b[0m         \u001b[38;5;66;03m# Encoding\u001b[39;00m\n\u001b[0;32m--> 789\u001b[0m         handle \u001b[38;5;241m=\u001b[39m \u001b[38;5;28;43mopen\u001b[39;49m\u001b[43m(\u001b[49m\n\u001b[1;32m    790\u001b[0m \u001b[43m            \u001b[49m\u001b[43mhandle\u001b[49m\u001b[43m,\u001b[49m\n\u001b[1;32m    791\u001b[0m \u001b[43m            \u001b[49m\u001b[43mioargs\u001b[49m\u001b[38;5;241;43m.\u001b[39;49m\u001b[43mmode\u001b[49m\u001b[43m,\u001b[49m\n\u001b[1;32m    792\u001b[0m \u001b[43m            \u001b[49m\u001b[43mencoding\u001b[49m\u001b[38;5;241;43m=\u001b[39;49m\u001b[43mioargs\u001b[49m\u001b[38;5;241;43m.\u001b[39;49m\u001b[43mencoding\u001b[49m\u001b[43m,\u001b[49m\n\u001b[1;32m    793\u001b[0m \u001b[43m            \u001b[49m\u001b[43merrors\u001b[49m\u001b[38;5;241;43m=\u001b[39;49m\u001b[43merrors\u001b[49m\u001b[43m,\u001b[49m\n\u001b[1;32m    794\u001b[0m \u001b[43m            \u001b[49m\u001b[43mnewline\u001b[49m\u001b[38;5;241;43m=\u001b[39;49m\u001b[38;5;124;43m\"\u001b[39;49m\u001b[38;5;124;43m\"\u001b[39;49m\u001b[43m,\u001b[49m\n\u001b[1;32m    795\u001b[0m \u001b[43m        \u001b[49m\u001b[43m)\u001b[49m\n\u001b[1;32m    796\u001b[0m     \u001b[38;5;28;01melse\u001b[39;00m:\n\u001b[1;32m    797\u001b[0m         \u001b[38;5;66;03m# Binary mode\u001b[39;00m\n\u001b[1;32m    798\u001b[0m         handle \u001b[38;5;241m=\u001b[39m \u001b[38;5;28mopen\u001b[39m(handle, ioargs\u001b[38;5;241m.\u001b[39mmode)\n",
      "\u001b[0;31mFileNotFoundError\u001b[0m: [Errno 2] No such file or directory: '<dataset_location>'"
     ]
    }
   ],
   "source": [
    "dataframe_name = pd.read_csv('<dataset_location>')"
   ]
  },
  {
   "cell_type": "markdown",
   "id": "ab93b624-7082-498e-9406-01192963d06a",
   "metadata": {},
   "source": [
    "The `dataset_location` can be a location on your computer, called a \"file path\", or a web address (url). In this notebook, we are running Jupyter on a remote server. In other words, it's like we have our own computer that exists in the cloud. This allows us to use a computer that probably has a lot more memory and computing power than the laptop or chromebook that you may be using now.  \n",
    "\n",
    "Writing the correct file path for your .csv file can be difficult. The best place to start is to determine the \"present working directory\" of this Jupyter notebook. This is the file path of the folder that our notebook \"lives\" in. We use something called a \"magic command\" to do this:"
   ]
  },
  {
   "cell_type": "code",
   "execution_count": null,
   "id": "2e39b9a6-fbb9-42fd-84fb-ab70f37220f2",
   "metadata": {},
   "outputs": [],
   "source": [
    "%pwd"
   ]
  },
  {
   "cell_type": "markdown",
   "id": "7660e719-5f40-442f-b0e4-5a4417f7584e",
   "metadata": {},
   "source": [
    "You can decipher this by looking at the file browser pane to the left. This notebook, `Code_Templates.ipynb` sits in the file path given by `%pwd`. You will notice there is a folder called `Datasets`. If we want to tell Pandas the location of the data, all we need to do is insert the file name of the .csv file into the following. Notice that we don't have to provide the full file path because our present working directory already takes us to the `content` folder."
   ]
  },
  {
   "cell_type": "code",
   "execution_count": null,
   "id": "dce34b56-6fcd-4b37-a968-5b68082899c6",
   "metadata": {},
   "outputs": [],
   "source": [
    "dataframe_name = pd.read_csv('<dataset folder name>/<csv file name>')"
   ]
  },
  {
   "cell_type": "markdown",
   "id": "8e738fa6-a258-4ff1-841f-b3f43822b932",
   "metadata": {},
   "source": [
    "If you double-click the `Datasets` folder, you will see the available .csv files.\n",
    "___"
   ]
  },
  {
   "cell_type": "markdown",
   "id": "6507e1c9-cc43-4941-a925-c6d0394f459a",
   "metadata": {},
   "source": [
    "#### Example\n",
    "\n",
    "Let’s start exploring weather data! Within this notebook, you will learn how to work with the GHCNd dataset. The Global Historical Climatology Network daily (GHCNd) is an integrated database of daily climate summaries from land surface stations across the globe, including Chicago.\n",
    "\n",
    "Read in the `midway.csv` file into a variable called `midway`"
   ]
  },
  {
   "cell_type": "code",
   "execution_count": 4,
   "id": "d5dfbaee-2c41-4704-a587-08dfd60cdd2a",
   "metadata": {},
   "outputs": [
    {
     "data": {
      "text/html": [
       "<div>\n",
       "<style scoped>\n",
       "    .dataframe tbody tr th:only-of-type {\n",
       "        vertical-align: middle;\n",
       "    }\n",
       "\n",
       "    .dataframe tbody tr th {\n",
       "        vertical-align: top;\n",
       "    }\n",
       "\n",
       "    .dataframe thead th {\n",
       "        text-align: right;\n",
       "    }\n",
       "</style>\n",
       "<table border=\"1\" class=\"dataframe\">\n",
       "  <thead>\n",
       "    <tr style=\"text-align: right;\">\n",
       "      <th></th>\n",
       "      <th>STATION</th>\n",
       "      <th>NAME</th>\n",
       "      <th>DATE</th>\n",
       "      <th>PRCP</th>\n",
       "      <th>TMAX</th>\n",
       "      <th>TMIN</th>\n",
       "    </tr>\n",
       "  </thead>\n",
       "  <tbody>\n",
       "    <tr>\n",
       "      <th>0</th>\n",
       "      <td>USC00111577</td>\n",
       "      <td>CHICAGO MIDWAY AIRPORT 3 SW, IL US</td>\n",
       "      <td>1928-02-29</td>\n",
       "      <td>0.0</td>\n",
       "      <td>3.9</td>\n",
       "      <td>-2.8</td>\n",
       "    </tr>\n",
       "    <tr>\n",
       "      <th>1</th>\n",
       "      <td>USC00111577</td>\n",
       "      <td>CHICAGO MIDWAY AIRPORT 3 SW, IL US</td>\n",
       "      <td>1928-03-01</td>\n",
       "      <td>0.0</td>\n",
       "      <td>2.2</td>\n",
       "      <td>-6.7</td>\n",
       "    </tr>\n",
       "    <tr>\n",
       "      <th>2</th>\n",
       "      <td>USC00111577</td>\n",
       "      <td>CHICAGO MIDWAY AIRPORT 3 SW, IL US</td>\n",
       "      <td>1928-03-02</td>\n",
       "      <td>0.0</td>\n",
       "      <td>5.6</td>\n",
       "      <td>-3.9</td>\n",
       "    </tr>\n",
       "    <tr>\n",
       "      <th>3</th>\n",
       "      <td>USC00111577</td>\n",
       "      <td>CHICAGO MIDWAY AIRPORT 3 SW, IL US</td>\n",
       "      <td>1928-03-03</td>\n",
       "      <td>0.0</td>\n",
       "      <td>2.8</td>\n",
       "      <td>-9.4</td>\n",
       "    </tr>\n",
       "    <tr>\n",
       "      <th>4</th>\n",
       "      <td>USC00111577</td>\n",
       "      <td>CHICAGO MIDWAY AIRPORT 3 SW, IL US</td>\n",
       "      <td>1928-03-04</td>\n",
       "      <td>0.0</td>\n",
       "      <td>5.0</td>\n",
       "      <td>-8.9</td>\n",
       "    </tr>\n",
       "    <tr>\n",
       "      <th>...</th>\n",
       "      <td>...</td>\n",
       "      <td>...</td>\n",
       "      <td>...</td>\n",
       "      <td>...</td>\n",
       "      <td>...</td>\n",
       "      <td>...</td>\n",
       "    </tr>\n",
       "    <tr>\n",
       "      <th>33412</th>\n",
       "      <td>USC00111577</td>\n",
       "      <td>CHICAGO MIDWAY AIRPORT 3 SW, IL US</td>\n",
       "      <td>2023-06-13</td>\n",
       "      <td>NaN</td>\n",
       "      <td>19.4</td>\n",
       "      <td>13.3</td>\n",
       "    </tr>\n",
       "    <tr>\n",
       "      <th>33413</th>\n",
       "      <td>USC00111577</td>\n",
       "      <td>CHICAGO MIDWAY AIRPORT 3 SW, IL US</td>\n",
       "      <td>2023-06-14</td>\n",
       "      <td>0.0</td>\n",
       "      <td>22.8</td>\n",
       "      <td>15.0</td>\n",
       "    </tr>\n",
       "    <tr>\n",
       "      <th>33414</th>\n",
       "      <td>USC00111577</td>\n",
       "      <td>CHICAGO MIDWAY AIRPORT 3 SW, IL US</td>\n",
       "      <td>2023-06-15</td>\n",
       "      <td>0.0</td>\n",
       "      <td>28.3</td>\n",
       "      <td>12.2</td>\n",
       "    </tr>\n",
       "    <tr>\n",
       "      <th>33415</th>\n",
       "      <td>USC00111577</td>\n",
       "      <td>CHICAGO MIDWAY AIRPORT 3 SW, IL US</td>\n",
       "      <td>2023-06-16</td>\n",
       "      <td>0.0</td>\n",
       "      <td>20.0</td>\n",
       "      <td>12.2</td>\n",
       "    </tr>\n",
       "    <tr>\n",
       "      <th>33416</th>\n",
       "      <td>USC00111577</td>\n",
       "      <td>CHICAGO MIDWAY AIRPORT 3 SW, IL US</td>\n",
       "      <td>2023-06-17</td>\n",
       "      <td>0.0</td>\n",
       "      <td>26.1</td>\n",
       "      <td>11.1</td>\n",
       "    </tr>\n",
       "  </tbody>\n",
       "</table>\n",
       "<p>33417 rows × 6 columns</p>\n",
       "</div>"
      ],
      "text/plain": [
       "           STATION                                NAME        DATE  PRCP  \\\n",
       "0      USC00111577  CHICAGO MIDWAY AIRPORT 3 SW, IL US  1928-02-29   0.0   \n",
       "1      USC00111577  CHICAGO MIDWAY AIRPORT 3 SW, IL US  1928-03-01   0.0   \n",
       "2      USC00111577  CHICAGO MIDWAY AIRPORT 3 SW, IL US  1928-03-02   0.0   \n",
       "3      USC00111577  CHICAGO MIDWAY AIRPORT 3 SW, IL US  1928-03-03   0.0   \n",
       "4      USC00111577  CHICAGO MIDWAY AIRPORT 3 SW, IL US  1928-03-04   0.0   \n",
       "...            ...                                 ...         ...   ...   \n",
       "33412  USC00111577  CHICAGO MIDWAY AIRPORT 3 SW, IL US  2023-06-13   NaN   \n",
       "33413  USC00111577  CHICAGO MIDWAY AIRPORT 3 SW, IL US  2023-06-14   0.0   \n",
       "33414  USC00111577  CHICAGO MIDWAY AIRPORT 3 SW, IL US  2023-06-15   0.0   \n",
       "33415  USC00111577  CHICAGO MIDWAY AIRPORT 3 SW, IL US  2023-06-16   0.0   \n",
       "33416  USC00111577  CHICAGO MIDWAY AIRPORT 3 SW, IL US  2023-06-17   0.0   \n",
       "\n",
       "       TMAX  TMIN  \n",
       "0       3.9  -2.8  \n",
       "1       2.2  -6.7  \n",
       "2       5.6  -3.9  \n",
       "3       2.8  -9.4  \n",
       "4       5.0  -8.9  \n",
       "...     ...   ...  \n",
       "33412  19.4  13.3  \n",
       "33413  22.8  15.0  \n",
       "33414  28.3  12.2  \n",
       "33415  20.0  12.2  \n",
       "33416  26.1  11.1  \n",
       "\n",
       "[33417 rows x 6 columns]"
      ]
     },
     "execution_count": 4,
     "metadata": {},
     "output_type": "execute_result"
    }
   ],
   "source": [
    "midway = pd.read_csv('Datasets/midway.csv')\n",
    "midway"
   ]
  },
  {
   "cell_type": "markdown",
   "id": "edb70c4a-18a1-46ec-af82-45b874998846",
   "metadata": {},
   "source": [
    "\n",
    "# Cleaning Data\n",
    "___\n",
    "\n",
    "Next we’re going to clean up the data. A raw dataset can be very messy. Data may be labeled strangely, formatted incorrectly or missing altogether. When we \"clean\" data, we are fixing these problems with the goal of creating a new dataset that is easier to work with."
   ]
  },
  {
   "cell_type": "markdown",
   "id": "255eee5a-b834-4361-9604-2731335948e0",
   "metadata": {},
   "source": [
    "## Renaming Columns\n",
    "\n",
    "Sometimes the original column names are confusing. You can change them by setting a list of new column names to `data.columns`"
   ]
  },
  {
   "cell_type": "code",
   "execution_count": 5,
   "id": "a63b6e44-68d8-4b06-bb35-cc49e8354350",
   "metadata": {},
   "outputs": [
    {
     "ename": "NameError",
     "evalue": "name 'dataframe_name' is not defined",
     "output_type": "error",
     "traceback": [
      "\u001b[0;31m---------------------------------------------------------------------------\u001b[0m",
      "\u001b[0;31mNameError\u001b[0m                                 Traceback (most recent call last)",
      "Input \u001b[0;32mIn [5]\u001b[0m, in \u001b[0;36m<cell line: 1>\u001b[0;34m()\u001b[0m\n\u001b[0;32m----> 1\u001b[0m \u001b[43mdataframe_name\u001b[49m\u001b[38;5;241m.\u001b[39mcolumns \u001b[38;5;241m=\u001b[39m [\u001b[38;5;124m'\u001b[39m\u001b[38;5;124mcolumn_1_name\u001b[39m\u001b[38;5;124m'\u001b[39m, \u001b[38;5;124m'\u001b[39m\u001b[38;5;124mcolumn_2_name\u001b[39m\u001b[38;5;124m'\u001b[39m, \u001b[38;5;241m.\u001b[39m\u001b[38;5;241m.\u001b[39m\u001b[38;5;241m.\u001b[39m]\n",
      "\u001b[0;31mNameError\u001b[0m: name 'dataframe_name' is not defined"
     ]
    }
   ],
   "source": [
    "dataframe_name.columns = ['column_1_name', 'column_2_name', ...]"
   ]
  },
  {
   "cell_type": "markdown",
   "id": "45836bfa-f4a6-4ad7-9082-4f4efc145677",
   "metadata": {},
   "source": [
    "It is important to be consistent in how you name columns. Here are a few recommendations:\n",
    "\n",
    "- Continue using `snake_case`. Capitalization in variable and column names is a detail that students often miss.\n",
    "- Choose column names that are both short and descriptive. Students should immediately know what the name means.\n"
   ]
  },
  {
   "cell_type": "markdown",
   "id": "d2369248-ddda-4495-a7bf-39f12c48ff78",
   "metadata": {},
   "source": [
    "In this dataset, the column names are in all caps which will be difficult to type. Also, we may be able to figure out what `PRCP`, `TMAX` and `TMIN` mean, but there is a good chance the student may not. Therefore, we can make the columns names a little easier to interpret and type."
   ]
  },
  {
   "cell_type": "markdown",
   "id": "c86f2bfa-f772-4fc9-9b3d-458e1e356dab",
   "metadata": {},
   "source": [
    "Also, some of these column names could include the units. As can probably be inferred, the temperatures are in Celsius. However, `precip` is unclear. This is where the [documentation](https://www.ncei.noaa.gov/pub/data/cdo/documentation/GHCND_documentation.pdf) for the data source is important. In this case, precipitation is measured in millimeters (mm)."
   ]
  },
  {
   "cell_type": "markdown",
   "id": "d29a2347-667b-494f-8b58-f534ce769964",
   "metadata": {
    "tags": []
   },
   "source": [
    "#### Example\n",
    "\n",
    "Let's make the column names more intuitive and add the united to the measurements.\n",
    "\n",
    "Rename `PRCP` as `precil_mm`, `TMAX` as `high_temp_C`, and `TMIN` as `low_temp_C`:"
   ]
  },
  {
   "cell_type": "code",
   "execution_count": 6,
   "id": "d48a62bf-c3c5-45e8-82cc-12bac9deb836",
   "metadata": {},
   "outputs": [
    {
     "data": {
      "text/html": [
       "<div>\n",
       "<style scoped>\n",
       "    .dataframe tbody tr th:only-of-type {\n",
       "        vertical-align: middle;\n",
       "    }\n",
       "\n",
       "    .dataframe tbody tr th {\n",
       "        vertical-align: top;\n",
       "    }\n",
       "\n",
       "    .dataframe thead th {\n",
       "        text-align: right;\n",
       "    }\n",
       "</style>\n",
       "<table border=\"1\" class=\"dataframe\">\n",
       "  <thead>\n",
       "    <tr style=\"text-align: right;\">\n",
       "      <th></th>\n",
       "      <th>station</th>\n",
       "      <th>name</th>\n",
       "      <th>date</th>\n",
       "      <th>precip_mm</th>\n",
       "      <th>high_temp_C</th>\n",
       "      <th>low_temp_C</th>\n",
       "    </tr>\n",
       "  </thead>\n",
       "  <tbody>\n",
       "    <tr>\n",
       "      <th>0</th>\n",
       "      <td>USC00111577</td>\n",
       "      <td>CHICAGO MIDWAY AIRPORT 3 SW, IL US</td>\n",
       "      <td>1928-02-29</td>\n",
       "      <td>0.0</td>\n",
       "      <td>3.9</td>\n",
       "      <td>-2.8</td>\n",
       "    </tr>\n",
       "    <tr>\n",
       "      <th>1</th>\n",
       "      <td>USC00111577</td>\n",
       "      <td>CHICAGO MIDWAY AIRPORT 3 SW, IL US</td>\n",
       "      <td>1928-03-01</td>\n",
       "      <td>0.0</td>\n",
       "      <td>2.2</td>\n",
       "      <td>-6.7</td>\n",
       "    </tr>\n",
       "    <tr>\n",
       "      <th>2</th>\n",
       "      <td>USC00111577</td>\n",
       "      <td>CHICAGO MIDWAY AIRPORT 3 SW, IL US</td>\n",
       "      <td>1928-03-02</td>\n",
       "      <td>0.0</td>\n",
       "      <td>5.6</td>\n",
       "      <td>-3.9</td>\n",
       "    </tr>\n",
       "    <tr>\n",
       "      <th>3</th>\n",
       "      <td>USC00111577</td>\n",
       "      <td>CHICAGO MIDWAY AIRPORT 3 SW, IL US</td>\n",
       "      <td>1928-03-03</td>\n",
       "      <td>0.0</td>\n",
       "      <td>2.8</td>\n",
       "      <td>-9.4</td>\n",
       "    </tr>\n",
       "    <tr>\n",
       "      <th>4</th>\n",
       "      <td>USC00111577</td>\n",
       "      <td>CHICAGO MIDWAY AIRPORT 3 SW, IL US</td>\n",
       "      <td>1928-03-04</td>\n",
       "      <td>0.0</td>\n",
       "      <td>5.0</td>\n",
       "      <td>-8.9</td>\n",
       "    </tr>\n",
       "  </tbody>\n",
       "</table>\n",
       "</div>"
      ],
      "text/plain": [
       "       station                                name        date  precip_mm  \\\n",
       "0  USC00111577  CHICAGO MIDWAY AIRPORT 3 SW, IL US  1928-02-29        0.0   \n",
       "1  USC00111577  CHICAGO MIDWAY AIRPORT 3 SW, IL US  1928-03-01        0.0   \n",
       "2  USC00111577  CHICAGO MIDWAY AIRPORT 3 SW, IL US  1928-03-02        0.0   \n",
       "3  USC00111577  CHICAGO MIDWAY AIRPORT 3 SW, IL US  1928-03-03        0.0   \n",
       "4  USC00111577  CHICAGO MIDWAY AIRPORT 3 SW, IL US  1928-03-04        0.0   \n",
       "\n",
       "   high_temp_C  low_temp_C  \n",
       "0          3.9        -2.8  \n",
       "1          2.2        -6.7  \n",
       "2          5.6        -3.9  \n",
       "3          2.8        -9.4  \n",
       "4          5.0        -8.9  "
      ]
     },
     "execution_count": 6,
     "metadata": {},
     "output_type": "execute_result"
    }
   ],
   "source": [
    "midway.columns = ['station', 'name', 'date', 'precip_mm', 'high_temp_C', 'low_temp_C']\n",
    "midway.head()"
   ]
  },
  {
   "cell_type": "markdown",
   "id": "cd31eee8-b589-421f-ae8b-95be6dc38c36",
   "metadata": {},
   "source": [
    "## Converting to Datetime\n",
    "\n",
    "Dates and time can be confusing when coding because the computer needs to use a specific data type to work with, called **datetime**. Datetime allows us to sort and select entries in the dataset and make plots (charts) showing how a variable changes with time. However, you cannot assume that just because data looks like a date, that the computer sees it that way.\n",
    "\n",
    "It is often helpful to use Python's built-in `type` function to check the data type;"
   ]
  },
  {
   "cell_type": "code",
   "execution_count": null,
   "id": "63d1ef68-fb71-46f9-9dd2-16463544e592",
   "metadata": {},
   "outputs": [],
   "source": [
    "type(<location_of_data>)"
   ]
  },
  {
   "cell_type": "markdown",
   "id": "c3b19de5-6b35-4033-9d04-8762d5e0b5e4",
   "metadata": {},
   "source": [
    "#### Example"
   ]
  },
  {
   "cell_type": "code",
   "execution_count": 7,
   "id": "0ab2c87b-8d3b-4dee-8e0e-67913e52cd36",
   "metadata": {},
   "outputs": [
    {
     "data": {
      "text/plain": [
       "str"
      ]
     },
     "execution_count": 7,
     "metadata": {},
     "output_type": "execute_result"
    }
   ],
   "source": [
    "type(midway.loc[0, 'date'])  # .loc[0, 'date'] tells the computer to only look at the first row of the 'date' column"
   ]
  },
  {
   "cell_type": "markdown",
   "id": "538455aa-9b15-44e0-87ac-ccf19b3834c7",
   "metadata": {},
   "source": [
    "To the computer, a string is simply a piece of text. It does not have any useful mathematical meaning. Fortunately, Pandas has a function called `to_datetime` that converts dates and times into the datetime data type. Notice below that we reference a column in a dataframe with the following syntax: `dataframe_name['column_name']`"
   ]
  },
  {
   "cell_type": "code",
   "execution_count": 8,
   "id": "2b7ffb37-97a3-4188-a4ff-d530cf406d1d",
   "metadata": {},
   "outputs": [
    {
     "data": {
      "text/html": [
       "<div>\n",
       "<style scoped>\n",
       "    .dataframe tbody tr th:only-of-type {\n",
       "        vertical-align: middle;\n",
       "    }\n",
       "\n",
       "    .dataframe tbody tr th {\n",
       "        vertical-align: top;\n",
       "    }\n",
       "\n",
       "    .dataframe thead th {\n",
       "        text-align: right;\n",
       "    }\n",
       "</style>\n",
       "<table border=\"1\" class=\"dataframe\">\n",
       "  <thead>\n",
       "    <tr style=\"text-align: right;\">\n",
       "      <th></th>\n",
       "      <th>station</th>\n",
       "      <th>name</th>\n",
       "      <th>date</th>\n",
       "      <th>precip_mm</th>\n",
       "      <th>high_temp_C</th>\n",
       "      <th>low_temp_C</th>\n",
       "    </tr>\n",
       "  </thead>\n",
       "  <tbody>\n",
       "    <tr>\n",
       "      <th>0</th>\n",
       "      <td>USC00111577</td>\n",
       "      <td>CHICAGO MIDWAY AIRPORT 3 SW, IL US</td>\n",
       "      <td>1928-02-29</td>\n",
       "      <td>0.0</td>\n",
       "      <td>3.9</td>\n",
       "      <td>-2.8</td>\n",
       "    </tr>\n",
       "    <tr>\n",
       "      <th>1</th>\n",
       "      <td>USC00111577</td>\n",
       "      <td>CHICAGO MIDWAY AIRPORT 3 SW, IL US</td>\n",
       "      <td>1928-03-01</td>\n",
       "      <td>0.0</td>\n",
       "      <td>2.2</td>\n",
       "      <td>-6.7</td>\n",
       "    </tr>\n",
       "    <tr>\n",
       "      <th>2</th>\n",
       "      <td>USC00111577</td>\n",
       "      <td>CHICAGO MIDWAY AIRPORT 3 SW, IL US</td>\n",
       "      <td>1928-03-02</td>\n",
       "      <td>0.0</td>\n",
       "      <td>5.6</td>\n",
       "      <td>-3.9</td>\n",
       "    </tr>\n",
       "    <tr>\n",
       "      <th>3</th>\n",
       "      <td>USC00111577</td>\n",
       "      <td>CHICAGO MIDWAY AIRPORT 3 SW, IL US</td>\n",
       "      <td>1928-03-03</td>\n",
       "      <td>0.0</td>\n",
       "      <td>2.8</td>\n",
       "      <td>-9.4</td>\n",
       "    </tr>\n",
       "    <tr>\n",
       "      <th>4</th>\n",
       "      <td>USC00111577</td>\n",
       "      <td>CHICAGO MIDWAY AIRPORT 3 SW, IL US</td>\n",
       "      <td>1928-03-04</td>\n",
       "      <td>0.0</td>\n",
       "      <td>5.0</td>\n",
       "      <td>-8.9</td>\n",
       "    </tr>\n",
       "  </tbody>\n",
       "</table>\n",
       "</div>"
      ],
      "text/plain": [
       "       station                                name       date  precip_mm  \\\n",
       "0  USC00111577  CHICAGO MIDWAY AIRPORT 3 SW, IL US 1928-02-29        0.0   \n",
       "1  USC00111577  CHICAGO MIDWAY AIRPORT 3 SW, IL US 1928-03-01        0.0   \n",
       "2  USC00111577  CHICAGO MIDWAY AIRPORT 3 SW, IL US 1928-03-02        0.0   \n",
       "3  USC00111577  CHICAGO MIDWAY AIRPORT 3 SW, IL US 1928-03-03        0.0   \n",
       "4  USC00111577  CHICAGO MIDWAY AIRPORT 3 SW, IL US 1928-03-04        0.0   \n",
       "\n",
       "   high_temp_C  low_temp_C  \n",
       "0          3.9        -2.8  \n",
       "1          2.2        -6.7  \n",
       "2          5.6        -3.9  \n",
       "3          2.8        -9.4  \n",
       "4          5.0        -8.9  "
      ]
     },
     "execution_count": 8,
     "metadata": {},
     "output_type": "execute_result"
    }
   ],
   "source": [
    "midway['date'] = pd.to_datetime(midway['date']) # converts the entire 'date' column to datetime\n",
    "midway.head()"
   ]
  },
  {
   "cell_type": "markdown",
   "id": "e853b2bd-3516-405c-9fcb-809b160b097b",
   "metadata": {},
   "source": [
    "Notice the dates look the same. However, let's check the data type again."
   ]
  },
  {
   "cell_type": "code",
   "execution_count": 9,
   "id": "be9acad2-951e-4d0f-be2b-86f459bd552f",
   "metadata": {},
   "outputs": [
    {
     "data": {
      "text/plain": [
       "pandas._libs.tslibs.timestamps.Timestamp"
      ]
     },
     "execution_count": 9,
     "metadata": {},
     "output_type": "execute_result"
    }
   ],
   "source": [
    "type(midway.loc[0, 'date'])"
   ]
  },
  {
   "cell_type": "markdown",
   "id": "a722b1f0-67ed-4f99-9aa1-d905ffe8abb2",
   "metadata": {},
   "source": [
    "## Setting the Index\n",
    "\n",
    "The **index** is how the data is ordered. In a dataframe, the index is the first column and is in bold. By default, the index starts at 0 and increases by whole numbers. However, when we work with data that has been measured by time, we will usually want time to be our index.\n",
    "\n",
    "We can make one of our columns the index using the `set_index` function:"
   ]
  },
  {
   "cell_type": "code",
   "execution_count": null,
   "id": "74ab0b9b-90fa-425b-8336-09c88b715bb5",
   "metadata": {},
   "outputs": [],
   "source": [
    "dataframe_name = dataframe_name.set_index('<column that you want to become index>')"
   ]
  },
  {
   "cell_type": "markdown",
   "id": "d82dcaa9-1dbd-4aa3-9c81-df346d144eae",
   "metadata": {},
   "source": [
    "#### Example\n",
    "\n",
    "Set the `date` column as the index:"
   ]
  },
  {
   "cell_type": "code",
   "execution_count": 10,
   "id": "d3239222-6156-4319-ad92-95af86421da6",
   "metadata": {
    "tags": []
   },
   "outputs": [
    {
     "data": {
      "text/html": [
       "<div>\n",
       "<style scoped>\n",
       "    .dataframe tbody tr th:only-of-type {\n",
       "        vertical-align: middle;\n",
       "    }\n",
       "\n",
       "    .dataframe tbody tr th {\n",
       "        vertical-align: top;\n",
       "    }\n",
       "\n",
       "    .dataframe thead th {\n",
       "        text-align: right;\n",
       "    }\n",
       "</style>\n",
       "<table border=\"1\" class=\"dataframe\">\n",
       "  <thead>\n",
       "    <tr style=\"text-align: right;\">\n",
       "      <th></th>\n",
       "      <th>station</th>\n",
       "      <th>name</th>\n",
       "      <th>precip_mm</th>\n",
       "      <th>high_temp_C</th>\n",
       "      <th>low_temp_C</th>\n",
       "    </tr>\n",
       "    <tr>\n",
       "      <th>date</th>\n",
       "      <th></th>\n",
       "      <th></th>\n",
       "      <th></th>\n",
       "      <th></th>\n",
       "      <th></th>\n",
       "    </tr>\n",
       "  </thead>\n",
       "  <tbody>\n",
       "    <tr>\n",
       "      <th>1928-02-29</th>\n",
       "      <td>USC00111577</td>\n",
       "      <td>CHICAGO MIDWAY AIRPORT 3 SW, IL US</td>\n",
       "      <td>0.0</td>\n",
       "      <td>3.9</td>\n",
       "      <td>-2.8</td>\n",
       "    </tr>\n",
       "    <tr>\n",
       "      <th>1928-03-01</th>\n",
       "      <td>USC00111577</td>\n",
       "      <td>CHICAGO MIDWAY AIRPORT 3 SW, IL US</td>\n",
       "      <td>0.0</td>\n",
       "      <td>2.2</td>\n",
       "      <td>-6.7</td>\n",
       "    </tr>\n",
       "    <tr>\n",
       "      <th>1928-03-02</th>\n",
       "      <td>USC00111577</td>\n",
       "      <td>CHICAGO MIDWAY AIRPORT 3 SW, IL US</td>\n",
       "      <td>0.0</td>\n",
       "      <td>5.6</td>\n",
       "      <td>-3.9</td>\n",
       "    </tr>\n",
       "    <tr>\n",
       "      <th>1928-03-03</th>\n",
       "      <td>USC00111577</td>\n",
       "      <td>CHICAGO MIDWAY AIRPORT 3 SW, IL US</td>\n",
       "      <td>0.0</td>\n",
       "      <td>2.8</td>\n",
       "      <td>-9.4</td>\n",
       "    </tr>\n",
       "    <tr>\n",
       "      <th>1928-03-04</th>\n",
       "      <td>USC00111577</td>\n",
       "      <td>CHICAGO MIDWAY AIRPORT 3 SW, IL US</td>\n",
       "      <td>0.0</td>\n",
       "      <td>5.0</td>\n",
       "      <td>-8.9</td>\n",
       "    </tr>\n",
       "  </tbody>\n",
       "</table>\n",
       "</div>"
      ],
      "text/plain": [
       "                station                                name  precip_mm  \\\n",
       "date                                                                     \n",
       "1928-02-29  USC00111577  CHICAGO MIDWAY AIRPORT 3 SW, IL US        0.0   \n",
       "1928-03-01  USC00111577  CHICAGO MIDWAY AIRPORT 3 SW, IL US        0.0   \n",
       "1928-03-02  USC00111577  CHICAGO MIDWAY AIRPORT 3 SW, IL US        0.0   \n",
       "1928-03-03  USC00111577  CHICAGO MIDWAY AIRPORT 3 SW, IL US        0.0   \n",
       "1928-03-04  USC00111577  CHICAGO MIDWAY AIRPORT 3 SW, IL US        0.0   \n",
       "\n",
       "            high_temp_C  low_temp_C  \n",
       "date                                 \n",
       "1928-02-29          3.9        -2.8  \n",
       "1928-03-01          2.2        -6.7  \n",
       "1928-03-02          5.6        -3.9  \n",
       "1928-03-03          2.8        -9.4  \n",
       "1928-03-04          5.0        -8.9  "
      ]
     },
     "execution_count": 10,
     "metadata": {},
     "output_type": "execute_result"
    }
   ],
   "source": [
    "midway = midway.set_index('date')\n",
    "midway.head()"
   ]
  },
  {
   "cell_type": "markdown",
   "id": "763d9ace-a8bd-448a-b8c7-e4ff16002970",
   "metadata": {},
   "source": [
    "While a little tedious, changing the index to datetime is necessary for us to explore how the data changes with respect to time."
   ]
  },
  {
   "cell_type": "markdown",
   "id": "5b5ecf97-460f-44af-aeaa-d7347a4a0646",
   "metadata": {},
   "source": [
    "## Filtering Columns\n",
    "\n",
    "Often, the original data contains more information than needed. Therefore, creating new dataframes that only contain the columns that will be used moving forward is a good idea."
   ]
  },
  {
   "cell_type": "code",
   "execution_count": null,
   "id": "37c3068a-54ac-4a89-9f8e-134ea0fa8322",
   "metadata": {},
   "outputs": [],
   "source": [
    "new_dataframe_name = old_dataframe_name[['new_column_1', 'new_column_2', ...]]"
   ]
  },
  {
   "cell_type": "markdown",
   "id": "39d9e21e-2ea4-4fd7-83fe-d0c82e1ac47f",
   "metadata": {},
   "source": [
    "The double brackets, `[[`,  are confusing. If we were filtering just one column, we would use a single bracket, `[`. However, if you want to filter mutiple columns, you must pass a list inside the first set of brackets."
   ]
  },
  {
   "cell_type": "markdown",
   "id": "bba52ac4-2df8-416b-9460-47d6745b210b",
   "metadata": {
    "tags": []
   },
   "source": [
    "#### Example"
   ]
  },
  {
   "cell_type": "markdown",
   "id": "1a237e61-431d-462d-9f02-8303be588248",
   "metadata": {},
   "source": [
    "Let's focus on just the high and low temperatures.\n",
    "\n",
    "Create a new dataframe called `filtered_midway` that contains only the `high_temp_C` and `low_temp_C` columns:"
   ]
  },
  {
   "cell_type": "code",
   "execution_count": 11,
   "id": "2b4b03ea-9d66-483f-af29-d71d028ef2d4",
   "metadata": {},
   "outputs": [
    {
     "data": {
      "text/html": [
       "<div>\n",
       "<style scoped>\n",
       "    .dataframe tbody tr th:only-of-type {\n",
       "        vertical-align: middle;\n",
       "    }\n",
       "\n",
       "    .dataframe tbody tr th {\n",
       "        vertical-align: top;\n",
       "    }\n",
       "\n",
       "    .dataframe thead th {\n",
       "        text-align: right;\n",
       "    }\n",
       "</style>\n",
       "<table border=\"1\" class=\"dataframe\">\n",
       "  <thead>\n",
       "    <tr style=\"text-align: right;\">\n",
       "      <th></th>\n",
       "      <th>high_temp_C</th>\n",
       "      <th>low_temp_C</th>\n",
       "    </tr>\n",
       "    <tr>\n",
       "      <th>date</th>\n",
       "      <th></th>\n",
       "      <th></th>\n",
       "    </tr>\n",
       "  </thead>\n",
       "  <tbody>\n",
       "    <tr>\n",
       "      <th>1928-02-29</th>\n",
       "      <td>3.9</td>\n",
       "      <td>-2.8</td>\n",
       "    </tr>\n",
       "    <tr>\n",
       "      <th>1928-03-01</th>\n",
       "      <td>2.2</td>\n",
       "      <td>-6.7</td>\n",
       "    </tr>\n",
       "    <tr>\n",
       "      <th>1928-03-02</th>\n",
       "      <td>5.6</td>\n",
       "      <td>-3.9</td>\n",
       "    </tr>\n",
       "    <tr>\n",
       "      <th>1928-03-03</th>\n",
       "      <td>2.8</td>\n",
       "      <td>-9.4</td>\n",
       "    </tr>\n",
       "    <tr>\n",
       "      <th>1928-03-04</th>\n",
       "      <td>5.0</td>\n",
       "      <td>-8.9</td>\n",
       "    </tr>\n",
       "  </tbody>\n",
       "</table>\n",
       "</div>"
      ],
      "text/plain": [
       "            high_temp_C  low_temp_C\n",
       "date                               \n",
       "1928-02-29          3.9        -2.8\n",
       "1928-03-01          2.2        -6.7\n",
       "1928-03-02          5.6        -3.9\n",
       "1928-03-03          2.8        -9.4\n",
       "1928-03-04          5.0        -8.9"
      ]
     },
     "execution_count": 11,
     "metadata": {},
     "output_type": "execute_result"
    }
   ],
   "source": [
    "filtered_midway = midway[['high_temp_C', 'low_temp_C']]\n",
    "filtered_midway.head()"
   ]
  },
  {
   "cell_type": "markdown",
   "id": "e85251c1-5dbc-49f6-9a98-880e544ea001",
   "metadata": {},
   "source": [
    "Notice that we assigned this smaller dataset to a new variable, `filtered_midway`. This preserves the original dataframe in the `midway` variable so we can access it, if needed."
   ]
  },
  {
   "cell_type": "markdown",
   "id": "08213172-c5ad-4ad0-b342-1219b78cfac7",
   "metadata": {},
   "source": [
    "### Generating New Data\n",
    "While the data may be in a much better state than what we started with, it is often necessary to create new data using the existing dataset for a variety of reasons. Perhaps the a outcome variabnle needs to be normalized or the units converted. "
   ]
  },
  {
   "cell_type": "markdown",
   "id": "ee12d671-50c8-4530-b2d2-89917df59df1",
   "metadata": {
    "tags": []
   },
   "source": [
    "These calculations are often written as **functions** that take one or more inputs (known as parameters) and output or \"return\" a value."
   ]
  },
  {
   "cell_type": "code",
   "execution_count": null,
   "id": "6799fcb7-52e7-48b6-b8a3-9cb03aa78db7",
   "metadata": {},
   "outputs": [],
   "source": [
    "def function_name(parameter_1, parameter_2, ...):\n",
    "    # insert calculation here using the inputs as variables\n",
    "    return output_variable"
   ]
  },
  {
   "cell_type": "markdown",
   "id": "08411f11-ac9e-408b-aa6b-1370c2897736",
   "metadata": {
    "tags": []
   },
   "source": [
    "#### Example"
   ]
  },
  {
   "cell_type": "markdown",
   "id": "f19e65b4-60e6-4801-903a-e0104644c0fb",
   "metadata": {},
   "source": [
    "While we often encourage students to use the metric system, their intuition of \"hot\" and \"cold\" temperature is based on the imperial system. Therefore, we can convert the temperatures to Fahrenheit. \n",
    "\n",
    "Because the Celsius to Fahrenheit calculation needs to be done many times, we can define a function.\n",
    "\n",
    "Define a function called `cel_to_far` that takes an input, `temp_C` and returns `temp_F`:"
   ]
  },
  {
   "cell_type": "code",
   "execution_count": 12,
   "id": "9ce41e88-54d3-404a-abc2-7f7dc5536aec",
   "metadata": {},
   "outputs": [],
   "source": [
    "def cel_to_fahr(temp_C):\n",
    "    temp_F = (temp_C * 9/5) + 32 \n",
    "    return temp_F"
   ]
  },
  {
   "cell_type": "markdown",
   "id": "21589479-4d71-4966-a02e-b0631e98ec5c",
   "metadata": {},
   "source": [
    "Defining the function doesn't appear to do anything, but we have actually taught the computer how to take an input, `temp_C`, and give us an output, `temp_F`."
   ]
  },
  {
   "cell_type": "code",
   "execution_count": 13,
   "id": "ae6c21e5-a6cc-4caa-9178-20ac79eeddcd",
   "metadata": {},
   "outputs": [
    {
     "data": {
      "text/plain": [
       "68.0"
      ]
     },
     "execution_count": 13,
     "metadata": {},
     "output_type": "execute_result"
    }
   ],
   "source": [
    "cel_to_fahr(20)"
   ]
  },
  {
   "cell_type": "markdown",
   "id": "daace72b-0ccc-4d4f-b497-e7dce23338c2",
   "metadata": {},
   "source": [
    "Here is where Pandas is really powerful. If we want to convert all of our Celsius temperatures to Fahrenheit, we have to repeat the calculation over 33,000 times! Fortunately, we only need to tell the computer once by putting the column we want to convert into the function. \n",
    "\n",
    "In the following example, we are placing the output of the function into a new column called `high_temp_F`"
   ]
  },
  {
   "cell_type": "code",
   "execution_count": 14,
   "id": "159e3642-e9ee-415e-afb8-2721052cecaf",
   "metadata": {},
   "outputs": [
    {
     "data": {
      "text/html": [
       "<div>\n",
       "<style scoped>\n",
       "    .dataframe tbody tr th:only-of-type {\n",
       "        vertical-align: middle;\n",
       "    }\n",
       "\n",
       "    .dataframe tbody tr th {\n",
       "        vertical-align: top;\n",
       "    }\n",
       "\n",
       "    .dataframe thead th {\n",
       "        text-align: right;\n",
       "    }\n",
       "</style>\n",
       "<table border=\"1\" class=\"dataframe\">\n",
       "  <thead>\n",
       "    <tr style=\"text-align: right;\">\n",
       "      <th></th>\n",
       "      <th>high_temp_C</th>\n",
       "      <th>low_temp_C</th>\n",
       "      <th>high_temp_F</th>\n",
       "    </tr>\n",
       "    <tr>\n",
       "      <th>date</th>\n",
       "      <th></th>\n",
       "      <th></th>\n",
       "      <th></th>\n",
       "    </tr>\n",
       "  </thead>\n",
       "  <tbody>\n",
       "    <tr>\n",
       "      <th>1928-02-29</th>\n",
       "      <td>3.9</td>\n",
       "      <td>-2.8</td>\n",
       "      <td>39.02</td>\n",
       "    </tr>\n",
       "    <tr>\n",
       "      <th>1928-03-01</th>\n",
       "      <td>2.2</td>\n",
       "      <td>-6.7</td>\n",
       "      <td>35.96</td>\n",
       "    </tr>\n",
       "    <tr>\n",
       "      <th>1928-03-02</th>\n",
       "      <td>5.6</td>\n",
       "      <td>-3.9</td>\n",
       "      <td>42.08</td>\n",
       "    </tr>\n",
       "    <tr>\n",
       "      <th>1928-03-03</th>\n",
       "      <td>2.8</td>\n",
       "      <td>-9.4</td>\n",
       "      <td>37.04</td>\n",
       "    </tr>\n",
       "    <tr>\n",
       "      <th>1928-03-04</th>\n",
       "      <td>5.0</td>\n",
       "      <td>-8.9</td>\n",
       "      <td>41.00</td>\n",
       "    </tr>\n",
       "  </tbody>\n",
       "</table>\n",
       "</div>"
      ],
      "text/plain": [
       "            high_temp_C  low_temp_C  high_temp_F\n",
       "date                                            \n",
       "1928-02-29          3.9        -2.8        39.02\n",
       "1928-03-01          2.2        -6.7        35.96\n",
       "1928-03-02          5.6        -3.9        42.08\n",
       "1928-03-03          2.8        -9.4        37.04\n",
       "1928-03-04          5.0        -8.9        41.00"
      ]
     },
     "execution_count": 14,
     "metadata": {},
     "output_type": "execute_result"
    }
   ],
   "source": [
    "filtered_midway['high_temp_F'] = cel_to_fahr(filtered_midway['high_temp_C'])\n",
    "filtered_midway.head()"
   ]
  },
  {
   "cell_type": "markdown",
   "id": "d40ba418-229c-406a-aa35-810101106460",
   "metadata": {},
   "source": [
    "**Try it yourself**: Make a new column called `low_temp_F` for low temps in Fahrenheit:"
   ]
  },
  {
   "cell_type": "code",
   "execution_count": 23,
   "id": "4e3d0de6-b5ef-4ce5-98fb-1f9828bece62",
   "metadata": {},
   "outputs": [
    {
     "data": {
      "text/html": [
       "<div>\n",
       "<style scoped>\n",
       "    .dataframe tbody tr th:only-of-type {\n",
       "        vertical-align: middle;\n",
       "    }\n",
       "\n",
       "    .dataframe tbody tr th {\n",
       "        vertical-align: top;\n",
       "    }\n",
       "\n",
       "    .dataframe thead th {\n",
       "        text-align: right;\n",
       "    }\n",
       "</style>\n",
       "<table border=\"1\" class=\"dataframe\">\n",
       "  <thead>\n",
       "    <tr style=\"text-align: right;\">\n",
       "      <th></th>\n",
       "      <th>high_temp_C</th>\n",
       "      <th>low_temp_C</th>\n",
       "      <th>high_temp_F</th>\n",
       "      <th>low_temp_F</th>\n",
       "    </tr>\n",
       "    <tr>\n",
       "      <th>date</th>\n",
       "      <th></th>\n",
       "      <th></th>\n",
       "      <th></th>\n",
       "      <th></th>\n",
       "    </tr>\n",
       "  </thead>\n",
       "  <tbody>\n",
       "    <tr>\n",
       "      <th>1928-02-29</th>\n",
       "      <td>3.9</td>\n",
       "      <td>-2.8</td>\n",
       "      <td>39.02</td>\n",
       "      <td>26.96</td>\n",
       "    </tr>\n",
       "    <tr>\n",
       "      <th>1928-03-01</th>\n",
       "      <td>2.2</td>\n",
       "      <td>-6.7</td>\n",
       "      <td>35.96</td>\n",
       "      <td>19.94</td>\n",
       "    </tr>\n",
       "    <tr>\n",
       "      <th>1928-03-02</th>\n",
       "      <td>5.6</td>\n",
       "      <td>-3.9</td>\n",
       "      <td>42.08</td>\n",
       "      <td>24.98</td>\n",
       "    </tr>\n",
       "    <tr>\n",
       "      <th>1928-03-03</th>\n",
       "      <td>2.8</td>\n",
       "      <td>-9.4</td>\n",
       "      <td>37.04</td>\n",
       "      <td>15.08</td>\n",
       "    </tr>\n",
       "    <tr>\n",
       "      <th>1928-03-04</th>\n",
       "      <td>5.0</td>\n",
       "      <td>-8.9</td>\n",
       "      <td>41.00</td>\n",
       "      <td>15.98</td>\n",
       "    </tr>\n",
       "  </tbody>\n",
       "</table>\n",
       "</div>"
      ],
      "text/plain": [
       "            high_temp_C  low_temp_C  high_temp_F  low_temp_F\n",
       "date                                                        \n",
       "1928-02-29          3.9        -2.8        39.02       26.96\n",
       "1928-03-01          2.2        -6.7        35.96       19.94\n",
       "1928-03-02          5.6        -3.9        42.08       24.98\n",
       "1928-03-03          2.8        -9.4        37.04       15.08\n",
       "1928-03-04          5.0        -8.9        41.00       15.98"
      ]
     },
     "execution_count": 23,
     "metadata": {},
     "output_type": "execute_result"
    }
   ],
   "source": [
    "filtered_midway['low_temp_F'] = cel_to_fahr(filtered_midway['low_temp_C'])\n",
    "filtered_midway.head()"
   ]
  },
  {
   "cell_type": "markdown",
   "id": "e4e0f34a-d6d7-4c04-a94b-055d3aa1c9d9",
   "metadata": {},
   "source": [
    "# Exploring the Data\n",
    "___\n",
    "The work of cleaning the data (often called \"wrangling\") usually takes up most of the data scientist's time. However, the investment of time in getting the data in a workable state makes the exploration of the data much easier. "
   ]
  },
  {
   "cell_type": "markdown",
   "id": "66c9beaf-617e-4724-9151-a8cab6e3a2b4",
   "metadata": {},
   "source": [
    "### Summarizing the Data\n",
    "\n",
    "There are many methods to summarize and describe the data. We will just scratch the surface here, but will highlight some of the more common methods."
   ]
  },
  {
   "cell_type": "markdown",
   "id": "e3863c8a-f53f-494c-9c03-d09b0aa059e6",
   "metadata": {},
   "source": [
    "**Descriptive statistics** provide a summary of data. The most commonly known examples are measures of central tendency (mean, median and mode), maximum, minimum and standard deviation.\n",
    "\n",
    "| Name | Function |\n",
    "|-------|-------|\n",
    "| minumum | `.min()` |\n",
    "| maximum | `.max()` |\n",
    "| mean | `.mean()` |\n",
    "| median | `.median()` |\n",
    "| mode | `.mode()` |\n",
    "| standard deviation | `.std()` |\n"
   ]
  },
  {
   "cell_type": "markdown",
   "id": "f49e9936-9cf5-403e-88c9-37fe3d97fa11",
   "metadata": {},
   "source": [
    "Applying these functions is simply a matter of calling the column you want to describe and following it with `.function()`"
   ]
  },
  {
   "cell_type": "code",
   "execution_count": null,
   "id": "191fac9f-b53c-495b-a4c0-a2008712435d",
   "metadata": {},
   "outputs": [],
   "source": [
    "dataframe_name['column_name'].<function>"
   ]
  },
  {
   "cell_type": "markdown",
   "id": "4ee0706b-fbf0-4f6b-8d17-5c7410070848",
   "metadata": {},
   "source": [
    "#### Example\n",
    "\n",
    "Suppose we wanted to determine the hottest temperature ever recorded at Midway airport. \n",
    "\n",
    "Use the appropriate function to calculate the maximum high temperature in Fahrenheit:"
   ]
  },
  {
   "cell_type": "code",
   "execution_count": 24,
   "id": "2c0e6160-6555-4926-8ebc-866700a34bd7",
   "metadata": {},
   "outputs": [
    {
     "data": {
      "text/plain": [
       "107.06"
      ]
     },
     "execution_count": 24,
     "metadata": {},
     "output_type": "execute_result"
    }
   ],
   "source": [
    "filtered_midway['high_temp_F'].max()"
   ]
  },
  {
   "cell_type": "markdown",
   "id": "ae32eede-0194-4f63-a85f-7f69a766bbbd",
   "metadata": {
    "tags": []
   },
   "source": [
    "### Filtering Rows\n",
    "\n",
    "There may be certain rows we are interested in as well. Rows are a little trickier to reference because they are not arrays. In columns, we can reference the name of the columns that we are interested in. Also, the elements (entries) in a column are the same data type. Since rows contain the elements of several different arrays, they can contain multiple data types and require a different way of thinking. We can filter rows two ways: by index or by label."
   ]
  },
  {
   "cell_type": "markdown",
   "id": "f66daab1-cf65-4e15-8d7e-aefe1079741d",
   "metadata": {},
   "source": [
    "#### Filtering by Label\n",
    "\n",
    "Sometimes, you will want only the rows that contain a certain value or range of values contained within a column. This is done by using **conditional** statements. The following operators are used:\n",
    "\n",
    "| Name | Operator |\n",
    "|-------|-------|\n",
    "| equal to | `==` |\n",
    "| not equal to | `!=` |\n",
    "| greater than | `>` |\n",
    "| greater than or equal to | `>=` |\n",
    "| less than | `<` |\n",
    "| less than or equal to | `<=` |\n",
    "\n"
   ]
  },
  {
   "cell_type": "code",
   "execution_count": null,
   "id": "f59c6a19-e6df-4b6b-8b46-a05d8151e31d",
   "metadata": {},
   "outputs": [],
   "source": [
    "new_dataframe = old_dataframe[(old_dataframe['column_name'] <operator> <value_or_label>)]"
   ]
  },
  {
   "cell_type": "markdown",
   "id": "0047cadc-0841-439e-81eb-3cd288148baf",
   "metadata": {},
   "source": [
    "#### Example"
   ]
  },
  {
   "cell_type": "markdown",
   "id": "e8033168-8a55-475b-897e-309a2aae8aeb",
   "metadata": {},
   "source": [
    "Suppose we are interested in identifying the days where the temperature was 100 degrees F or higher.\n",
    "\n",
    "Filter out the days where the temperature was greater than or equal to 100 degrees F and place it in a variable called `hund_deg_days`:"
   ]
  },
  {
   "cell_type": "code",
   "execution_count": 25,
   "id": "c2a15860-96d1-4782-a3b1-bfa276f063fb",
   "metadata": {},
   "outputs": [
    {
     "data": {
      "text/html": [
       "<div>\n",
       "<style scoped>\n",
       "    .dataframe tbody tr th:only-of-type {\n",
       "        vertical-align: middle;\n",
       "    }\n",
       "\n",
       "    .dataframe tbody tr th {\n",
       "        vertical-align: top;\n",
       "    }\n",
       "\n",
       "    .dataframe thead th {\n",
       "        text-align: right;\n",
       "    }\n",
       "</style>\n",
       "<table border=\"1\" class=\"dataframe\">\n",
       "  <thead>\n",
       "    <tr style=\"text-align: right;\">\n",
       "      <th></th>\n",
       "      <th>high_temp_C</th>\n",
       "      <th>low_temp_C</th>\n",
       "      <th>high_temp_F</th>\n",
       "      <th>low_temp_F</th>\n",
       "    </tr>\n",
       "    <tr>\n",
       "      <th>date</th>\n",
       "      <th></th>\n",
       "      <th></th>\n",
       "      <th></th>\n",
       "      <th></th>\n",
       "    </tr>\n",
       "  </thead>\n",
       "  <tbody>\n",
       "    <tr>\n",
       "      <th>1931-06-28</th>\n",
       "      <td>37.8</td>\n",
       "      <td>23.3</td>\n",
       "      <td>100.04</td>\n",
       "      <td>73.94</td>\n",
       "    </tr>\n",
       "    <tr>\n",
       "      <th>1931-06-30</th>\n",
       "      <td>38.3</td>\n",
       "      <td>24.4</td>\n",
       "      <td>100.94</td>\n",
       "      <td>75.92</td>\n",
       "    </tr>\n",
       "    <tr>\n",
       "      <th>1933-06-07</th>\n",
       "      <td>38.3</td>\n",
       "      <td>24.4</td>\n",
       "      <td>100.94</td>\n",
       "      <td>75.92</td>\n",
       "    </tr>\n",
       "    <tr>\n",
       "      <th>1933-06-10</th>\n",
       "      <td>38.3</td>\n",
       "      <td>21.1</td>\n",
       "      <td>100.94</td>\n",
       "      <td>69.98</td>\n",
       "    </tr>\n",
       "    <tr>\n",
       "      <th>1933-06-11</th>\n",
       "      <td>37.8</td>\n",
       "      <td>21.7</td>\n",
       "      <td>100.04</td>\n",
       "      <td>71.06</td>\n",
       "    </tr>\n",
       "    <tr>\n",
       "      <th>1933-06-20</th>\n",
       "      <td>37.8</td>\n",
       "      <td>17.2</td>\n",
       "      <td>100.04</td>\n",
       "      <td>62.96</td>\n",
       "    </tr>\n",
       "    <tr>\n",
       "      <th>1933-06-27</th>\n",
       "      <td>38.9</td>\n",
       "      <td>21.1</td>\n",
       "      <td>102.02</td>\n",
       "      <td>69.98</td>\n",
       "    </tr>\n",
       "    <tr>\n",
       "      <th>1934-05-31</th>\n",
       "      <td>38.9</td>\n",
       "      <td>14.4</td>\n",
       "      <td>102.02</td>\n",
       "      <td>57.92</td>\n",
       "    </tr>\n",
       "    <tr>\n",
       "      <th>1934-06-01</th>\n",
       "      <td>41.7</td>\n",
       "      <td>20.6</td>\n",
       "      <td>107.06</td>\n",
       "      <td>69.08</td>\n",
       "    </tr>\n",
       "    <tr>\n",
       "      <th>1934-06-28</th>\n",
       "      <td>40.0</td>\n",
       "      <td>19.4</td>\n",
       "      <td>104.00</td>\n",
       "      <td>66.92</td>\n",
       "    </tr>\n",
       "    <tr>\n",
       "      <th>1942-07-17</th>\n",
       "      <td>37.8</td>\n",
       "      <td>25.0</td>\n",
       "      <td>100.04</td>\n",
       "      <td>77.00</td>\n",
       "    </tr>\n",
       "    <tr>\n",
       "      <th>1944-06-27</th>\n",
       "      <td>37.8</td>\n",
       "      <td>23.3</td>\n",
       "      <td>100.04</td>\n",
       "      <td>73.94</td>\n",
       "    </tr>\n",
       "    <tr>\n",
       "      <th>1946-07-18</th>\n",
       "      <td>37.8</td>\n",
       "      <td>22.8</td>\n",
       "      <td>100.04</td>\n",
       "      <td>73.04</td>\n",
       "    </tr>\n",
       "    <tr>\n",
       "      <th>1947-08-04</th>\n",
       "      <td>37.8</td>\n",
       "      <td>21.7</td>\n",
       "      <td>100.04</td>\n",
       "      <td>71.06</td>\n",
       "    </tr>\n",
       "    <tr>\n",
       "      <th>1947-08-05</th>\n",
       "      <td>37.8</td>\n",
       "      <td>23.9</td>\n",
       "      <td>100.04</td>\n",
       "      <td>75.02</td>\n",
       "    </tr>\n",
       "    <tr>\n",
       "      <th>1947-08-06</th>\n",
       "      <td>38.3</td>\n",
       "      <td>23.9</td>\n",
       "      <td>100.94</td>\n",
       "      <td>75.02</td>\n",
       "    </tr>\n",
       "    <tr>\n",
       "      <th>1947-08-24</th>\n",
       "      <td>37.8</td>\n",
       "      <td>23.9</td>\n",
       "      <td>100.04</td>\n",
       "      <td>75.02</td>\n",
       "    </tr>\n",
       "    <tr>\n",
       "      <th>1949-07-03</th>\n",
       "      <td>38.9</td>\n",
       "      <td>22.8</td>\n",
       "      <td>102.02</td>\n",
       "      <td>73.04</td>\n",
       "    </tr>\n",
       "    <tr>\n",
       "      <th>1952-06-28</th>\n",
       "      <td>38.3</td>\n",
       "      <td>21.7</td>\n",
       "      <td>100.94</td>\n",
       "      <td>71.06</td>\n",
       "    </tr>\n",
       "    <tr>\n",
       "      <th>1953-06-19</th>\n",
       "      <td>38.9</td>\n",
       "      <td>22.2</td>\n",
       "      <td>102.02</td>\n",
       "      <td>71.96</td>\n",
       "    </tr>\n",
       "    <tr>\n",
       "      <th>1953-06-20</th>\n",
       "      <td>40.0</td>\n",
       "      <td>25.6</td>\n",
       "      <td>104.00</td>\n",
       "      <td>78.08</td>\n",
       "    </tr>\n",
       "    <tr>\n",
       "      <th>1953-09-01</th>\n",
       "      <td>38.3</td>\n",
       "      <td>24.4</td>\n",
       "      <td>100.94</td>\n",
       "      <td>75.92</td>\n",
       "    </tr>\n",
       "    <tr>\n",
       "      <th>1953-09-02</th>\n",
       "      <td>38.3</td>\n",
       "      <td>23.9</td>\n",
       "      <td>100.94</td>\n",
       "      <td>75.02</td>\n",
       "    </tr>\n",
       "    <tr>\n",
       "      <th>1954-06-25</th>\n",
       "      <td>37.8</td>\n",
       "      <td>21.1</td>\n",
       "      <td>100.04</td>\n",
       "      <td>69.98</td>\n",
       "    </tr>\n",
       "    <tr>\n",
       "      <th>1955-07-27</th>\n",
       "      <td>37.8</td>\n",
       "      <td>26.1</td>\n",
       "      <td>100.04</td>\n",
       "      <td>78.98</td>\n",
       "    </tr>\n",
       "    <tr>\n",
       "      <th>1956-07-01</th>\n",
       "      <td>39.4</td>\n",
       "      <td>23.3</td>\n",
       "      <td>102.92</td>\n",
       "      <td>73.94</td>\n",
       "    </tr>\n",
       "    <tr>\n",
       "      <th>1960-09-07</th>\n",
       "      <td>37.8</td>\n",
       "      <td>23.3</td>\n",
       "      <td>100.04</td>\n",
       "      <td>73.94</td>\n",
       "    </tr>\n",
       "    <tr>\n",
       "      <th>1971-06-27</th>\n",
       "      <td>38.3</td>\n",
       "      <td>22.8</td>\n",
       "      <td>100.94</td>\n",
       "      <td>73.04</td>\n",
       "    </tr>\n",
       "    <tr>\n",
       "      <th>1971-06-28</th>\n",
       "      <td>38.3</td>\n",
       "      <td>24.4</td>\n",
       "      <td>100.94</td>\n",
       "      <td>75.92</td>\n",
       "    </tr>\n",
       "    <tr>\n",
       "      <th>1976-07-10</th>\n",
       "      <td>37.8</td>\n",
       "      <td>25.6</td>\n",
       "      <td>100.04</td>\n",
       "      <td>78.08</td>\n",
       "    </tr>\n",
       "    <tr>\n",
       "      <th>1983-07-22</th>\n",
       "      <td>37.8</td>\n",
       "      <td>23.9</td>\n",
       "      <td>100.04</td>\n",
       "      <td>75.02</td>\n",
       "    </tr>\n",
       "    <tr>\n",
       "      <th>1983-07-28</th>\n",
       "      <td>37.8</td>\n",
       "      <td>25.0</td>\n",
       "      <td>100.04</td>\n",
       "      <td>77.00</td>\n",
       "    </tr>\n",
       "    <tr>\n",
       "      <th>1988-06-20</th>\n",
       "      <td>39.4</td>\n",
       "      <td>25.0</td>\n",
       "      <td>102.92</td>\n",
       "      <td>77.00</td>\n",
       "    </tr>\n",
       "    <tr>\n",
       "      <th>1988-06-21</th>\n",
       "      <td>38.3</td>\n",
       "      <td>23.9</td>\n",
       "      <td>100.94</td>\n",
       "      <td>75.02</td>\n",
       "    </tr>\n",
       "    <tr>\n",
       "      <th>1988-06-25</th>\n",
       "      <td>40.0</td>\n",
       "      <td>21.7</td>\n",
       "      <td>104.00</td>\n",
       "      <td>71.06</td>\n",
       "    </tr>\n",
       "    <tr>\n",
       "      <th>1988-07-14</th>\n",
       "      <td>38.3</td>\n",
       "      <td>26.1</td>\n",
       "      <td>100.94</td>\n",
       "      <td>78.98</td>\n",
       "    </tr>\n",
       "    <tr>\n",
       "      <th>1988-07-15</th>\n",
       "      <td>39.4</td>\n",
       "      <td>25.0</td>\n",
       "      <td>102.92</td>\n",
       "      <td>77.00</td>\n",
       "    </tr>\n",
       "    <tr>\n",
       "      <th>1988-08-01</th>\n",
       "      <td>37.8</td>\n",
       "      <td>25.6</td>\n",
       "      <td>100.04</td>\n",
       "      <td>78.08</td>\n",
       "    </tr>\n",
       "    <tr>\n",
       "      <th>1988-08-02</th>\n",
       "      <td>37.8</td>\n",
       "      <td>26.1</td>\n",
       "      <td>100.04</td>\n",
       "      <td>78.98</td>\n",
       "    </tr>\n",
       "    <tr>\n",
       "      <th>1988-08-16</th>\n",
       "      <td>38.3</td>\n",
       "      <td>24.4</td>\n",
       "      <td>100.94</td>\n",
       "      <td>75.92</td>\n",
       "    </tr>\n",
       "    <tr>\n",
       "      <th>1989-07-10</th>\n",
       "      <td>38.3</td>\n",
       "      <td>25.0</td>\n",
       "      <td>100.94</td>\n",
       "      <td>77.00</td>\n",
       "    </tr>\n",
       "    <tr>\n",
       "      <th>1990-07-04</th>\n",
       "      <td>37.8</td>\n",
       "      <td>27.2</td>\n",
       "      <td>100.04</td>\n",
       "      <td>80.96</td>\n",
       "    </tr>\n",
       "    <tr>\n",
       "      <th>1991-07-22</th>\n",
       "      <td>38.9</td>\n",
       "      <td>25.6</td>\n",
       "      <td>102.02</td>\n",
       "      <td>78.08</td>\n",
       "    </tr>\n",
       "    <tr>\n",
       "      <th>1991-08-02</th>\n",
       "      <td>38.9</td>\n",
       "      <td>22.2</td>\n",
       "      <td>102.02</td>\n",
       "      <td>71.96</td>\n",
       "    </tr>\n",
       "    <tr>\n",
       "      <th>1995-07-13</th>\n",
       "      <td>41.1</td>\n",
       "      <td>27.2</td>\n",
       "      <td>105.98</td>\n",
       "      <td>80.96</td>\n",
       "    </tr>\n",
       "    <tr>\n",
       "      <th>1995-07-14</th>\n",
       "      <td>38.9</td>\n",
       "      <td>28.9</td>\n",
       "      <td>102.02</td>\n",
       "      <td>84.02</td>\n",
       "    </tr>\n",
       "    <tr>\n",
       "      <th>1995-08-12</th>\n",
       "      <td>37.8</td>\n",
       "      <td>25.0</td>\n",
       "      <td>100.04</td>\n",
       "      <td>77.00</td>\n",
       "    </tr>\n",
       "    <tr>\n",
       "      <th>1999-07-30</th>\n",
       "      <td>40.0</td>\n",
       "      <td>28.9</td>\n",
       "      <td>104.00</td>\n",
       "      <td>84.02</td>\n",
       "    </tr>\n",
       "    <tr>\n",
       "      <th>2005-07-24</th>\n",
       "      <td>40.0</td>\n",
       "      <td>25.6</td>\n",
       "      <td>104.00</td>\n",
       "      <td>78.08</td>\n",
       "    </tr>\n",
       "    <tr>\n",
       "      <th>2011-07-20</th>\n",
       "      <td>37.8</td>\n",
       "      <td>25.0</td>\n",
       "      <td>100.04</td>\n",
       "      <td>77.00</td>\n",
       "    </tr>\n",
       "    <tr>\n",
       "      <th>2011-07-21</th>\n",
       "      <td>38.3</td>\n",
       "      <td>27.8</td>\n",
       "      <td>100.94</td>\n",
       "      <td>82.04</td>\n",
       "    </tr>\n",
       "    <tr>\n",
       "      <th>2012-06-28</th>\n",
       "      <td>38.3</td>\n",
       "      <td>25.0</td>\n",
       "      <td>100.94</td>\n",
       "      <td>77.00</td>\n",
       "    </tr>\n",
       "    <tr>\n",
       "      <th>2012-07-04</th>\n",
       "      <td>38.9</td>\n",
       "      <td>27.2</td>\n",
       "      <td>102.02</td>\n",
       "      <td>80.96</td>\n",
       "    </tr>\n",
       "    <tr>\n",
       "      <th>2012-07-05</th>\n",
       "      <td>39.4</td>\n",
       "      <td>26.1</td>\n",
       "      <td>102.92</td>\n",
       "      <td>78.98</td>\n",
       "    </tr>\n",
       "    <tr>\n",
       "      <th>2012-07-06</th>\n",
       "      <td>40.6</td>\n",
       "      <td>28.3</td>\n",
       "      <td>105.08</td>\n",
       "      <td>82.94</td>\n",
       "    </tr>\n",
       "    <tr>\n",
       "      <th>2012-07-17</th>\n",
       "      <td>37.8</td>\n",
       "      <td>26.7</td>\n",
       "      <td>100.04</td>\n",
       "      <td>80.06</td>\n",
       "    </tr>\n",
       "    <tr>\n",
       "      <th>2012-07-25</th>\n",
       "      <td>38.3</td>\n",
       "      <td>23.3</td>\n",
       "      <td>100.94</td>\n",
       "      <td>73.94</td>\n",
       "    </tr>\n",
       "    <tr>\n",
       "      <th>2022-06-14</th>\n",
       "      <td>37.8</td>\n",
       "      <td>23.9</td>\n",
       "      <td>100.04</td>\n",
       "      <td>75.02</td>\n",
       "    </tr>\n",
       "    <tr>\n",
       "      <th>2022-06-15</th>\n",
       "      <td>37.8</td>\n",
       "      <td>28.3</td>\n",
       "      <td>100.04</td>\n",
       "      <td>82.94</td>\n",
       "    </tr>\n",
       "    <tr>\n",
       "      <th>2022-06-21</th>\n",
       "      <td>38.3</td>\n",
       "      <td>22.8</td>\n",
       "      <td>100.94</td>\n",
       "      <td>73.04</td>\n",
       "    </tr>\n",
       "  </tbody>\n",
       "</table>\n",
       "</div>"
      ],
      "text/plain": [
       "            high_temp_C  low_temp_C  high_temp_F  low_temp_F\n",
       "date                                                        \n",
       "1931-06-28         37.8        23.3       100.04       73.94\n",
       "1931-06-30         38.3        24.4       100.94       75.92\n",
       "1933-06-07         38.3        24.4       100.94       75.92\n",
       "1933-06-10         38.3        21.1       100.94       69.98\n",
       "1933-06-11         37.8        21.7       100.04       71.06\n",
       "1933-06-20         37.8        17.2       100.04       62.96\n",
       "1933-06-27         38.9        21.1       102.02       69.98\n",
       "1934-05-31         38.9        14.4       102.02       57.92\n",
       "1934-06-01         41.7        20.6       107.06       69.08\n",
       "1934-06-28         40.0        19.4       104.00       66.92\n",
       "1942-07-17         37.8        25.0       100.04       77.00\n",
       "1944-06-27         37.8        23.3       100.04       73.94\n",
       "1946-07-18         37.8        22.8       100.04       73.04\n",
       "1947-08-04         37.8        21.7       100.04       71.06\n",
       "1947-08-05         37.8        23.9       100.04       75.02\n",
       "1947-08-06         38.3        23.9       100.94       75.02\n",
       "1947-08-24         37.8        23.9       100.04       75.02\n",
       "1949-07-03         38.9        22.8       102.02       73.04\n",
       "1952-06-28         38.3        21.7       100.94       71.06\n",
       "1953-06-19         38.9        22.2       102.02       71.96\n",
       "1953-06-20         40.0        25.6       104.00       78.08\n",
       "1953-09-01         38.3        24.4       100.94       75.92\n",
       "1953-09-02         38.3        23.9       100.94       75.02\n",
       "1954-06-25         37.8        21.1       100.04       69.98\n",
       "1955-07-27         37.8        26.1       100.04       78.98\n",
       "1956-07-01         39.4        23.3       102.92       73.94\n",
       "1960-09-07         37.8        23.3       100.04       73.94\n",
       "1971-06-27         38.3        22.8       100.94       73.04\n",
       "1971-06-28         38.3        24.4       100.94       75.92\n",
       "1976-07-10         37.8        25.6       100.04       78.08\n",
       "1983-07-22         37.8        23.9       100.04       75.02\n",
       "1983-07-28         37.8        25.0       100.04       77.00\n",
       "1988-06-20         39.4        25.0       102.92       77.00\n",
       "1988-06-21         38.3        23.9       100.94       75.02\n",
       "1988-06-25         40.0        21.7       104.00       71.06\n",
       "1988-07-14         38.3        26.1       100.94       78.98\n",
       "1988-07-15         39.4        25.0       102.92       77.00\n",
       "1988-08-01         37.8        25.6       100.04       78.08\n",
       "1988-08-02         37.8        26.1       100.04       78.98\n",
       "1988-08-16         38.3        24.4       100.94       75.92\n",
       "1989-07-10         38.3        25.0       100.94       77.00\n",
       "1990-07-04         37.8        27.2       100.04       80.96\n",
       "1991-07-22         38.9        25.6       102.02       78.08\n",
       "1991-08-02         38.9        22.2       102.02       71.96\n",
       "1995-07-13         41.1        27.2       105.98       80.96\n",
       "1995-07-14         38.9        28.9       102.02       84.02\n",
       "1995-08-12         37.8        25.0       100.04       77.00\n",
       "1999-07-30         40.0        28.9       104.00       84.02\n",
       "2005-07-24         40.0        25.6       104.00       78.08\n",
       "2011-07-20         37.8        25.0       100.04       77.00\n",
       "2011-07-21         38.3        27.8       100.94       82.04\n",
       "2012-06-28         38.3        25.0       100.94       77.00\n",
       "2012-07-04         38.9        27.2       102.02       80.96\n",
       "2012-07-05         39.4        26.1       102.92       78.98\n",
       "2012-07-06         40.6        28.3       105.08       82.94\n",
       "2012-07-17         37.8        26.7       100.04       80.06\n",
       "2012-07-25         38.3        23.3       100.94       73.94\n",
       "2022-06-14         37.8        23.9       100.04       75.02\n",
       "2022-06-15         37.8        28.3       100.04       82.94\n",
       "2022-06-21         38.3        22.8       100.94       73.04"
      ]
     },
     "execution_count": 25,
     "metadata": {},
     "output_type": "execute_result"
    }
   ],
   "source": [
    "hund_deg_days = filtered_midway[(filtered_midway['high_temp_F'] >= 100)]\n",
    "hund_deg_days"
   ]
  },
  {
   "cell_type": "markdown",
   "id": "3fc49f43-9152-40ba-b969-21de5f9890d2",
   "metadata": {},
   "source": [
    "#### Fine Tuning\n",
    "\n",
    "The conditional can be made more selective using the `&` (and) or `|` (or) operators:"
   ]
  },
  {
   "cell_type": "code",
   "execution_count": null,
   "id": "cea59e74-eace-414c-b0d9-7b5acb46f44a",
   "metadata": {},
   "outputs": [],
   "source": [
    "new_dataframe = old_dataframe[(old_dataframe['column_name'] <operator> <value_or_label>) & (old_dataframe['column_name'] <operator> <value_or_label>)]"
   ]
  },
  {
   "cell_type": "markdown",
   "id": "64cb81d2-06d5-4c47-9809-219c7f9e547c",
   "metadata": {},
   "source": [
    "#### Example\n",
    "\n",
    "If we wanted to see days that were between 102 and 103 degrees, we can use the `&` (and) conditional:"
   ]
  },
  {
   "cell_type": "code",
   "execution_count": 26,
   "id": "f7424727-805f-41a4-9004-dfae6b6183e5",
   "metadata": {},
   "outputs": [
    {
     "data": {
      "text/html": [
       "<div>\n",
       "<style scoped>\n",
       "    .dataframe tbody tr th:only-of-type {\n",
       "        vertical-align: middle;\n",
       "    }\n",
       "\n",
       "    .dataframe tbody tr th {\n",
       "        vertical-align: top;\n",
       "    }\n",
       "\n",
       "    .dataframe thead th {\n",
       "        text-align: right;\n",
       "    }\n",
       "</style>\n",
       "<table border=\"1\" class=\"dataframe\">\n",
       "  <thead>\n",
       "    <tr style=\"text-align: right;\">\n",
       "      <th></th>\n",
       "      <th>high_temp_C</th>\n",
       "      <th>low_temp_C</th>\n",
       "      <th>high_temp_F</th>\n",
       "      <th>low_temp_F</th>\n",
       "    </tr>\n",
       "    <tr>\n",
       "      <th>date</th>\n",
       "      <th></th>\n",
       "      <th></th>\n",
       "      <th></th>\n",
       "      <th></th>\n",
       "    </tr>\n",
       "  </thead>\n",
       "  <tbody>\n",
       "    <tr>\n",
       "      <th>1933-06-27</th>\n",
       "      <td>38.9</td>\n",
       "      <td>21.1</td>\n",
       "      <td>102.02</td>\n",
       "      <td>69.98</td>\n",
       "    </tr>\n",
       "    <tr>\n",
       "      <th>1934-05-31</th>\n",
       "      <td>38.9</td>\n",
       "      <td>14.4</td>\n",
       "      <td>102.02</td>\n",
       "      <td>57.92</td>\n",
       "    </tr>\n",
       "    <tr>\n",
       "      <th>1949-07-03</th>\n",
       "      <td>38.9</td>\n",
       "      <td>22.8</td>\n",
       "      <td>102.02</td>\n",
       "      <td>73.04</td>\n",
       "    </tr>\n",
       "    <tr>\n",
       "      <th>1953-06-19</th>\n",
       "      <td>38.9</td>\n",
       "      <td>22.2</td>\n",
       "      <td>102.02</td>\n",
       "      <td>71.96</td>\n",
       "    </tr>\n",
       "    <tr>\n",
       "      <th>1956-07-01</th>\n",
       "      <td>39.4</td>\n",
       "      <td>23.3</td>\n",
       "      <td>102.92</td>\n",
       "      <td>73.94</td>\n",
       "    </tr>\n",
       "    <tr>\n",
       "      <th>1988-06-20</th>\n",
       "      <td>39.4</td>\n",
       "      <td>25.0</td>\n",
       "      <td>102.92</td>\n",
       "      <td>77.00</td>\n",
       "    </tr>\n",
       "    <tr>\n",
       "      <th>1988-07-15</th>\n",
       "      <td>39.4</td>\n",
       "      <td>25.0</td>\n",
       "      <td>102.92</td>\n",
       "      <td>77.00</td>\n",
       "    </tr>\n",
       "    <tr>\n",
       "      <th>1991-07-22</th>\n",
       "      <td>38.9</td>\n",
       "      <td>25.6</td>\n",
       "      <td>102.02</td>\n",
       "      <td>78.08</td>\n",
       "    </tr>\n",
       "    <tr>\n",
       "      <th>1991-08-02</th>\n",
       "      <td>38.9</td>\n",
       "      <td>22.2</td>\n",
       "      <td>102.02</td>\n",
       "      <td>71.96</td>\n",
       "    </tr>\n",
       "    <tr>\n",
       "      <th>1995-07-14</th>\n",
       "      <td>38.9</td>\n",
       "      <td>28.9</td>\n",
       "      <td>102.02</td>\n",
       "      <td>84.02</td>\n",
       "    </tr>\n",
       "    <tr>\n",
       "      <th>2012-07-04</th>\n",
       "      <td>38.9</td>\n",
       "      <td>27.2</td>\n",
       "      <td>102.02</td>\n",
       "      <td>80.96</td>\n",
       "    </tr>\n",
       "    <tr>\n",
       "      <th>2012-07-05</th>\n",
       "      <td>39.4</td>\n",
       "      <td>26.1</td>\n",
       "      <td>102.92</td>\n",
       "      <td>78.98</td>\n",
       "    </tr>\n",
       "  </tbody>\n",
       "</table>\n",
       "</div>"
      ],
      "text/plain": [
       "            high_temp_C  low_temp_C  high_temp_F  low_temp_F\n",
       "date                                                        \n",
       "1933-06-27         38.9        21.1       102.02       69.98\n",
       "1934-05-31         38.9        14.4       102.02       57.92\n",
       "1949-07-03         38.9        22.8       102.02       73.04\n",
       "1953-06-19         38.9        22.2       102.02       71.96\n",
       "1956-07-01         39.4        23.3       102.92       73.94\n",
       "1988-06-20         39.4        25.0       102.92       77.00\n",
       "1988-07-15         39.4        25.0       102.92       77.00\n",
       "1991-07-22         38.9        25.6       102.02       78.08\n",
       "1991-08-02         38.9        22.2       102.02       71.96\n",
       "1995-07-14         38.9        28.9       102.02       84.02\n",
       "2012-07-04         38.9        27.2       102.02       80.96\n",
       "2012-07-05         39.4        26.1       102.92       78.98"
      ]
     },
     "execution_count": 26,
     "metadata": {},
     "output_type": "execute_result"
    }
   ],
   "source": [
    "days_102 = filtered_midway[(filtered_midway['high_temp_F'] >= 102) & (filtered_midway['high_temp_F'] <= 103)]\n",
    "days_102"
   ]
  },
  {
   "cell_type": "markdown",
   "id": "a0366662-f288-419b-8997-19ea467d309c",
   "metadata": {},
   "source": [
    "#### Filtering by Index\n",
    "\n",
    "The advantage of making datetime our index is that we can filter a particular day or range of dates. There are many ways to do this, but here we will use an **attribute** of the datetime index. There are many attributes of the datetime index, such as `year`, `month` and `day`. There can all be found [here](https://pandas.pydata.org/docs/reference/api/pandas.DatetimeIndex.html)."
   ]
  },
  {
   "cell_type": "code",
   "execution_count": null,
   "id": "a5c9bfa7-e05e-4a67-83b8-d12086e2acac",
   "metadata": {},
   "outputs": [],
   "source": [
    "new_dataframe = old_dataframe[old_dataframe.index.<attribute> <operator> <value>]"
   ]
  },
  {
   "cell_type": "markdown",
   "id": "ed77e4a2-837e-4c34-a688-4f6a10ecd9fc",
   "metadata": {},
   "source": [
    "#### Example"
   ]
  },
  {
   "cell_type": "markdown",
   "id": "89221c4c-2df0-4c36-bf2b-c002be289a82",
   "metadata": {},
   "source": [
    "Remember back to our introduction to climate change and weather events. There was a news article from Block Club Chicago that noted March 4th 2019 was the coldest March 4th in 129 years! If March 4th 2019 was the coldest March 4th in 129 years, we are interested in one day in particular: March 4. In order to do this we will want only those rows for March 4. \n",
    "\n",
    "<img src = 'imgs/march_cold.png' width = 400>"
   ]
  },
  {
   "cell_type": "markdown",
   "id": "94c0704c-791b-45ac-9e4e-acaa50502236",
   "metadata": {},
   "source": [
    "First we can filter out the March dates:"
   ]
  },
  {
   "cell_type": "code",
   "execution_count": 27,
   "id": "6208e0b0-1a8e-41ef-b6c3-57bb3e32225a",
   "metadata": {},
   "outputs": [
    {
     "data": {
      "text/html": [
       "<div>\n",
       "<style scoped>\n",
       "    .dataframe tbody tr th:only-of-type {\n",
       "        vertical-align: middle;\n",
       "    }\n",
       "\n",
       "    .dataframe tbody tr th {\n",
       "        vertical-align: top;\n",
       "    }\n",
       "\n",
       "    .dataframe thead th {\n",
       "        text-align: right;\n",
       "    }\n",
       "</style>\n",
       "<table border=\"1\" class=\"dataframe\">\n",
       "  <thead>\n",
       "    <tr style=\"text-align: right;\">\n",
       "      <th></th>\n",
       "      <th>high_temp_C</th>\n",
       "      <th>low_temp_C</th>\n",
       "      <th>high_temp_F</th>\n",
       "      <th>low_temp_F</th>\n",
       "    </tr>\n",
       "    <tr>\n",
       "      <th>date</th>\n",
       "      <th></th>\n",
       "      <th></th>\n",
       "      <th></th>\n",
       "      <th></th>\n",
       "    </tr>\n",
       "  </thead>\n",
       "  <tbody>\n",
       "    <tr>\n",
       "      <th>1928-03-01</th>\n",
       "      <td>2.2</td>\n",
       "      <td>-6.7</td>\n",
       "      <td>35.96</td>\n",
       "      <td>19.94</td>\n",
       "    </tr>\n",
       "    <tr>\n",
       "      <th>1928-03-02</th>\n",
       "      <td>5.6</td>\n",
       "      <td>-3.9</td>\n",
       "      <td>42.08</td>\n",
       "      <td>24.98</td>\n",
       "    </tr>\n",
       "    <tr>\n",
       "      <th>1928-03-03</th>\n",
       "      <td>2.8</td>\n",
       "      <td>-9.4</td>\n",
       "      <td>37.04</td>\n",
       "      <td>15.08</td>\n",
       "    </tr>\n",
       "    <tr>\n",
       "      <th>1928-03-04</th>\n",
       "      <td>5.0</td>\n",
       "      <td>-8.9</td>\n",
       "      <td>41.00</td>\n",
       "      <td>15.98</td>\n",
       "    </tr>\n",
       "    <tr>\n",
       "      <th>1928-03-05</th>\n",
       "      <td>-2.2</td>\n",
       "      <td>-13.3</td>\n",
       "      <td>28.04</td>\n",
       "      <td>8.06</td>\n",
       "    </tr>\n",
       "  </tbody>\n",
       "</table>\n",
       "</div>"
      ],
      "text/plain": [
       "            high_temp_C  low_temp_C  high_temp_F  low_temp_F\n",
       "date                                                        \n",
       "1928-03-01          2.2        -6.7        35.96       19.94\n",
       "1928-03-02          5.6        -3.9        42.08       24.98\n",
       "1928-03-03          2.8        -9.4        37.04       15.08\n",
       "1928-03-04          5.0        -8.9        41.00       15.98\n",
       "1928-03-05         -2.2       -13.3        28.04        8.06"
      ]
     },
     "execution_count": 27,
     "metadata": {},
     "output_type": "execute_result"
    }
   ],
   "source": [
    "march = filtered_midway[filtered_midway.index.month == 3]\n",
    "march.head()"
   ]
  },
  {
   "cell_type": "markdown",
   "id": "622c6f28-d8cd-4ae5-a094-2bdb6f03d664",
   "metadata": {},
   "source": [
    "**Try it yourself**: Make a dataframe called `march_4` for all records for March 4:"
   ]
  },
  {
   "cell_type": "code",
   "execution_count": 28,
   "id": "3420ac4d-3cc8-4ff2-b42a-cd474a152997",
   "metadata": {},
   "outputs": [
    {
     "data": {
      "text/html": [
       "<div>\n",
       "<style scoped>\n",
       "    .dataframe tbody tr th:only-of-type {\n",
       "        vertical-align: middle;\n",
       "    }\n",
       "\n",
       "    .dataframe tbody tr th {\n",
       "        vertical-align: top;\n",
       "    }\n",
       "\n",
       "    .dataframe thead th {\n",
       "        text-align: right;\n",
       "    }\n",
       "</style>\n",
       "<table border=\"1\" class=\"dataframe\">\n",
       "  <thead>\n",
       "    <tr style=\"text-align: right;\">\n",
       "      <th></th>\n",
       "      <th>high_temp_C</th>\n",
       "      <th>low_temp_C</th>\n",
       "      <th>high_temp_F</th>\n",
       "      <th>low_temp_F</th>\n",
       "    </tr>\n",
       "    <tr>\n",
       "      <th>date</th>\n",
       "      <th></th>\n",
       "      <th></th>\n",
       "      <th></th>\n",
       "      <th></th>\n",
       "    </tr>\n",
       "  </thead>\n",
       "  <tbody>\n",
       "    <tr>\n",
       "      <th>1928-03-01</th>\n",
       "      <td>2.2</td>\n",
       "      <td>-6.7</td>\n",
       "      <td>35.96</td>\n",
       "      <td>19.94</td>\n",
       "    </tr>\n",
       "    <tr>\n",
       "      <th>1928-03-02</th>\n",
       "      <td>5.6</td>\n",
       "      <td>-3.9</td>\n",
       "      <td>42.08</td>\n",
       "      <td>24.98</td>\n",
       "    </tr>\n",
       "    <tr>\n",
       "      <th>1928-03-03</th>\n",
       "      <td>2.8</td>\n",
       "      <td>-9.4</td>\n",
       "      <td>37.04</td>\n",
       "      <td>15.08</td>\n",
       "    </tr>\n",
       "    <tr>\n",
       "      <th>1928-03-04</th>\n",
       "      <td>5.0</td>\n",
       "      <td>-8.9</td>\n",
       "      <td>41.00</td>\n",
       "      <td>15.98</td>\n",
       "    </tr>\n",
       "    <tr>\n",
       "      <th>1928-03-05</th>\n",
       "      <td>-2.2</td>\n",
       "      <td>-13.3</td>\n",
       "      <td>28.04</td>\n",
       "      <td>8.06</td>\n",
       "    </tr>\n",
       "  </tbody>\n",
       "</table>\n",
       "</div>"
      ],
      "text/plain": [
       "            high_temp_C  low_temp_C  high_temp_F  low_temp_F\n",
       "date                                                        \n",
       "1928-03-01          2.2        -6.7        35.96       19.94\n",
       "1928-03-02          5.6        -3.9        42.08       24.98\n",
       "1928-03-03          2.8        -9.4        37.04       15.08\n",
       "1928-03-04          5.0        -8.9        41.00       15.98\n",
       "1928-03-05         -2.2       -13.3        28.04        8.06"
      ]
     },
     "execution_count": 28,
     "metadata": {},
     "output_type": "execute_result"
    }
   ],
   "source": [
    "march_4 = march[march.index.day == 4]\n",
    "march.head()"
   ]
  },
  {
   "cell_type": "markdown",
   "id": "921d70f2-fa7d-44f2-b8cf-a6c61a029009",
   "metadata": {},
   "source": [
    "## Visualizing the Data\n",
    "\n",
    "While data in tables and the output of functions is one way of exploring the data, a more accessible way is the creation of visualizations. These allow us to easily see outliers and patterns in the data.\n",
    "\n",
    "Visualizing is a whole new world of coding. A variety of visualizations are available: plots, histograms, and scatterplots, to name a few. Here we will make a simple **plot** (line graph) using the Matplotlib library. "
   ]
  },
  {
   "cell_type": "code",
   "execution_count": 21,
   "id": "a6a24e19-26af-4d18-93c9-3a9b06c5d37f",
   "metadata": {},
   "outputs": [
    {
     "ename": "SyntaxError",
     "evalue": "invalid syntax (836103012.py, line 1)",
     "output_type": "error",
     "traceback": [
      "\u001b[0;36m  Input \u001b[0;32mIn [21]\u001b[0;36m\u001b[0m\n\u001b[0;31m    x_axis = dataframe_name.index.<attribute>\u001b[0m\n\u001b[0m                                  ^\u001b[0m\n\u001b[0;31mSyntaxError\u001b[0m\u001b[0;31m:\u001b[0m invalid syntax\n"
     ]
    }
   ],
   "source": [
    "x_axis = dataframe_name.index.<attribute>\n",
    "y_axis = dataframe_name['column_name']\n",
    "\n",
    "plt.plot(x_axis, y_axis)\n",
    "plt.xlabel('<x_axis_label>')\n",
    "plt.ylabel('<y_axis_label>')\n",
    "plt.title('<title>')\n",
    "plt.show()"
   ]
  },
  {
   "cell_type": "markdown",
   "id": "f35d357c-ab34-4eea-a333-5637ca6dead9",
   "metadata": {},
   "source": [
    "#### Example\n",
    "\n",
    "March 4th 2019 was the coldest March 4th in 129 years! Can we spot March 4th 2019 in our data?\n",
    "\n",
    "Create a line plot of low temperatures for March 4 for every year in the data:"
   ]
  },
  {
   "cell_type": "code",
   "execution_count": 29,
   "id": "b38ff017-d008-413d-b29f-db8e1bff00d3",
   "metadata": {},
   "outputs": [
    {
     "data": {
      "image/png": "[encoded data removed]",
      "text/plain": [
       "<Figure size 432x288 with 1 Axes>"
      ]
     },
     "metadata": {
      "needs_background": "light"
     },
     "output_type": "display_data"
    }
   ],
   "source": [
    "years = march_4.index.year\n",
    "min_temps = march_4['low_temp_F']\n",
    "\n",
    "# Plotting the data\n",
    "plt.plot(years, min_temps)\n",
    "plt.xlabel('Year')\n",
    "plt.ylabel('Low Temperature (F)')\n",
    "plt.title('Low Temperature on March 4th')\n",
    "plt.show()"
   ]
  },
  {
   "cell_type": "markdown",
   "id": "4b2d7288-b047-4dd0-8dfe-b029ef4fae04",
   "metadata": {},
   "source": [
    "## Try it yourself:"
   ]
  },
  {
   "cell_type": "markdown",
   "id": "48d09bd5-c16b-45d9-9246-b4d1fe8c9287",
   "metadata": {},
   "source": [
    "“Remember back to our introduction to climate change and weather events. There was a news article from Block Club Chicago that noted April 13, 2023 was the hottest April 13th in 138 years! Can we spot April 13, 2023 in our data?”\n",
    "\n",
    "<img src = 'imgs/april_hot.png' width = 400>\n",
    "\n",
    "Starting with the midway.csv file, build your own notebook. Avoid the temptation to copy and paste cells. \n"
   ]
  },
  {
   "cell_type": "code",
   "execution_count": 30,
   "id": "d4336370-8c2d-4e7e-b41f-a3650943159d",
   "metadata": {},
   "outputs": [],
   "source": [
    "april = filtered_midway[filtered_midway.index.month == 4]\n",
    "april_13 = april[april.index.day == 13]"
   ]
  },
  {
   "cell_type": "code",
   "execution_count": 31,
   "id": "129bed42-327a-41f7-9385-fdd9a76499cc",
   "metadata": {},
   "outputs": [
    {
     "data": {
      "image/png": "[encoded data removed]",
      "text/plain": [
       "<Figure size 432x288 with 1 Axes>"
      ]
     },
     "metadata": {
      "needs_background": "light"
     },
     "output_type": "display_data"
    }
   ],
   "source": [
    "years = april_13.index.year\n",
    "max_temps = april_13['high_temp_F']\n",
    "\n",
    "# Plotting the data\n",
    "plt.plot(years, max_temps)\n",
    "plt.xlabel('Year')\n",
    "plt.ylabel('High Temperature (F)')\n",
    "plt.title('High Temperatures on April 13th')\n",
    "plt.show()"
   ]
  },
  {
   "cell_type": "markdown",
   "id": "52ea111d-1206-4420-8665-e6e1ea2f5645",
   "metadata": {},
   "source": [
    "The following sections are under construction :)"
   ]
  },
  {
   "cell_type": "markdown",
   "id": "6ab10f48-ee91-44ed-9654-62cb49033907",
   "metadata": {},
   "source": [
    "# Analyzing Data\n",
    "\n",
    "Exploring the data through descriptive statistics and visualizations help us better understand the phenomenon and generate hypotheses, but we need more formal methods to test these hypotheses. This is where statistical methods become valuable.\n",
    "\n",
    "There is a saying among meteorologists, \"Averages are made up the extremes.\" In other words, we often compare individual events to the average, but the average is just a combination of individual events. \n",
    "\n",
    "In the above example, we have two examples of record-breaking temperatures. While we know that record temperatures are an extreme occurrence, measuring ***how*** extreme they are is important from a data science perspective.\n",
    "\n",
    "\n",
    "\n",
    "\n",
    "We can also run a test to see if these record-breaking temperatures are statistically significant from the average temperature” "
   ]
  },
  {
   "cell_type": "markdown",
   "id": "b4557165-46be-4ebe-9b5a-ffeaf921b321",
   "metadata": {},
   "source": [
    "## Scatterplots"
   ]
  },
  {
   "cell_type": "markdown",
   "id": "88212c58-3d3e-4def-9ab0-ee60aa6bc3d3",
   "metadata": {},
   "source": [
    "### Best Fit Lines and R-values"
   ]
  },
  {
   "cell_type": "markdown",
   "id": "4468aa05-e17f-4679-b7d5-ae6e7565c763",
   "metadata": {},
   "source": [
    "# Hypothesis Testing"
   ]
  },
  {
   "cell_type": "markdown",
   "id": "aa66eb09-5456-40f3-a49c-f9b009e1942b",
   "metadata": {},
   "source": [
    "## Building Contingency Tables"
   ]
  },
  {
   "cell_type": "markdown",
   "id": "63f941d9-7d3f-4968-8ebf-736db19686ad",
   "metadata": {},
   "source": [
    "## Histograms"
   ]
  },
  {
   "cell_type": "markdown",
   "id": "e33e0de9-eb1c-400f-b3e3-958bb681c195",
   "metadata": {},
   "source": [
    "## P-Values"
   ]
  },
  {
   "cell_type": "code",
   "execution_count": null,
   "id": "4fd2af40-917b-452b-b623-0aab54a309d7",
   "metadata": {},
   "outputs": [],
   "source": []
  }
 ],
 "metadata": {
  "kernelspec": {
   "display_name": "Python 3 (ipykernel)",
   "language": "python",
   "name": "python3"
  },
  "language_info": {
   "codemirror_mode": {
    "name": "ipython",
    "version": 3
   },
   "file_extension": ".py",
   "mimetype": "text/x-python",
   "name": "python",
   "nbconvert_exporter": "python",
   "pygments_lexer": "ipython3",
   "version": "3.9.12"
  }
 },
 "nbformat": 4,
 "nbformat_minor": 5
}
