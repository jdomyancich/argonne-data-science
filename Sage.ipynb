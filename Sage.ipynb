{
 "cells": [
  {
   "cell_type": "markdown",
   "id": "d6c92179-778c-4539-b4e4-eb0c45cc4f5d",
   "metadata": {},
   "source": [
    "# Using Data from Argonne's Sage Sensor Network"
   ]
  },
  {
   "cell_type": "code",
   "execution_count": null,
   "id": "2cfbe05d-3016-4b9d-9bff-57d75b3a4052",
   "metadata": {},
   "outputs": [],
   "source": [
    "import pandas as pd\n",
    "import matplotlib.pyplot as plt\n",
    "from IPython.display import IFrame"
   ]
  },
  {
   "cell_type": "markdown",
   "id": "837085e4-3ee6-44e8-8e90-7f0587a538f9",
   "metadata": {},
   "source": [
    "In the first Notebook, we looked at the minimum and maximum temperatures in Chicago that happened over 95 years. In this notebook, instead of looking back in time, we are going to spread out in space, looking at multiple sensor locations across the Chicagoland area. This map shows the location of each of the Sage sensors:"
   ]
  },
  {
   "cell_type": "code",
   "execution_count": null,
   "id": "fcea16ed-2361-4a89-9e1a-c5ff1fb4a778",
   "metadata": {},
   "outputs": [],
   "source": [
    "%%html\n",
    "<iframe src=\"https://www.google.com/maps/d/u/0/embed?mid=1X-Fu4a_4N8RT5Lbj-FfPhTNeh1u6jE0&ehbc=2E312F\" width=\"640\" height=\"480\"></iframe>"
   ]
  },
  {
   "cell_type": "markdown",
   "id": "c302b45d-34e4-44e8-918f-d6bd977294a8",
   "metadata": {},
   "source": [
    "All the Sage nodes measure temperature, pressure, humidity and rainfall, and most also measure cloud cover and solar irradiance. Solar irradiance is the output of light energy from the entire disk of the Sun, measured at the Earth (NASA)."
   ]
  },
  {
   "cell_type": "markdown",
   "id": "e37c37b5-f9da-4d05-92bf-e4e24250637a",
   "metadata": {},
   "source": [
    "We can import data from the Sage nodes by using the `sage_data_client` library. "
   ]
  },
  {
   "cell_type": "code",
   "execution_count": null,
   "id": "7deb160d-07bf-4051-b051-129a57d3c024",
   "metadata": {},
   "outputs": [],
   "source": [
    "import sage_data_client"
   ]
  },
  {
   "cell_type": "markdown",
   "id": "d7666bcd-bf0d-4bec-bd90-57e0ca201768",
   "metadata": {},
   "source": [
    "This cell will make it easier to select which measurements we want to import."
   ]
  },
  {
   "cell_type": "code",
   "execution_count": null,
   "id": "193ef558-304b-47e5-a6da-918b01b4753b",
   "metadata": {},
   "outputs": [],
   "source": [
    "temperature = 'env.temperature'\n",
    "pressure = 'env.pressure'\n",
    "humidity = 'env.relative_humidity'\n",
    "rainfall = 'env.raingauge.event_acc'\n",
    "solar_irradiance = 'env.irradiance.solar'\n",
    "cloud_cover = \"env.coverage.cloud\""
   ]
  },
  {
   "cell_type": "markdown",
   "id": "da833123-94f9-4ea2-a327-b0eb9d4f755a",
   "metadata": {},
   "source": [
    "In the following cell, replace the first `???` with the VSN of the node (e.g. W07F). You can select multiple nodes by separating them with a vertical bar, `|` (e.g. `W07D|W07F`).\n",
    "\n",
    "Replace the second `???` with the the measurement variable (e.g. `temperature`)."
   ]
  },
  {
   "cell_type": "code",
   "execution_count": null,
   "id": "1a6fb7c4-0ca2-4ca2-bf73-76cac6067f13",
   "metadata": {},
   "outputs": [],
   "source": [
    "node = '???' \n",
    "measurement = ??? "
   ]
  },
  {
   "cell_type": "markdown",
   "id": "8d67eabd-54c0-4c8f-8c9a-34cafba919b9",
   "metadata": {},
   "source": [
    "Enter the start and end dates of the data you want. For example:\n",
    "\n",
    "`start_month = 6`  \n",
    "`start_day = 26`  \n",
    "`start_year = 2023`"
   ]
  },
  {
   "cell_type": "code",
   "execution_count": null,
   "id": "680d1592-b789-4245-b3a1-f20675f147c7",
   "metadata": {},
   "outputs": [],
   "source": [
    "# Enter the start date for data\n",
    "start_month = ???\n",
    "start_day = ???\n",
    "start_year = ???\n",
    "\n",
    "# Enter the end date for the data\n",
    "end_month = ???\n",
    "end_day = ???\n",
    "end_year = ???"
   ]
  },
  {
   "cell_type": "markdown",
   "id": "2b25b6ba-012c-4e18-8222-ab4018f08182",
   "metadata": {},
   "source": [
    "If importing temperature, pressure or humidity, use the following cell:"
   ]
  },
  {
   "cell_type": "code",
   "execution_count": null,
   "id": "0e317973-c9b5-4864-8f23-741ab56cd618",
   "metadata": {},
   "outputs": [],
   "source": [
    "df = sage_data_client.query(\n",
    "    start=f\"{start_year}-{start_month}-{start_day}\",\n",
    "    end=f\"{end_year}-{end_month}-{end_day}\", \n",
    "    filter={\n",
    "        \"vsn\": 'W07F|W07D',\n",
    "        \"name\": measurement,\n",
    "        \"sensor\": \"bme680\"\n",
    "    }\n",
    ")"
   ]
  },
  {
   "cell_type": "markdown",
   "id": "da8f796e-f2dd-4dfd-b49b-83887369b107",
   "metadata": {},
   "source": [
    "If importing rainfall, solar irradiance or cloud cover, use this cell:"
   ]
  },
  {
   "cell_type": "code",
   "execution_count": null,
   "id": "274312e1-db8d-481b-b2e4-c0436adbbc5c",
   "metadata": {},
   "outputs": [],
   "source": [
    "df = sage_data_client.query(\n",
    "    start=f\"{start_year}-{start_month}-{start_day}\",\n",
    "    end=f\"{end_year}-{end_month}-{end_day}\", \n",
    "    filter={\n",
    "        \"vsn\": node,\n",
    "        \"name\": measurement,\n",
    "    }\n",
    ")"
   ]
  },
  {
   "cell_type": "markdown",
   "id": "15d16b40-2685-4868-b1e0-61ebf5c6852c",
   "metadata": {},
   "source": [
    "Your data should now be in the dataframe `df`. Now it's your turn to explore!"
   ]
  },
  {
   "cell_type": "code",
   "execution_count": null,
   "id": "39b34306-7669-45b7-975b-206aba1ea273",
   "metadata": {},
   "outputs": [],
   "source": []
  },
  {
   "cell_type": "code",
   "execution_count": null,
   "id": "b5a5a275-5497-4400-b56f-beea6a278430",
   "metadata": {},
   "outputs": [],
   "source": []
  }
 ],
 "metadata": {
  "kernelspec": {
   "display_name": "Python 3 (ipykernel)",
   "language": "python",
   "name": "python3"
  },
  "language_info": {
   "codemirror_mode": {
    "name": "ipython",
    "version": 3
   },
   "file_extension": ".py",
   "mimetype": "text/x-python",
   "name": "python",
   "nbconvert_exporter": "python",
   "pygments_lexer": "ipython3",
   "version": "3.9.12"
  }
 },
 "nbformat": 4,
 "nbformat_minor": 5
}
