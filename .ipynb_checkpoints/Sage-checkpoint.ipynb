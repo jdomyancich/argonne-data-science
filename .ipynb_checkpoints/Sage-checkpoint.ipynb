{
 "cells": [
  {
   "cell_type": "markdown",
   "id": "ca7ba86f-1328-48af-a956-b9c2a1df7cbc",
   "metadata": {},
   "source": [
    "In the first Notebook, we looked at the minimum and maximum temperatures in Chicago that happened over 95 years. In this notebook, instead of looking back in time, we are going to spread out in space, looking at multiple sensor locations across the Chicagoland area. This map shows the location of each of the Sage sensors:"
   ]
  },
  {
   "cell_type": "code",
   "execution_count": 16,
   "id": "54416b53-a78b-4c4b-8c2d-0806e85d3746",
   "metadata": {},
   "outputs": [],
   "source": [
    "from IPython.display import IFrame"
   ]
  },
  {
   "cell_type": "code",
   "execution_count": 17,
   "id": "fd6ce865-6a25-4238-9a73-11168b18cec3",
   "metadata": {},
   "outputs": [
    {
     "data": {
      "text/html": [
       "<iframe src=\"https://www.google.com/maps/d/u/0/embed?mid=1X-Fu4a_4N8RT5Lbj-FfPhTNeh1u6jE0&ehbc=2E312F\" width=\"640\" height=\"480\"></iframe>\n"
      ],
      "text/plain": [
       "<IPython.core.display.HTML object>"
      ]
     },
     "metadata": {},
     "output_type": "display_data"
    }
   ],
   "source": [
    "%%html\n",
    "<iframe src=\"https://www.google.com/maps/d/u/0/embed?mid=1X-Fu4a_4N8RT5Lbj-FfPhTNeh1u6jE0&ehbc=2E312F\" width=\"640\" height=\"480\"></iframe>"
   ]
  },
  {
   "cell_type": "markdown",
   "id": "9d97a5cc-1d7f-4c62-991d-55075ab859a4",
   "metadata": {},
   "source": [
    "All the Sage nodes measure temperature and rainfall, and most also measure cloud cover and solar irradiance. Solar irradiance is the output of light energy from the entire disk of the Sun, measured at the Earth (NASA)."
   ]
  },
  {
   "cell_type": "markdown",
   "id": "d047d822-ba7e-4efc-9e81-0dd50ae6aa9f",
   "metadata": {},
   "source": [
    "All the Chicago SAGE Nodes temperature data in the summer months.\n",
    "Should we show the daily min and max? Should we pick one month like July or August? How many years of SAGE data are there, can we show a couple summers? Maybe there is a specific time frame that highlights the difference in temperature across the city. \n"
   ]
  },
  {
   "cell_type": "code",
   "execution_count": 19,
   "id": "31c211c1-c419-4392-8bde-a565bfe237eb",
   "metadata": {},
   "outputs": [],
   "source": [
    "temperature = \"env.temperature\"\n",
    "pressure = \"env.pressure\"\n",
    "humidity = \"env.relative_humidity\"\n",
    "rainfall = \"env.raingauge.event_acc\"\n",
    "solar_irradiance = \"env.solar.irradiance\""
   ]
  },
  {
   "cell_type": "code",
   "execution_count": 20,
   "id": "055d3759-14d3-4f9a-a219-2267b963578d",
   "metadata": {},
   "outputs": [
    {
     "ename": "ModuleNotFoundError",
     "evalue": "No module named 'sage_data_client'",
     "output_type": "error",
     "traceback": [
      "\u001b[0;31m---------------------------------------------------------------------------\u001b[0m",
      "\u001b[0;31mModuleNotFoundError\u001b[0m                       Traceback (most recent call last)",
      "Input \u001b[0;32mIn [20]\u001b[0m, in \u001b[0;36m<cell line: 1>\u001b[0;34m()\u001b[0m\n\u001b[0;32m----> 1\u001b[0m \u001b[38;5;28;01mimport\u001b[39;00m \u001b[38;5;21;01msage_data_client\u001b[39;00m\n",
      "\u001b[0;31mModuleNotFoundError\u001b[0m: No module named 'sage_data_client'"
     ]
    }
   ],
   "source": [
    "import sage_data_client"
   ]
  },
  {
   "cell_type": "code",
   "execution_count": null,
   "id": "2caba25e-f00a-4a80-839d-55696068db1e",
   "metadata": {},
   "outputs": [],
   "source": [
    "measurement = temperature"
   ]
  },
  {
   "cell_type": "code",
   "execution_count": 18,
   "id": "b70a49dd-22ef-4b9f-ade1-a187236ab4e3",
   "metadata": {},
   "outputs": [
    {
     "ename": "NameError",
     "evalue": "name 'sage_data_client' is not defined",
     "output_type": "error",
     "traceback": [
      "\u001b[0;31m---------------------------------------------------------------------------\u001b[0m",
      "\u001b[0;31mNameError\u001b[0m                                 Traceback (most recent call last)",
      "Input \u001b[0;32mIn [18]\u001b[0m, in \u001b[0;36m<cell line: 1>\u001b[0;34m()\u001b[0m\n\u001b[0;32m----> 1\u001b[0m df \u001b[38;5;241m=\u001b[39m \u001b[43msage_data_client\u001b[49m\u001b[38;5;241m.\u001b[39mquery(\n\u001b[1;32m      2\u001b[0m     start\u001b[38;5;241m=\u001b[39m\u001b[38;5;124m\"\u001b[39m\u001b[38;5;124m2023-06-27T01:43:59.866Z\u001b[39m\u001b[38;5;124m\"\u001b[39m,\n\u001b[1;32m      3\u001b[0m     end\u001b[38;5;241m=\u001b[39m\u001b[38;5;124m\"\u001b[39m\u001b[38;5;124m2023-06-28T01:43:59.866Z\u001b[39m\u001b[38;5;124m\"\u001b[39m, \n\u001b[1;32m      4\u001b[0m     \u001b[38;5;28mfilter\u001b[39m\u001b[38;5;241m=\u001b[39m{\n\u001b[1;32m      5\u001b[0m         \u001b[38;5;124m\"\u001b[39m\u001b[38;5;124mvsn\u001b[39m\u001b[38;5;124m\"\u001b[39m: \u001b[38;5;124m\"\u001b[39m\u001b[38;5;124mW07D\u001b[39m\u001b[38;5;124m\"\u001b[39m,\n\u001b[1;32m      6\u001b[0m         \u001b[38;5;124m\"\u001b[39m\u001b[38;5;124mname\u001b[39m\u001b[38;5;124m\"\u001b[39m: temperature,\n\u001b[1;32m      7\u001b[0m         \u001b[38;5;124m\"\u001b[39m\u001b[38;5;124msensor\u001b[39m\u001b[38;5;124m\"\u001b[39m: \u001b[38;5;124m\"\u001b[39m\u001b[38;5;124mbme680\u001b[39m\u001b[38;5;124m\"\u001b[39m\n\u001b[1;32m      8\u001b[0m     }\n\u001b[1;32m      9\u001b[0m )\n",
      "\u001b[0;31mNameError\u001b[0m: name 'sage_data_client' is not defined"
     ]
    }
   ],
   "source": [
    "df = sage_data_client.query(\n",
    "    start=\"2023-06-27T01:43:59.866Z\",\n",
    "    end=\"2023-06-28T01:43:59.866Z\", \n",
    "    filter={\n",
    "        \"vsn\": \"W07D\",\n",
    "        \"name\": temperature,\n",
    "        \"sensor\": \"bme680\"\n",
    "    }\n",
    ")"
   ]
  },
  {
   "cell_type": "code",
   "execution_count": null,
   "id": "34c68e1f-b125-4ebc-bb2c-fac603eec0c7",
   "metadata": {},
   "outputs": [],
   "source": []
  }
 ],
 "metadata": {
  "kernelspec": {
   "display_name": "Python 3 (ipykernel)",
   "language": "python",
   "name": "python3"
  },
  "language_info": {
   "codemirror_mode": {
    "name": "ipython",
    "version": 3
   },
   "file_extension": ".py",
   "mimetype": "text/x-python",
   "name": "python",
   "nbconvert_exporter": "python",
   "pygments_lexer": "ipython3",
   "version": "3.9.12"
  }
 },
 "nbformat": 4,
 "nbformat_minor": 5
}
