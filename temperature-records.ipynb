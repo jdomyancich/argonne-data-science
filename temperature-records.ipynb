{
 "cells": [
  {
   "cell_type": "markdown",
   "metadata": {},
   "source": [
    "<img src=\"images/logos/CROCUS-Logo.png\" width=800 alt=\"CROCUS Logo\"></img>"
   ]
  },
  {
   "cell_type": "markdown",
   "metadata": {},
   "source": [
    "# Temperature Records\n",
    "\n",
    "Within this notebook, you will learn how to work with the GHCNd dataset, which includes critical climate data from around the world, including the City of Chicago, Illinois."
   ]
  },
  {
   "cell_type": "markdown",
   "metadata": {},
   "source": [
    "---"
   ]
  },
  {
   "cell_type": "markdown",
   "metadata": {},
   "source": [
    "## Overview\n",
    "If you have an introductory paragraph, lead with it here! Keep it short and tied to your material, then be sure to continue into the required list of topics below,\n",
    "\n",
    "1. Extract daily minumum and maximum temperature data from the GHCNd dataset\n",
    "1. Plot + visualize the dataset, locating the extreme events\n",
    "1. Highlight key dates - look at record warmth and cold\n",
    "1. Calculate if these record-breaking events are significant, using statistics!\n",
    "1. Journal space: Do you remember either of the record-breaking temperature dates?"
   ]
  },
  {
   "cell_type": "markdown",
   "metadata": {},
   "source": [
    "## Prerequisites\n",
    "\n",
    "\n",
    "Label the importance of each concept explicitly as **helpful/necessary**.\n",
    "\n",
    "| Concepts | Importance | Notes |\n",
    "| --- | --- | --- |\n",
    "| [Intro to Cartopy](https://foundations.projectpythia.org/core/cartopy/cartopy.html) | Necessary | |\n",
    "| [Understanding of NetCDF](https://foundations.projectpythia.org/core/data-formats/netcdf-cf.html) | Helpful | Familiarity with metadata structure |\n",
    "| Project management | Helpful | |\n",
    "\n",
    "- **Time to learn**: estimate in minutes. For a rough idea, use 5 mins per subsection, 10 if longer; add these up for a total. Safer to round up and overestimate.\n",
    "- **System requirements**:\n",
    "    - Populate with any system, version, or non-Python software requirements if necessary\n",
    "    - Otherwise use the concepts table above and the Imports section below to describe required packages as necessary\n",
    "    - If no extra requirements, remove the **System requirements** point altogether"
   ]
  },
  {
   "cell_type": "markdown",
   "metadata": {},
   "source": [
    "---"
   ]
  },
  {
   "cell_type": "markdown",
   "metadata": {},
   "source": [
    "## Imports\n",
    "Begin your body of content with another `---` divider before continuing into this section, then remove this body text and populate the following code cell with all necessary Python imports **up-front**:"
   ]
  },
  {
   "cell_type": "code",
   "execution_count": 26,
   "metadata": {},
   "outputs": [],
   "source": [
    "import numpy as np\n",
    "import pandas as pd\n",
    "import matplotlib.pyplot as plt\n"
   ]
  },
  {
   "cell_type": "markdown",
   "metadata": {},
   "source": [
    "## Extract daily minumum and maximum temperature data from the GHCNd dataset"
   ]
  },
  {
   "cell_type": "code",
   "execution_count": null,
   "metadata": {},
   "outputs": [],
   "source": []
  },
  {
   "cell_type": "code",
   "execution_count": 52,
   "metadata": {
    "tags": []
   },
   "outputs": [
    {
     "data": {
      "text/html": [
       "<div>\n",
       "<style scoped>\n",
       "    .dataframe tbody tr th:only-of-type {\n",
       "        vertical-align: middle;\n",
       "    }\n",
       "\n",
       "    .dataframe tbody tr th {\n",
       "        vertical-align: top;\n",
       "    }\n",
       "\n",
       "    .dataframe thead th {\n",
       "        text-align: right;\n",
       "    }\n",
       "</style>\n",
       "<table border=\"1\" class=\"dataframe\">\n",
       "  <thead>\n",
       "    <tr style=\"text-align: right;\">\n",
       "      <th></th>\n",
       "      <th>STATION</th>\n",
       "      <th>NAME</th>\n",
       "      <th>DATE</th>\n",
       "      <th>PRCP</th>\n",
       "      <th>TMAX</th>\n",
       "      <th>TMIN</th>\n",
       "    </tr>\n",
       "  </thead>\n",
       "  <tbody>\n",
       "    <tr>\n",
       "      <th>0</th>\n",
       "      <td>USC00111577</td>\n",
       "      <td>CHICAGO MIDWAY AIRPORT 3 SW, IL US</td>\n",
       "      <td>2/29/28</td>\n",
       "      <td>0.0</td>\n",
       "      <td>39.0</td>\n",
       "      <td>27.0</td>\n",
       "    </tr>\n",
       "    <tr>\n",
       "      <th>1</th>\n",
       "      <td>USC00111577</td>\n",
       "      <td>CHICAGO MIDWAY AIRPORT 3 SW, IL US</td>\n",
       "      <td>3/1/28</td>\n",
       "      <td>0.0</td>\n",
       "      <td>36.0</td>\n",
       "      <td>20.0</td>\n",
       "    </tr>\n",
       "    <tr>\n",
       "      <th>2</th>\n",
       "      <td>USC00111577</td>\n",
       "      <td>CHICAGO MIDWAY AIRPORT 3 SW, IL US</td>\n",
       "      <td>3/2/28</td>\n",
       "      <td>0.0</td>\n",
       "      <td>42.0</td>\n",
       "      <td>25.0</td>\n",
       "    </tr>\n",
       "    <tr>\n",
       "      <th>3</th>\n",
       "      <td>USC00111577</td>\n",
       "      <td>CHICAGO MIDWAY AIRPORT 3 SW, IL US</td>\n",
       "      <td>3/3/28</td>\n",
       "      <td>0.0</td>\n",
       "      <td>37.0</td>\n",
       "      <td>15.0</td>\n",
       "    </tr>\n",
       "    <tr>\n",
       "      <th>4</th>\n",
       "      <td>USC00111577</td>\n",
       "      <td>CHICAGO MIDWAY AIRPORT 3 SW, IL US</td>\n",
       "      <td>3/4/28</td>\n",
       "      <td>0.0</td>\n",
       "      <td>41.0</td>\n",
       "      <td>16.0</td>\n",
       "    </tr>\n",
       "    <tr>\n",
       "      <th>...</th>\n",
       "      <td>...</td>\n",
       "      <td>...</td>\n",
       "      <td>...</td>\n",
       "      <td>...</td>\n",
       "      <td>...</td>\n",
       "      <td>...</td>\n",
       "    </tr>\n",
       "    <tr>\n",
       "      <th>33393</th>\n",
       "      <td>USC00111577</td>\n",
       "      <td>CHICAGO MIDWAY AIRPORT 3 SW, IL US</td>\n",
       "      <td>5/25/23</td>\n",
       "      <td>0.0</td>\n",
       "      <td>62.0</td>\n",
       "      <td>50.0</td>\n",
       "    </tr>\n",
       "    <tr>\n",
       "      <th>33394</th>\n",
       "      <td>USC00111577</td>\n",
       "      <td>CHICAGO MIDWAY AIRPORT 3 SW, IL US</td>\n",
       "      <td>5/26/23</td>\n",
       "      <td>0.0</td>\n",
       "      <td>70.0</td>\n",
       "      <td>50.0</td>\n",
       "    </tr>\n",
       "    <tr>\n",
       "      <th>33395</th>\n",
       "      <td>USC00111577</td>\n",
       "      <td>CHICAGO MIDWAY AIRPORT 3 SW, IL US</td>\n",
       "      <td>5/27/23</td>\n",
       "      <td>0.0</td>\n",
       "      <td>74.0</td>\n",
       "      <td>48.0</td>\n",
       "    </tr>\n",
       "    <tr>\n",
       "      <th>33396</th>\n",
       "      <td>USC00111577</td>\n",
       "      <td>CHICAGO MIDWAY AIRPORT 3 SW, IL US</td>\n",
       "      <td>5/28/23</td>\n",
       "      <td>0.0</td>\n",
       "      <td>79.0</td>\n",
       "      <td>56.0</td>\n",
       "    </tr>\n",
       "    <tr>\n",
       "      <th>33397</th>\n",
       "      <td>USC00111577</td>\n",
       "      <td>CHICAGO MIDWAY AIRPORT 3 SW, IL US</td>\n",
       "      <td>5/29/23</td>\n",
       "      <td>0.0</td>\n",
       "      <td>83.0</td>\n",
       "      <td>55.0</td>\n",
       "    </tr>\n",
       "  </tbody>\n",
       "</table>\n",
       "<p>33398 rows × 6 columns</p>\n",
       "</div>"
      ],
      "text/plain": [
       "           STATION                                NAME     DATE  PRCP  TMAX  \\\n",
       "0      USC00111577  CHICAGO MIDWAY AIRPORT 3 SW, IL US  2/29/28   0.0  39.0   \n",
       "1      USC00111577  CHICAGO MIDWAY AIRPORT 3 SW, IL US   3/1/28   0.0  36.0   \n",
       "2      USC00111577  CHICAGO MIDWAY AIRPORT 3 SW, IL US   3/2/28   0.0  42.0   \n",
       "3      USC00111577  CHICAGO MIDWAY AIRPORT 3 SW, IL US   3/3/28   0.0  37.0   \n",
       "4      USC00111577  CHICAGO MIDWAY AIRPORT 3 SW, IL US   3/4/28   0.0  41.0   \n",
       "...            ...                                 ...      ...   ...   ...   \n",
       "33393  USC00111577  CHICAGO MIDWAY AIRPORT 3 SW, IL US  5/25/23   0.0  62.0   \n",
       "33394  USC00111577  CHICAGO MIDWAY AIRPORT 3 SW, IL US  5/26/23   0.0  70.0   \n",
       "33395  USC00111577  CHICAGO MIDWAY AIRPORT 3 SW, IL US  5/27/23   0.0  74.0   \n",
       "33396  USC00111577  CHICAGO MIDWAY AIRPORT 3 SW, IL US  5/28/23   0.0  79.0   \n",
       "33397  USC00111577  CHICAGO MIDWAY AIRPORT 3 SW, IL US  5/29/23   0.0  83.0   \n",
       "\n",
       "       TMIN  \n",
       "0      27.0  \n",
       "1      20.0  \n",
       "2      25.0  \n",
       "3      15.0  \n",
       "4      16.0  \n",
       "...     ...  \n",
       "33393  50.0  \n",
       "33394  50.0  \n",
       "33395  48.0  \n",
       "33396  56.0  \n",
       "33397  55.0  \n",
       "\n",
       "[33398 rows x 6 columns]"
      ]
     },
     "execution_count": 52,
     "metadata": {},
     "output_type": "execute_result"
    }
   ],
   "source": [
    "station = 'USC00111577'\n",
    "ohare = pd.read_csv('Datasets/midway.csv')\n",
    "ohare"
   ]
  },
  {
   "cell_type": "code",
   "execution_count": 60,
   "metadata": {},
   "outputs": [
    {
     "data": {
      "text/plain": [
       "DATE\n",
       "2028-02-29    39.0\n",
       "2028-03-01    36.0\n",
       "2028-03-02    42.0\n",
       "2028-03-03    37.0\n",
       "2028-03-04    41.0\n",
       "Name: TMAX, dtype: float64"
      ]
     },
     "execution_count": 60,
     "metadata": {},
     "output_type": "execute_result"
    }
   ],
   "source": [
    "# Clean up the dates\n",
    "ohare['DATE'] = pd.to_datetime(ohare.DATE)\n",
    "ohare.index = ohare['DATE']\n",
    "\n",
    "# Subset for tmax, tmin, and precipitation\n",
    "tmax = ohare['TMAX']\n",
    "tmin = ohare['TMIN']\n",
    "\n",
    "tmax.head()"
   ]
  },
  {
   "cell_type": "code",
   "execution_count": 71,
   "metadata": {},
   "outputs": [
    {
     "data": {
      "text/plain": [
       "DATE\n",
       "2028-03-01    36.0\n",
       "2028-03-02    42.0\n",
       "2028-03-03    37.0\n",
       "2028-03-04    41.0\n",
       "2028-03-05    28.0\n",
       "Name: TMAX, dtype: float64"
      ]
     },
     "execution_count": 71,
     "metadata": {},
     "output_type": "execute_result"
    }
   ],
   "source": [
    "subset = tmax.loc[(tmax.index.month == 3)]\n",
    "subset.head()"
   ]
  },
  {
   "cell_type": "code",
   "execution_count": 72,
   "metadata": {},
   "outputs": [
    {
     "data": {
      "text/plain": [
       "<matplotlib.collections.PathCollection at 0x7f7dd01bd5e0>"
      ]
     },
     "execution_count": 72,
     "metadata": {},
     "output_type": "execute_result"
    },
    {
     "data": {
      "image/png": "[encoded data removed]",
      "text/plain": [
       "<Figure size 432x288 with 1 Axes>"
      ]
     },
     "metadata": {
      "needs_background": "light"
     },
     "output_type": "display_data"
    }
   ],
   "source": [
    "plt.scatter(subset.index.year, subset)"
   ]
  },
  {
   "cell_type": "markdown",
   "metadata": {},
   "source": [
    "### Clean the Data"
   ]
  },
  {
   "cell_type": "code",
   "execution_count": 50,
   "metadata": {
    "tags": []
   },
   "outputs": [
    {
     "data": {
      "text/html": [
       "<div>\n",
       "<style scoped>\n",
       "    .dataframe tbody tr th:only-of-type {\n",
       "        vertical-align: middle;\n",
       "    }\n",
       "\n",
       "    .dataframe tbody tr th {\n",
       "        vertical-align: top;\n",
       "    }\n",
       "\n",
       "    .dataframe thead th {\n",
       "        text-align: right;\n",
       "    }\n",
       "</style>\n",
       "<table border=\"1\" class=\"dataframe\">\n",
       "  <thead>\n",
       "    <tr style=\"text-align: right;\">\n",
       "      <th></th>\n",
       "      <th>STATION</th>\n",
       "      <th>NAME</th>\n",
       "      <th>DATE</th>\n",
       "      <th>PRCP</th>\n",
       "      <th>TMAX</th>\n",
       "      <th>TMIN</th>\n",
       "    </tr>\n",
       "    <tr>\n",
       "      <th>DATE</th>\n",
       "      <th></th>\n",
       "      <th></th>\n",
       "      <th></th>\n",
       "      <th></th>\n",
       "      <th></th>\n",
       "      <th></th>\n",
       "    </tr>\n",
       "  </thead>\n",
       "  <tbody>\n",
       "    <tr>\n",
       "      <th>2028-07-01</th>\n",
       "      <td>USC00111577</td>\n",
       "      <td>CHICAGO MIDWAY AIRPORT 3 SW, IL US</td>\n",
       "      <td>2028-07-01</td>\n",
       "      <td>0.00</td>\n",
       "      <td>85.0</td>\n",
       "      <td>64.0</td>\n",
       "    </tr>\n",
       "    <tr>\n",
       "      <th>2028-07-05</th>\n",
       "      <td>USC00111577</td>\n",
       "      <td>CHICAGO MIDWAY AIRPORT 3 SW, IL US</td>\n",
       "      <td>2028-07-05</td>\n",
       "      <td>0.00</td>\n",
       "      <td>78.0</td>\n",
       "      <td>59.0</td>\n",
       "    </tr>\n",
       "    <tr>\n",
       "      <th>2029-07-01</th>\n",
       "      <td>USC00111577</td>\n",
       "      <td>CHICAGO MIDWAY AIRPORT 3 SW, IL US</td>\n",
       "      <td>2029-07-01</td>\n",
       "      <td>0.06</td>\n",
       "      <td>84.0</td>\n",
       "      <td>63.0</td>\n",
       "    </tr>\n",
       "    <tr>\n",
       "      <th>2029-07-02</th>\n",
       "      <td>USC00111577</td>\n",
       "      <td>CHICAGO MIDWAY AIRPORT 3 SW, IL US</td>\n",
       "      <td>2029-07-02</td>\n",
       "      <td>0.00</td>\n",
       "      <td>75.0</td>\n",
       "      <td>55.0</td>\n",
       "    </tr>\n",
       "    <tr>\n",
       "      <th>2030-07-01</th>\n",
       "      <td>USC00111577</td>\n",
       "      <td>CHICAGO MIDWAY AIRPORT 3 SW, IL US</td>\n",
       "      <td>2030-07-01</td>\n",
       "      <td>0.00</td>\n",
       "      <td>65.0</td>\n",
       "      <td>52.0</td>\n",
       "    </tr>\n",
       "  </tbody>\n",
       "</table>\n",
       "</div>"
      ],
      "text/plain": [
       "                STATION                                NAME       DATE  PRCP  \\\n",
       "DATE                                                                           \n",
       "2028-07-01  USC00111577  CHICAGO MIDWAY AIRPORT 3 SW, IL US 2028-07-01  0.00   \n",
       "2028-07-05  USC00111577  CHICAGO MIDWAY AIRPORT 3 SW, IL US 2028-07-05  0.00   \n",
       "2029-07-01  USC00111577  CHICAGO MIDWAY AIRPORT 3 SW, IL US 2029-07-01  0.06   \n",
       "2029-07-02  USC00111577  CHICAGO MIDWAY AIRPORT 3 SW, IL US 2029-07-02  0.00   \n",
       "2030-07-01  USC00111577  CHICAGO MIDWAY AIRPORT 3 SW, IL US 2030-07-01  0.00   \n",
       "\n",
       "            TMAX  TMIN  \n",
       "DATE                    \n",
       "2028-07-01  85.0  64.0  \n",
       "2028-07-05  78.0  59.0  \n",
       "2029-07-01  84.0  63.0  \n",
       "2029-07-02  75.0  55.0  \n",
       "2030-07-01  65.0  52.0  "
      ]
     },
     "execution_count": 50,
     "metadata": {},
     "output_type": "execute_result"
    }
   ],
   "source": [
    "# Clean up the dates\n",
    "ohare['DATE'] = pd.to_datetime(ohare.DATE)\n",
    "ohare.index = ohare['DATE']\n",
    "subset = ohare.loc[(ohare.index.month == 7)]\n",
    "subset.head()"
   ]
  },
  {
   "cell_type": "code",
   "execution_count": 51,
   "metadata": {},
   "outputs": [
    {
     "ename": "AttributeError",
     "evalue": "'DataFrame' object has no attribute 'plt'",
     "output_type": "error",
     "traceback": [
      "\u001b[0;31m---------------------------------------------------------------------------\u001b[0m",
      "\u001b[0;31mAttributeError\u001b[0m                            Traceback (most recent call last)",
      "Input \u001b[0;32mIn [51]\u001b[0m, in \u001b[0;36m<cell line: 1>\u001b[0;34m()\u001b[0m\n\u001b[0;32m----> 1\u001b[0m \u001b[43msubset\u001b[49m\u001b[38;5;241;43m.\u001b[39;49m\u001b[43mplt\u001b[49m\u001b[38;5;241m.\u001b[39mscatter\n",
      "File \u001b[0;32m/Users/argonneed/opt/anaconda3/lib/python3.9/site-packages/pandas/core/generic.py:5575\u001b[0m, in \u001b[0;36mNDFrame.__getattr__\u001b[0;34m(self, name)\u001b[0m\n\u001b[1;32m   5568\u001b[0m \u001b[38;5;28;01mif\u001b[39;00m (\n\u001b[1;32m   5569\u001b[0m     name \u001b[38;5;129;01mnot\u001b[39;00m \u001b[38;5;129;01min\u001b[39;00m \u001b[38;5;28mself\u001b[39m\u001b[38;5;241m.\u001b[39m_internal_names_set\n\u001b[1;32m   5570\u001b[0m     \u001b[38;5;129;01mand\u001b[39;00m name \u001b[38;5;129;01mnot\u001b[39;00m \u001b[38;5;129;01min\u001b[39;00m \u001b[38;5;28mself\u001b[39m\u001b[38;5;241m.\u001b[39m_metadata\n\u001b[1;32m   5571\u001b[0m     \u001b[38;5;129;01mand\u001b[39;00m name \u001b[38;5;129;01mnot\u001b[39;00m \u001b[38;5;129;01min\u001b[39;00m \u001b[38;5;28mself\u001b[39m\u001b[38;5;241m.\u001b[39m_accessors\n\u001b[1;32m   5572\u001b[0m     \u001b[38;5;129;01mand\u001b[39;00m \u001b[38;5;28mself\u001b[39m\u001b[38;5;241m.\u001b[39m_info_axis\u001b[38;5;241m.\u001b[39m_can_hold_identifiers_and_holds_name(name)\n\u001b[1;32m   5573\u001b[0m ):\n\u001b[1;32m   5574\u001b[0m     \u001b[38;5;28;01mreturn\u001b[39;00m \u001b[38;5;28mself\u001b[39m[name]\n\u001b[0;32m-> 5575\u001b[0m \u001b[38;5;28;01mreturn\u001b[39;00m \u001b[38;5;28;43mobject\u001b[39;49m\u001b[38;5;241;43m.\u001b[39;49m\u001b[38;5;21;43m__getattribute__\u001b[39;49m\u001b[43m(\u001b[49m\u001b[38;5;28;43mself\u001b[39;49m\u001b[43m,\u001b[49m\u001b[43m \u001b[49m\u001b[43mname\u001b[49m\u001b[43m)\u001b[49m\n",
      "\u001b[0;31mAttributeError\u001b[0m: 'DataFrame' object has no attribute 'plt'"
     ]
    }
   ],
   "source": [
    "plt.scatter("
   ]
  },
  {
   "cell_type": "code",
   "execution_count": 40,
   "metadata": {},
   "outputs": [
    {
     "data": {
      "text/html": [
       "<div>\n",
       "<style scoped>\n",
       "    .dataframe tbody tr th:only-of-type {\n",
       "        vertical-align: middle;\n",
       "    }\n",
       "\n",
       "    .dataframe tbody tr th {\n",
       "        vertical-align: top;\n",
       "    }\n",
       "\n",
       "    .dataframe thead th {\n",
       "        text-align: right;\n",
       "    }\n",
       "</style>\n",
       "<table border=\"1\" class=\"dataframe\">\n",
       "  <thead>\n",
       "    <tr style=\"text-align: right;\">\n",
       "      <th></th>\n",
       "      <th>STATION</th>\n",
       "      <th>NAME</th>\n",
       "      <th>DATE</th>\n",
       "      <th>PRCP</th>\n",
       "      <th>TMAX</th>\n",
       "      <th>TMIN</th>\n",
       "    </tr>\n",
       "    <tr>\n",
       "      <th>DATE</th>\n",
       "      <th></th>\n",
       "      <th></th>\n",
       "      <th></th>\n",
       "      <th></th>\n",
       "      <th></th>\n",
       "      <th></th>\n",
       "    </tr>\n",
       "  </thead>\n",
       "  <tbody>\n",
       "    <tr>\n",
       "      <th>2028-03-01</th>\n",
       "      <td>USC00111577</td>\n",
       "      <td>CHICAGO MIDWAY AIRPORT 3 SW, IL US</td>\n",
       "      <td>2028-03-01</td>\n",
       "      <td>0.00</td>\n",
       "      <td>36.0</td>\n",
       "      <td>20.0</td>\n",
       "    </tr>\n",
       "    <tr>\n",
       "      <th>2028-03-02</th>\n",
       "      <td>USC00111577</td>\n",
       "      <td>CHICAGO MIDWAY AIRPORT 3 SW, IL US</td>\n",
       "      <td>2028-03-02</td>\n",
       "      <td>0.00</td>\n",
       "      <td>42.0</td>\n",
       "      <td>25.0</td>\n",
       "    </tr>\n",
       "    <tr>\n",
       "      <th>2028-03-03</th>\n",
       "      <td>USC00111577</td>\n",
       "      <td>CHICAGO MIDWAY AIRPORT 3 SW, IL US</td>\n",
       "      <td>2028-03-03</td>\n",
       "      <td>0.00</td>\n",
       "      <td>37.0</td>\n",
       "      <td>15.0</td>\n",
       "    </tr>\n",
       "    <tr>\n",
       "      <th>2028-03-04</th>\n",
       "      <td>USC00111577</td>\n",
       "      <td>CHICAGO MIDWAY AIRPORT 3 SW, IL US</td>\n",
       "      <td>2028-03-04</td>\n",
       "      <td>0.00</td>\n",
       "      <td>41.0</td>\n",
       "      <td>16.0</td>\n",
       "    </tr>\n",
       "    <tr>\n",
       "      <th>2028-03-05</th>\n",
       "      <td>USC00111577</td>\n",
       "      <td>CHICAGO MIDWAY AIRPORT 3 SW, IL US</td>\n",
       "      <td>2028-03-05</td>\n",
       "      <td>0.00</td>\n",
       "      <td>28.0</td>\n",
       "      <td>8.0</td>\n",
       "    </tr>\n",
       "    <tr>\n",
       "      <th>...</th>\n",
       "      <td>...</td>\n",
       "      <td>...</td>\n",
       "      <td>...</td>\n",
       "      <td>...</td>\n",
       "      <td>...</td>\n",
       "      <td>...</td>\n",
       "    </tr>\n",
       "    <tr>\n",
       "      <th>2023-03-01</th>\n",
       "      <td>USC00111577</td>\n",
       "      <td>CHICAGO MIDWAY AIRPORT 3 SW, IL US</td>\n",
       "      <td>2023-03-01</td>\n",
       "      <td>0.07</td>\n",
       "      <td>57.0</td>\n",
       "      <td>37.0</td>\n",
       "    </tr>\n",
       "    <tr>\n",
       "      <th>2023-03-02</th>\n",
       "      <td>USC00111577</td>\n",
       "      <td>CHICAGO MIDWAY AIRPORT 3 SW, IL US</td>\n",
       "      <td>2023-03-02</td>\n",
       "      <td>0.00</td>\n",
       "      <td>39.0</td>\n",
       "      <td>34.0</td>\n",
       "    </tr>\n",
       "    <tr>\n",
       "      <th>2023-03-03</th>\n",
       "      <td>USC00111577</td>\n",
       "      <td>CHICAGO MIDWAY AIRPORT 3 SW, IL US</td>\n",
       "      <td>2023-03-03</td>\n",
       "      <td>0.03</td>\n",
       "      <td>39.0</td>\n",
       "      <td>32.0</td>\n",
       "    </tr>\n",
       "    <tr>\n",
       "      <th>2023-03-04</th>\n",
       "      <td>USC00111577</td>\n",
       "      <td>CHICAGO MIDWAY AIRPORT 3 SW, IL US</td>\n",
       "      <td>2023-03-04</td>\n",
       "      <td>0.01</td>\n",
       "      <td>50.0</td>\n",
       "      <td>28.0</td>\n",
       "    </tr>\n",
       "    <tr>\n",
       "      <th>2023-03-05</th>\n",
       "      <td>USC00111577</td>\n",
       "      <td>CHICAGO MIDWAY AIRPORT 3 SW, IL US</td>\n",
       "      <td>2023-03-05</td>\n",
       "      <td>0.03</td>\n",
       "      <td>49.0</td>\n",
       "      <td>30.0</td>\n",
       "    </tr>\n",
       "  </tbody>\n",
       "</table>\n",
       "<p>480 rows × 6 columns</p>\n",
       "</div>"
      ],
      "text/plain": [
       "                STATION                                NAME       DATE  PRCP  \\\n",
       "DATE                                                                           \n",
       "2028-03-01  USC00111577  CHICAGO MIDWAY AIRPORT 3 SW, IL US 2028-03-01  0.00   \n",
       "2028-03-02  USC00111577  CHICAGO MIDWAY AIRPORT 3 SW, IL US 2028-03-02  0.00   \n",
       "2028-03-03  USC00111577  CHICAGO MIDWAY AIRPORT 3 SW, IL US 2028-03-03  0.00   \n",
       "2028-03-04  USC00111577  CHICAGO MIDWAY AIRPORT 3 SW, IL US 2028-03-04  0.00   \n",
       "2028-03-05  USC00111577  CHICAGO MIDWAY AIRPORT 3 SW, IL US 2028-03-05  0.00   \n",
       "...                 ...                                 ...        ...   ...   \n",
       "2023-03-01  USC00111577  CHICAGO MIDWAY AIRPORT 3 SW, IL US 2023-03-01  0.07   \n",
       "2023-03-02  USC00111577  CHICAGO MIDWAY AIRPORT 3 SW, IL US 2023-03-02  0.00   \n",
       "2023-03-03  USC00111577  CHICAGO MIDWAY AIRPORT 3 SW, IL US 2023-03-03  0.03   \n",
       "2023-03-04  USC00111577  CHICAGO MIDWAY AIRPORT 3 SW, IL US 2023-03-04  0.01   \n",
       "2023-03-05  USC00111577  CHICAGO MIDWAY AIRPORT 3 SW, IL US 2023-03-05  0.03   \n",
       "\n",
       "            TMAX  TMIN  \n",
       "DATE                    \n",
       "2028-03-01  36.0  20.0  \n",
       "2028-03-02  42.0  25.0  \n",
       "2028-03-03  37.0  15.0  \n",
       "2028-03-04  41.0  16.0  \n",
       "2028-03-05  28.0   8.0  \n",
       "...          ...   ...  \n",
       "2023-03-01  57.0  37.0  \n",
       "2023-03-02  39.0  34.0  \n",
       "2023-03-03  39.0  32.0  \n",
       "2023-03-04  50.0  28.0  \n",
       "2023-03-05  49.0  30.0  \n",
       "\n",
       "[480 rows x 6 columns]"
      ]
     },
     "execution_count": 40,
     "metadata": {},
     "output_type": "execute_result"
    }
   ],
   "source": [
    "grouped_data = filtered_data.groupby(filtered_data.index.year)\n",
    "grouped_data.head()"
   ]
  },
  {
   "cell_type": "code",
   "execution_count": 41,
   "metadata": {},
   "outputs": [
    {
     "name": "stderr",
     "output_type": "stream",
     "text": [
      "/Users/argonneed/opt/anaconda3/lib/python3.9/site-packages/numpy/ma/core.py:2829: VisibleDeprecationWarning: Creating an ndarray from ragged nested sequences (which is a list-or-tuple of lists-or-tuples-or ndarrays with different lengths or shapes) is deprecated. If you meant to do this, you must specify 'dtype=object' when creating the ndarray.\n",
      "  _data = np.array(data, dtype=dtype, copy=copy,\n"
     ]
    },
    {
     "ename": "ValueError",
     "evalue": "setting an array element with a sequence.",
     "output_type": "error",
     "traceback": [
      "\u001b[0;31m---------------------------------------------------------------------------\u001b[0m",
      "\u001b[0;31mTypeError\u001b[0m                                 Traceback (most recent call last)",
      "File \u001b[0;32m/Users/argonneed/opt/anaconda3/lib/python3.9/site-packages/pandas/core/series.py:191\u001b[0m, in \u001b[0;36m_coerce_method.<locals>.wrapper\u001b[0;34m(self)\u001b[0m\n\u001b[1;32m    190\u001b[0m     \u001b[38;5;28;01mreturn\u001b[39;00m converter(\u001b[38;5;28mself\u001b[39m\u001b[38;5;241m.\u001b[39miloc[\u001b[38;5;241m0\u001b[39m])\n\u001b[0;32m--> 191\u001b[0m \u001b[38;5;28;01mraise\u001b[39;00m \u001b[38;5;167;01mTypeError\u001b[39;00m(\u001b[38;5;124mf\u001b[39m\u001b[38;5;124m\"\u001b[39m\u001b[38;5;124mcannot convert the series to \u001b[39m\u001b[38;5;132;01m{\u001b[39;00mconverter\u001b[38;5;132;01m}\u001b[39;00m\u001b[38;5;124m\"\u001b[39m)\n",
      "\u001b[0;31mTypeError\u001b[0m: cannot convert the series to <class 'float'>",
      "\nThe above exception was the direct cause of the following exception:\n",
      "\u001b[0;31mValueError\u001b[0m                                Traceback (most recent call last)",
      "Input \u001b[0;32mIn [41]\u001b[0m, in \u001b[0;36m<cell line: 8>\u001b[0;34m()\u001b[0m\n\u001b[1;32m      5\u001b[0m y \u001b[38;5;241m=\u001b[39m grouped_data[\u001b[38;5;124m'\u001b[39m\u001b[38;5;124mTMAX\u001b[39m\u001b[38;5;124m'\u001b[39m]\n\u001b[1;32m      7\u001b[0m \u001b[38;5;66;03m# Put the dots on the plot\u001b[39;00m\n\u001b[0;32m----> 8\u001b[0m \u001b[43mplt\u001b[49m\u001b[38;5;241;43m.\u001b[39;49m\u001b[43mscatter\u001b[49m\u001b[43m(\u001b[49m\u001b[43mx\u001b[49m\u001b[43m,\u001b[49m\u001b[43m \u001b[49m\u001b[43my\u001b[49m\u001b[43m)\u001b[49m\n\u001b[1;32m      9\u001b[0m plt\u001b[38;5;241m.\u001b[39mshow()\n",
      "File \u001b[0;32m/Users/argonneed/opt/anaconda3/lib/python3.9/site-packages/matplotlib/pyplot.py:2807\u001b[0m, in \u001b[0;36mscatter\u001b[0;34m(x, y, s, c, marker, cmap, norm, vmin, vmax, alpha, linewidths, edgecolors, plotnonfinite, data, **kwargs)\u001b[0m\n\u001b[1;32m   2802\u001b[0m \u001b[38;5;129m@_copy_docstring_and_deprecators\u001b[39m(Axes\u001b[38;5;241m.\u001b[39mscatter)\n\u001b[1;32m   2803\u001b[0m \u001b[38;5;28;01mdef\u001b[39;00m \u001b[38;5;21mscatter\u001b[39m(\n\u001b[1;32m   2804\u001b[0m         x, y, s\u001b[38;5;241m=\u001b[39m\u001b[38;5;28;01mNone\u001b[39;00m, c\u001b[38;5;241m=\u001b[39m\u001b[38;5;28;01mNone\u001b[39;00m, marker\u001b[38;5;241m=\u001b[39m\u001b[38;5;28;01mNone\u001b[39;00m, cmap\u001b[38;5;241m=\u001b[39m\u001b[38;5;28;01mNone\u001b[39;00m, norm\u001b[38;5;241m=\u001b[39m\u001b[38;5;28;01mNone\u001b[39;00m,\n\u001b[1;32m   2805\u001b[0m         vmin\u001b[38;5;241m=\u001b[39m\u001b[38;5;28;01mNone\u001b[39;00m, vmax\u001b[38;5;241m=\u001b[39m\u001b[38;5;28;01mNone\u001b[39;00m, alpha\u001b[38;5;241m=\u001b[39m\u001b[38;5;28;01mNone\u001b[39;00m, linewidths\u001b[38;5;241m=\u001b[39m\u001b[38;5;28;01mNone\u001b[39;00m, \u001b[38;5;241m*\u001b[39m,\n\u001b[1;32m   2806\u001b[0m         edgecolors\u001b[38;5;241m=\u001b[39m\u001b[38;5;28;01mNone\u001b[39;00m, plotnonfinite\u001b[38;5;241m=\u001b[39m\u001b[38;5;28;01mFalse\u001b[39;00m, data\u001b[38;5;241m=\u001b[39m\u001b[38;5;28;01mNone\u001b[39;00m, \u001b[38;5;241m*\u001b[39m\u001b[38;5;241m*\u001b[39mkwargs):\n\u001b[0;32m-> 2807\u001b[0m     __ret \u001b[38;5;241m=\u001b[39m \u001b[43mgca\u001b[49m\u001b[43m(\u001b[49m\u001b[43m)\u001b[49m\u001b[38;5;241;43m.\u001b[39;49m\u001b[43mscatter\u001b[49m\u001b[43m(\u001b[49m\n\u001b[1;32m   2808\u001b[0m \u001b[43m        \u001b[49m\u001b[43mx\u001b[49m\u001b[43m,\u001b[49m\u001b[43m \u001b[49m\u001b[43my\u001b[49m\u001b[43m,\u001b[49m\u001b[43m \u001b[49m\u001b[43ms\u001b[49m\u001b[38;5;241;43m=\u001b[39;49m\u001b[43ms\u001b[49m\u001b[43m,\u001b[49m\u001b[43m \u001b[49m\u001b[43mc\u001b[49m\u001b[38;5;241;43m=\u001b[39;49m\u001b[43mc\u001b[49m\u001b[43m,\u001b[49m\u001b[43m \u001b[49m\u001b[43mmarker\u001b[49m\u001b[38;5;241;43m=\u001b[39;49m\u001b[43mmarker\u001b[49m\u001b[43m,\u001b[49m\u001b[43m \u001b[49m\u001b[43mcmap\u001b[49m\u001b[38;5;241;43m=\u001b[39;49m\u001b[43mcmap\u001b[49m\u001b[43m,\u001b[49m\u001b[43m \u001b[49m\u001b[43mnorm\u001b[49m\u001b[38;5;241;43m=\u001b[39;49m\u001b[43mnorm\u001b[49m\u001b[43m,\u001b[49m\n\u001b[1;32m   2809\u001b[0m \u001b[43m        \u001b[49m\u001b[43mvmin\u001b[49m\u001b[38;5;241;43m=\u001b[39;49m\u001b[43mvmin\u001b[49m\u001b[43m,\u001b[49m\u001b[43m \u001b[49m\u001b[43mvmax\u001b[49m\u001b[38;5;241;43m=\u001b[39;49m\u001b[43mvmax\u001b[49m\u001b[43m,\u001b[49m\u001b[43m \u001b[49m\u001b[43malpha\u001b[49m\u001b[38;5;241;43m=\u001b[39;49m\u001b[43malpha\u001b[49m\u001b[43m,\u001b[49m\u001b[43m \u001b[49m\u001b[43mlinewidths\u001b[49m\u001b[38;5;241;43m=\u001b[39;49m\u001b[43mlinewidths\u001b[49m\u001b[43m,\u001b[49m\n\u001b[1;32m   2810\u001b[0m \u001b[43m        \u001b[49m\u001b[43medgecolors\u001b[49m\u001b[38;5;241;43m=\u001b[39;49m\u001b[43medgecolors\u001b[49m\u001b[43m,\u001b[49m\u001b[43m \u001b[49m\u001b[43mplotnonfinite\u001b[49m\u001b[38;5;241;43m=\u001b[39;49m\u001b[43mplotnonfinite\u001b[49m\u001b[43m,\u001b[49m\n\u001b[1;32m   2811\u001b[0m \u001b[43m        \u001b[49m\u001b[38;5;241;43m*\u001b[39;49m\u001b[38;5;241;43m*\u001b[39;49m\u001b[43m(\u001b[49m\u001b[43m{\u001b[49m\u001b[38;5;124;43m\"\u001b[39;49m\u001b[38;5;124;43mdata\u001b[39;49m\u001b[38;5;124;43m\"\u001b[39;49m\u001b[43m:\u001b[49m\u001b[43m \u001b[49m\u001b[43mdata\u001b[49m\u001b[43m}\u001b[49m\u001b[43m \u001b[49m\u001b[38;5;28;43;01mif\u001b[39;49;00m\u001b[43m \u001b[49m\u001b[43mdata\u001b[49m\u001b[43m \u001b[49m\u001b[38;5;129;43;01mis\u001b[39;49;00m\u001b[43m \u001b[49m\u001b[38;5;129;43;01mnot\u001b[39;49;00m\u001b[43m \u001b[49m\u001b[38;5;28;43;01mNone\u001b[39;49;00m\u001b[43m \u001b[49m\u001b[38;5;28;43;01melse\u001b[39;49;00m\u001b[43m \u001b[49m\u001b[43m{\u001b[49m\u001b[43m}\u001b[49m\u001b[43m)\u001b[49m\u001b[43m,\u001b[49m\u001b[43m \u001b[49m\u001b[38;5;241;43m*\u001b[39;49m\u001b[38;5;241;43m*\u001b[39;49m\u001b[43mkwargs\u001b[49m\u001b[43m)\u001b[49m\n\u001b[1;32m   2812\u001b[0m     sci(__ret)\n\u001b[1;32m   2813\u001b[0m     \u001b[38;5;28;01mreturn\u001b[39;00m __ret\n",
      "File \u001b[0;32m/Users/argonneed/opt/anaconda3/lib/python3.9/site-packages/matplotlib/__init__.py:1412\u001b[0m, in \u001b[0;36m_preprocess_data.<locals>.inner\u001b[0;34m(ax, data, *args, **kwargs)\u001b[0m\n\u001b[1;32m   1409\u001b[0m \u001b[38;5;129m@functools\u001b[39m\u001b[38;5;241m.\u001b[39mwraps(func)\n\u001b[1;32m   1410\u001b[0m \u001b[38;5;28;01mdef\u001b[39;00m \u001b[38;5;21minner\u001b[39m(ax, \u001b[38;5;241m*\u001b[39margs, data\u001b[38;5;241m=\u001b[39m\u001b[38;5;28;01mNone\u001b[39;00m, \u001b[38;5;241m*\u001b[39m\u001b[38;5;241m*\u001b[39mkwargs):\n\u001b[1;32m   1411\u001b[0m     \u001b[38;5;28;01mif\u001b[39;00m data \u001b[38;5;129;01mis\u001b[39;00m \u001b[38;5;28;01mNone\u001b[39;00m:\n\u001b[0;32m-> 1412\u001b[0m         \u001b[38;5;28;01mreturn\u001b[39;00m \u001b[43mfunc\u001b[49m\u001b[43m(\u001b[49m\u001b[43max\u001b[49m\u001b[43m,\u001b[49m\u001b[43m \u001b[49m\u001b[38;5;241;43m*\u001b[39;49m\u001b[38;5;28;43mmap\u001b[39;49m\u001b[43m(\u001b[49m\u001b[43msanitize_sequence\u001b[49m\u001b[43m,\u001b[49m\u001b[43m \u001b[49m\u001b[43margs\u001b[49m\u001b[43m)\u001b[49m\u001b[43m,\u001b[49m\u001b[43m \u001b[49m\u001b[38;5;241;43m*\u001b[39;49m\u001b[38;5;241;43m*\u001b[39;49m\u001b[43mkwargs\u001b[49m\u001b[43m)\u001b[49m\n\u001b[1;32m   1414\u001b[0m     bound \u001b[38;5;241m=\u001b[39m new_sig\u001b[38;5;241m.\u001b[39mbind(ax, \u001b[38;5;241m*\u001b[39margs, \u001b[38;5;241m*\u001b[39m\u001b[38;5;241m*\u001b[39mkwargs)\n\u001b[1;32m   1415\u001b[0m     auto_label \u001b[38;5;241m=\u001b[39m (bound\u001b[38;5;241m.\u001b[39marguments\u001b[38;5;241m.\u001b[39mget(label_namer)\n\u001b[1;32m   1416\u001b[0m                   \u001b[38;5;129;01mor\u001b[39;00m bound\u001b[38;5;241m.\u001b[39mkwargs\u001b[38;5;241m.\u001b[39mget(label_namer))\n",
      "File \u001b[0;32m/Users/argonneed/opt/anaconda3/lib/python3.9/site-packages/matplotlib/axes/_axes.py:4458\u001b[0m, in \u001b[0;36mAxes.scatter\u001b[0;34m(self, x, y, s, c, marker, cmap, norm, vmin, vmax, alpha, linewidths, edgecolors, plotnonfinite, **kwargs)\u001b[0m\n\u001b[1;32m   4452\u001b[0m         linewidths \u001b[38;5;241m=\u001b[39m [\n\u001b[1;32m   4453\u001b[0m             lw \u001b[38;5;28;01mif\u001b[39;00m lw \u001b[38;5;129;01mis\u001b[39;00m \u001b[38;5;129;01mnot\u001b[39;00m \u001b[38;5;28;01mNone\u001b[39;00m \u001b[38;5;28;01melse\u001b[39;00m rcParams[\u001b[38;5;124m'\u001b[39m\u001b[38;5;124mlines.linewidth\u001b[39m\u001b[38;5;124m'\u001b[39m]\n\u001b[1;32m   4454\u001b[0m             \u001b[38;5;28;01mfor\u001b[39;00m lw \u001b[38;5;129;01min\u001b[39;00m linewidths]\n\u001b[1;32m   4456\u001b[0m offsets \u001b[38;5;241m=\u001b[39m np\u001b[38;5;241m.\u001b[39mma\u001b[38;5;241m.\u001b[39mcolumn_stack([x, y])\n\u001b[0;32m-> 4458\u001b[0m collection \u001b[38;5;241m=\u001b[39m \u001b[43mmcoll\u001b[49m\u001b[38;5;241;43m.\u001b[39;49m\u001b[43mPathCollection\u001b[49m\u001b[43m(\u001b[49m\n\u001b[1;32m   4459\u001b[0m \u001b[43m        \u001b[49m\u001b[43m(\u001b[49m\u001b[43mpath\u001b[49m\u001b[43m,\u001b[49m\u001b[43m)\u001b[49m\u001b[43m,\u001b[49m\u001b[43m \u001b[49m\u001b[43mscales\u001b[49m\u001b[43m,\u001b[49m\n\u001b[1;32m   4460\u001b[0m \u001b[43m        \u001b[49m\u001b[43mfacecolors\u001b[49m\u001b[38;5;241;43m=\u001b[39;49m\u001b[43mcolors\u001b[49m\u001b[43m,\u001b[49m\n\u001b[1;32m   4461\u001b[0m \u001b[43m        \u001b[49m\u001b[43medgecolors\u001b[49m\u001b[38;5;241;43m=\u001b[39;49m\u001b[43medgecolors\u001b[49m\u001b[43m,\u001b[49m\n\u001b[1;32m   4462\u001b[0m \u001b[43m        \u001b[49m\u001b[43mlinewidths\u001b[49m\u001b[38;5;241;43m=\u001b[39;49m\u001b[43mlinewidths\u001b[49m\u001b[43m,\u001b[49m\n\u001b[1;32m   4463\u001b[0m \u001b[43m        \u001b[49m\u001b[43moffsets\u001b[49m\u001b[38;5;241;43m=\u001b[39;49m\u001b[43moffsets\u001b[49m\u001b[43m,\u001b[49m\n\u001b[1;32m   4464\u001b[0m \u001b[43m        \u001b[49m\u001b[43mtransOffset\u001b[49m\u001b[38;5;241;43m=\u001b[39;49m\u001b[43mkwargs\u001b[49m\u001b[38;5;241;43m.\u001b[39;49m\u001b[43mpop\u001b[49m\u001b[43m(\u001b[49m\u001b[38;5;124;43m'\u001b[39;49m\u001b[38;5;124;43mtransform\u001b[39;49m\u001b[38;5;124;43m'\u001b[39;49m\u001b[43m,\u001b[49m\u001b[43m \u001b[49m\u001b[38;5;28;43mself\u001b[39;49m\u001b[38;5;241;43m.\u001b[39;49m\u001b[43mtransData\u001b[49m\u001b[43m)\u001b[49m\u001b[43m,\u001b[49m\n\u001b[1;32m   4465\u001b[0m \u001b[43m        \u001b[49m\u001b[43malpha\u001b[49m\u001b[38;5;241;43m=\u001b[39;49m\u001b[43malpha\u001b[49m\n\u001b[1;32m   4466\u001b[0m \u001b[43m        \u001b[49m\u001b[43m)\u001b[49m\n\u001b[1;32m   4467\u001b[0m collection\u001b[38;5;241m.\u001b[39mset_transform(mtransforms\u001b[38;5;241m.\u001b[39mIdentityTransform())\n\u001b[1;32m   4468\u001b[0m collection\u001b[38;5;241m.\u001b[39mupdate(kwargs)\n",
      "File \u001b[0;32m/Users/argonneed/opt/anaconda3/lib/python3.9/site-packages/matplotlib/collections.py:1013\u001b[0m, in \u001b[0;36mPathCollection.__init__\u001b[0;34m(self, paths, sizes, **kwargs)\u001b[0m\n\u001b[1;32m    999\u001b[0m \u001b[38;5;28;01mdef\u001b[39;00m \u001b[38;5;21m__init__\u001b[39m(\u001b[38;5;28mself\u001b[39m, paths, sizes\u001b[38;5;241m=\u001b[39m\u001b[38;5;28;01mNone\u001b[39;00m, \u001b[38;5;241m*\u001b[39m\u001b[38;5;241m*\u001b[39mkwargs):\n\u001b[1;32m   1000\u001b[0m     \u001b[38;5;124;03m\"\"\"\u001b[39;00m\n\u001b[1;32m   1001\u001b[0m \u001b[38;5;124;03m    Parameters\u001b[39;00m\n\u001b[1;32m   1002\u001b[0m \u001b[38;5;124;03m    ----------\u001b[39;00m\n\u001b[0;32m   (...)\u001b[0m\n\u001b[1;32m   1010\u001b[0m \u001b[38;5;124;03m        Forwarded to `.Collection`.\u001b[39;00m\n\u001b[1;32m   1011\u001b[0m \u001b[38;5;124;03m    \"\"\"\u001b[39;00m\n\u001b[0;32m-> 1013\u001b[0m     \u001b[38;5;28;43msuper\u001b[39;49m\u001b[43m(\u001b[49m\u001b[43m)\u001b[49m\u001b[38;5;241;43m.\u001b[39;49m\u001b[38;5;21;43m__init__\u001b[39;49m\u001b[43m(\u001b[49m\u001b[38;5;241;43m*\u001b[39;49m\u001b[38;5;241;43m*\u001b[39;49m\u001b[43mkwargs\u001b[49m\u001b[43m)\u001b[49m\n\u001b[1;32m   1014\u001b[0m     \u001b[38;5;28mself\u001b[39m\u001b[38;5;241m.\u001b[39mset_paths(paths)\n\u001b[1;32m   1015\u001b[0m     \u001b[38;5;28mself\u001b[39m\u001b[38;5;241m.\u001b[39mset_sizes(sizes)\n",
      "File \u001b[0;32m/Users/argonneed/opt/anaconda3/lib/python3.9/site-packages/matplotlib/collections.py:200\u001b[0m, in \u001b[0;36mCollection.__init__\u001b[0;34m(self, edgecolors, facecolors, linewidths, linestyles, capstyle, joinstyle, antialiaseds, offsets, transOffset, norm, cmap, pickradius, hatch, urls, zorder, **kwargs)\u001b[0m\n\u001b[1;32m    197\u001b[0m \u001b[38;5;28mself\u001b[39m\u001b[38;5;241m.\u001b[39m_offsets \u001b[38;5;241m=\u001b[39m np\u001b[38;5;241m.\u001b[39mzeros((\u001b[38;5;241m1\u001b[39m, \u001b[38;5;241m2\u001b[39m))\n\u001b[1;32m    199\u001b[0m \u001b[38;5;28;01mif\u001b[39;00m offsets \u001b[38;5;129;01mis\u001b[39;00m \u001b[38;5;129;01mnot\u001b[39;00m \u001b[38;5;28;01mNone\u001b[39;00m:\n\u001b[0;32m--> 200\u001b[0m     offsets \u001b[38;5;241m=\u001b[39m \u001b[43mnp\u001b[49m\u001b[38;5;241;43m.\u001b[39;49m\u001b[43masanyarray\u001b[49m\u001b[43m(\u001b[49m\u001b[43moffsets\u001b[49m\u001b[43m,\u001b[49m\u001b[43m \u001b[49m\u001b[38;5;28;43mfloat\u001b[39;49m\u001b[43m)\u001b[49m\n\u001b[1;32m    201\u001b[0m     \u001b[38;5;66;03m# Broadcast (2,) -> (1, 2) but nothing else.\u001b[39;00m\n\u001b[1;32m    202\u001b[0m     \u001b[38;5;28;01mif\u001b[39;00m offsets\u001b[38;5;241m.\u001b[39mshape \u001b[38;5;241m==\u001b[39m (\u001b[38;5;241m2\u001b[39m,):\n",
      "\u001b[0;31mValueError\u001b[0m: setting an array element with a sequence."
     ]
    },
    {
     "data": {
      "image/png": "[encoded data removed]",
      "text/plain": [
       "<Figure size 432x288 with 1 Axes>"
      ]
     },
     "metadata": {
      "needs_background": "light"
     },
     "output_type": "display_data"
    }
   ],
   "source": [
    "# Visualizing to assist \n",
    "# Generate scatterplots of variables vs. mortality\n",
    "\n",
    "x = grouped_data['DATE']\n",
    "y = grouped_data['TMAX']\n",
    "\n",
    "# Put the dots on the plot\n",
    "plt.scatter(x, y)\n",
    "plt.show()"
   ]
  },
  {
   "cell_type": "code",
   "execution_count": 44,
   "metadata": {},
   "outputs": [
    {
     "name": "stderr",
     "output_type": "stream",
     "text": [
      "/Users/argonneed/opt/anaconda3/lib/python3.9/site-packages/numpy/lib/polynomial.py:621: VisibleDeprecationWarning: Creating an ndarray from ragged nested sequences (which is a list-or-tuple of lists-or-tuples-or ndarrays with different lengths or shapes) is deprecated. If you meant to do this, you must specify 'dtype=object' when creating the ndarray.\n",
      "  x = NX.asarray(x) + 0.0\n"
     ]
    },
    {
     "ename": "TypeError",
     "evalue": "unsupported operand type(s) for +: 'DatetimeArray' and 'float'",
     "output_type": "error",
     "traceback": [
      "\u001b[0;31m---------------------------------------------------------------------------\u001b[0m",
      "\u001b[0;31mTypeError\u001b[0m                                 Traceback (most recent call last)",
      "Input \u001b[0;32mIn [44]\u001b[0m, in \u001b[0;36m<cell line: 2>\u001b[0;34m()\u001b[0m\n\u001b[1;32m      1\u001b[0m \u001b[38;5;66;03m# Here we add a 'line of best fit' that helps us visualize potential correlation!\u001b[39;00m\n\u001b[0;32m----> 2\u001b[0m m, b \u001b[38;5;241m=\u001b[39m \u001b[43mnp\u001b[49m\u001b[38;5;241;43m.\u001b[39;49m\u001b[43mpolyfit\u001b[49m\u001b[43m(\u001b[49m\u001b[43mx\u001b[49m\u001b[43m,\u001b[49m\u001b[43m \u001b[49m\u001b[43my\u001b[49m\u001b[43m,\u001b[49m\u001b[43m \u001b[49m\u001b[38;5;241;43m1\u001b[39;49m\u001b[43m)\u001b[49m\n\u001b[1;32m      3\u001b[0m \u001b[38;5;66;03m# Put the line of best fit on the plot. \u001b[39;00m\n\u001b[1;32m      4\u001b[0m plt\u001b[38;5;241m.\u001b[39mplot(x, m\u001b[38;5;241m*\u001b[39mx \u001b[38;5;241m+\u001b[39m b)\n",
      "File \u001b[0;32m<__array_function__ internals>:5\u001b[0m, in \u001b[0;36mpolyfit\u001b[0;34m(*args, **kwargs)\u001b[0m\n",
      "File \u001b[0;32m/Users/argonneed/opt/anaconda3/lib/python3.9/site-packages/numpy/lib/polynomial.py:621\u001b[0m, in \u001b[0;36mpolyfit\u001b[0;34m(x, y, deg, rcond, full, w, cov)\u001b[0m\n\u001b[1;32m    455\u001b[0m \u001b[38;5;124;03m\"\"\"\u001b[39;00m\n\u001b[1;32m    456\u001b[0m \u001b[38;5;124;03mLeast squares polynomial fit.\u001b[39;00m\n\u001b[1;32m    457\u001b[0m \n\u001b[0;32m   (...)\u001b[0m\n\u001b[1;32m    618\u001b[0m \n\u001b[1;32m    619\u001b[0m \u001b[38;5;124;03m\"\"\"\u001b[39;00m\n\u001b[1;32m    620\u001b[0m order \u001b[38;5;241m=\u001b[39m \u001b[38;5;28mint\u001b[39m(deg) \u001b[38;5;241m+\u001b[39m \u001b[38;5;241m1\u001b[39m\n\u001b[0;32m--> 621\u001b[0m x \u001b[38;5;241m=\u001b[39m \u001b[43mNX\u001b[49m\u001b[38;5;241;43m.\u001b[39;49m\u001b[43masarray\u001b[49m\u001b[43m(\u001b[49m\u001b[43mx\u001b[49m\u001b[43m)\u001b[49m\u001b[43m \u001b[49m\u001b[38;5;241;43m+\u001b[39;49m\u001b[43m \u001b[49m\u001b[38;5;241;43m0.0\u001b[39;49m\n\u001b[1;32m    622\u001b[0m y \u001b[38;5;241m=\u001b[39m NX\u001b[38;5;241m.\u001b[39masarray(y) \u001b[38;5;241m+\u001b[39m \u001b[38;5;241m0.0\u001b[39m\n\u001b[1;32m    624\u001b[0m \u001b[38;5;66;03m# check arguments.\u001b[39;00m\n",
      "File \u001b[0;32m/Users/argonneed/opt/anaconda3/lib/python3.9/site-packages/pandas/core/ops/common.py:70\u001b[0m, in \u001b[0;36m_unpack_zerodim_and_defer.<locals>.new_method\u001b[0;34m(self, other)\u001b[0m\n\u001b[1;32m     66\u001b[0m             \u001b[38;5;28;01mreturn\u001b[39;00m \u001b[38;5;28mNotImplemented\u001b[39m\n\u001b[1;32m     68\u001b[0m other \u001b[38;5;241m=\u001b[39m item_from_zerodim(other)\n\u001b[0;32m---> 70\u001b[0m \u001b[38;5;28;01mreturn\u001b[39;00m \u001b[43mmethod\u001b[49m\u001b[43m(\u001b[49m\u001b[38;5;28;43mself\u001b[39;49m\u001b[43m,\u001b[49m\u001b[43m \u001b[49m\u001b[43mother\u001b[49m\u001b[43m)\u001b[49m\n",
      "File \u001b[0;32m/Users/argonneed/opt/anaconda3/lib/python3.9/site-packages/pandas/core/arraylike.py:100\u001b[0m, in \u001b[0;36mOpsMixin.__add__\u001b[0;34m(self, other)\u001b[0m\n\u001b[1;32m     98\u001b[0m \u001b[38;5;129m@unpack_zerodim_and_defer\u001b[39m(\u001b[38;5;124m\"\u001b[39m\u001b[38;5;124m__add__\u001b[39m\u001b[38;5;124m\"\u001b[39m)\n\u001b[1;32m     99\u001b[0m \u001b[38;5;28;01mdef\u001b[39;00m \u001b[38;5;21m__add__\u001b[39m(\u001b[38;5;28mself\u001b[39m, other):\n\u001b[0;32m--> 100\u001b[0m     \u001b[38;5;28;01mreturn\u001b[39;00m \u001b[38;5;28;43mself\u001b[39;49m\u001b[38;5;241;43m.\u001b[39;49m\u001b[43m_arith_method\u001b[49m\u001b[43m(\u001b[49m\u001b[43mother\u001b[49m\u001b[43m,\u001b[49m\u001b[43m \u001b[49m\u001b[43moperator\u001b[49m\u001b[38;5;241;43m.\u001b[39;49m\u001b[43madd\u001b[49m\u001b[43m)\u001b[49m\n",
      "File \u001b[0;32m/Users/argonneed/opt/anaconda3/lib/python3.9/site-packages/pandas/core/series.py:5639\u001b[0m, in \u001b[0;36mSeries._arith_method\u001b[0;34m(self, other, op)\u001b[0m\n\u001b[1;32m   5637\u001b[0m \u001b[38;5;28;01mdef\u001b[39;00m \u001b[38;5;21m_arith_method\u001b[39m(\u001b[38;5;28mself\u001b[39m, other, op):\n\u001b[1;32m   5638\u001b[0m     \u001b[38;5;28mself\u001b[39m, other \u001b[38;5;241m=\u001b[39m ops\u001b[38;5;241m.\u001b[39malign_method_SERIES(\u001b[38;5;28mself\u001b[39m, other)\n\u001b[0;32m-> 5639\u001b[0m     \u001b[38;5;28;01mreturn\u001b[39;00m \u001b[43mbase\u001b[49m\u001b[38;5;241;43m.\u001b[39;49m\u001b[43mIndexOpsMixin\u001b[49m\u001b[38;5;241;43m.\u001b[39;49m\u001b[43m_arith_method\u001b[49m\u001b[43m(\u001b[49m\u001b[38;5;28;43mself\u001b[39;49m\u001b[43m,\u001b[49m\u001b[43m \u001b[49m\u001b[43mother\u001b[49m\u001b[43m,\u001b[49m\u001b[43m \u001b[49m\u001b[43mop\u001b[49m\u001b[43m)\u001b[49m\n",
      "File \u001b[0;32m/Users/argonneed/opt/anaconda3/lib/python3.9/site-packages/pandas/core/base.py:1295\u001b[0m, in \u001b[0;36mIndexOpsMixin._arith_method\u001b[0;34m(self, other, op)\u001b[0m\n\u001b[1;32m   1292\u001b[0m rvalues \u001b[38;5;241m=\u001b[39m ensure_wrapped_if_datetimelike(rvalues)\n\u001b[1;32m   1294\u001b[0m \u001b[38;5;28;01mwith\u001b[39;00m np\u001b[38;5;241m.\u001b[39merrstate(\u001b[38;5;28mall\u001b[39m\u001b[38;5;241m=\u001b[39m\u001b[38;5;124m\"\u001b[39m\u001b[38;5;124mignore\u001b[39m\u001b[38;5;124m\"\u001b[39m):\n\u001b[0;32m-> 1295\u001b[0m     result \u001b[38;5;241m=\u001b[39m \u001b[43mops\u001b[49m\u001b[38;5;241;43m.\u001b[39;49m\u001b[43marithmetic_op\u001b[49m\u001b[43m(\u001b[49m\u001b[43mlvalues\u001b[49m\u001b[43m,\u001b[49m\u001b[43m \u001b[49m\u001b[43mrvalues\u001b[49m\u001b[43m,\u001b[49m\u001b[43m \u001b[49m\u001b[43mop\u001b[49m\u001b[43m)\u001b[49m\n\u001b[1;32m   1297\u001b[0m \u001b[38;5;28;01mreturn\u001b[39;00m \u001b[38;5;28mself\u001b[39m\u001b[38;5;241m.\u001b[39m_construct_result(result, name\u001b[38;5;241m=\u001b[39mres_name)\n",
      "File \u001b[0;32m/Users/argonneed/opt/anaconda3/lib/python3.9/site-packages/pandas/core/ops/array_ops.py:216\u001b[0m, in \u001b[0;36marithmetic_op\u001b[0;34m(left, right, op)\u001b[0m\n\u001b[1;32m    203\u001b[0m \u001b[38;5;66;03m# NB: We assume that extract_array and ensure_wrapped_if_datetimelike\u001b[39;00m\n\u001b[1;32m    204\u001b[0m \u001b[38;5;66;03m#  have already been called on `left` and `right`,\u001b[39;00m\n\u001b[1;32m    205\u001b[0m \u001b[38;5;66;03m#  and `maybe_prepare_scalar_for_op` has already been called on `right`\u001b[39;00m\n\u001b[1;32m    206\u001b[0m \u001b[38;5;66;03m# We need to special-case datetime64/timedelta64 dtypes (e.g. because numpy\u001b[39;00m\n\u001b[1;32m    207\u001b[0m \u001b[38;5;66;03m# casts integer dtypes to timedelta64 when operating with timedelta64 - GH#22390)\u001b[39;00m\n\u001b[1;32m    209\u001b[0m \u001b[38;5;28;01mif\u001b[39;00m (\n\u001b[1;32m    210\u001b[0m     should_extension_dispatch(left, right)\n\u001b[1;32m    211\u001b[0m     \u001b[38;5;129;01mor\u001b[39;00m \u001b[38;5;28misinstance\u001b[39m(right, (Timedelta, BaseOffset, Timestamp))\n\u001b[0;32m   (...)\u001b[0m\n\u001b[1;32m    214\u001b[0m     \u001b[38;5;66;03m# Timedelta/Timestamp and other custom scalars are included in the check\u001b[39;00m\n\u001b[1;32m    215\u001b[0m     \u001b[38;5;66;03m# because numexpr will fail on it, see GH#31457\u001b[39;00m\n\u001b[0;32m--> 216\u001b[0m     res_values \u001b[38;5;241m=\u001b[39m \u001b[43mop\u001b[49m\u001b[43m(\u001b[49m\u001b[43mleft\u001b[49m\u001b[43m,\u001b[49m\u001b[43m \u001b[49m\u001b[43mright\u001b[49m\u001b[43m)\u001b[49m\n\u001b[1;32m    217\u001b[0m \u001b[38;5;28;01melse\u001b[39;00m:\n\u001b[1;32m    218\u001b[0m     \u001b[38;5;66;03m# TODO we should handle EAs consistently and move this check before the if/else\u001b[39;00m\n\u001b[1;32m    219\u001b[0m     \u001b[38;5;66;03m# (https://github.com/pandas-dev/pandas/issues/41165)\u001b[39;00m\n\u001b[1;32m    220\u001b[0m     _bool_arith_check(op, left, right)\n",
      "\u001b[0;31mTypeError\u001b[0m: unsupported operand type(s) for +: 'DatetimeArray' and 'float'"
     ]
    }
   ],
   "source": [
    "# Here we add a 'line of best fit' that helps us visualize potential correlation!\n",
    "m, b = np.polyfit(x, y, 1)\n",
    "# Put the line of best fit on the plot. \n",
    "plt.plot(x, m*x + b)\n",
    "\n",
    "# slope, intercept, r_value, p_value, std_err = scipy.stats.linregress(x, y)\n",
    "\n",
    "plt.xlabel('Population Density (people per acre)')\n",
    "plt.ylabel('Death Rate (per 1000)')\n",
    "\n",
    "plt.xlim(right = 100)\n",
    "\n",
    "# Reveal the plot. \n",
    "plt.show()\n",
    "\n",
    "# Print the correlation coefficient value.\n",
    "#print(f\"R-squared: {r_value**2:.3f}\")"
   ]
  },
  {
   "cell_type": "code",
   "execution_count": 9,
   "metadata": {
    "tags": []
   },
   "outputs": [
    {
     "ename": "AttributeError",
     "evalue": "'DataFrame' object has no attribute 'ELEMENT'",
     "output_type": "error",
     "traceback": [
      "\u001b[0;31m---------------------------------------------------------------------------\u001b[0m",
      "\u001b[0;31mAttributeError\u001b[0m                            Traceback (most recent call last)",
      "Input \u001b[0;32mIn [9]\u001b[0m, in \u001b[0;36m<cell line: 5>\u001b[0;34m()\u001b[0m\n\u001b[1;32m      2\u001b[0m ohare[\u001b[38;5;124m'\u001b[39m\u001b[38;5;124mDATE\u001b[39m\u001b[38;5;124m'\u001b[39m] \u001b[38;5;241m=\u001b[39m pd\u001b[38;5;241m.\u001b[39mto_datetime(ohare\u001b[38;5;241m.\u001b[39mDATE)\n\u001b[1;32m      4\u001b[0m \u001b[38;5;66;03m# Subset for tmax, tmin, and precipitation\u001b[39;00m\n\u001b[0;32m----> 5\u001b[0m tmax \u001b[38;5;241m=\u001b[39m ohare\u001b[38;5;241m.\u001b[39mloc[\u001b[43mohare\u001b[49m\u001b[38;5;241;43m.\u001b[39;49m\u001b[43mELEMENT\u001b[49m \u001b[38;5;241m==\u001b[39m \u001b[38;5;124m'\u001b[39m\u001b[38;5;124mTMAX\u001b[39m\u001b[38;5;124m'\u001b[39m]\n\u001b[1;32m      6\u001b[0m tmin \u001b[38;5;241m=\u001b[39m ohare\u001b[38;5;241m.\u001b[39mloc[ohare\u001b[38;5;241m.\u001b[39mELEMENT \u001b[38;5;241m==\u001b[39m \u001b[38;5;124m'\u001b[39m\u001b[38;5;124mTMIN\u001b[39m\u001b[38;5;124m'\u001b[39m]\n\u001b[1;32m      7\u001b[0m precipitation \u001b[38;5;241m=\u001b[39m ohare\u001b[38;5;241m.\u001b[39mloc[ohare\u001b[38;5;241m.\u001b[39mELEMENT \u001b[38;5;241m==\u001b[39m \u001b[38;5;124m'\u001b[39m\u001b[38;5;124mPRCP\u001b[39m\u001b[38;5;124m'\u001b[39m]\n",
      "File \u001b[0;32m/Users/argonneed/opt/anaconda3/lib/python3.9/site-packages/pandas/core/generic.py:5575\u001b[0m, in \u001b[0;36mNDFrame.__getattr__\u001b[0;34m(self, name)\u001b[0m\n\u001b[1;32m   5568\u001b[0m \u001b[38;5;28;01mif\u001b[39;00m (\n\u001b[1;32m   5569\u001b[0m     name \u001b[38;5;129;01mnot\u001b[39;00m \u001b[38;5;129;01min\u001b[39;00m \u001b[38;5;28mself\u001b[39m\u001b[38;5;241m.\u001b[39m_internal_names_set\n\u001b[1;32m   5570\u001b[0m     \u001b[38;5;129;01mand\u001b[39;00m name \u001b[38;5;129;01mnot\u001b[39;00m \u001b[38;5;129;01min\u001b[39;00m \u001b[38;5;28mself\u001b[39m\u001b[38;5;241m.\u001b[39m_metadata\n\u001b[1;32m   5571\u001b[0m     \u001b[38;5;129;01mand\u001b[39;00m name \u001b[38;5;129;01mnot\u001b[39;00m \u001b[38;5;129;01min\u001b[39;00m \u001b[38;5;28mself\u001b[39m\u001b[38;5;241m.\u001b[39m_accessors\n\u001b[1;32m   5572\u001b[0m     \u001b[38;5;129;01mand\u001b[39;00m \u001b[38;5;28mself\u001b[39m\u001b[38;5;241m.\u001b[39m_info_axis\u001b[38;5;241m.\u001b[39m_can_hold_identifiers_and_holds_name(name)\n\u001b[1;32m   5573\u001b[0m ):\n\u001b[1;32m   5574\u001b[0m     \u001b[38;5;28;01mreturn\u001b[39;00m \u001b[38;5;28mself\u001b[39m[name]\n\u001b[0;32m-> 5575\u001b[0m \u001b[38;5;28;01mreturn\u001b[39;00m \u001b[38;5;28;43mobject\u001b[39;49m\u001b[38;5;241;43m.\u001b[39;49m\u001b[38;5;21;43m__getattribute__\u001b[39;49m\u001b[43m(\u001b[49m\u001b[38;5;28;43mself\u001b[39;49m\u001b[43m,\u001b[49m\u001b[43m \u001b[49m\u001b[43mname\u001b[49m\u001b[43m)\u001b[49m\n",
      "\u001b[0;31mAttributeError\u001b[0m: 'DataFrame' object has no attribute 'ELEMENT'"
     ]
    }
   ],
   "source": [
    "tmin = filtered_data.loc[filtered_data.ELEMENT == 'TMIN']\n",
    "precipitation = filtered_data.loc[filtered_data.ELEMENT == 'PRCP']\n",
    "\n",
    "# Rename the columns, set the index to the date\n",
    "tmax_df = tmax[['DATE', 'DATA_VALUE']].rename(columns={'DATA_VALUE': 'TMAX'}).set_index('DATE')\n",
    "tmin_df = tmin[['DATE', 'DATA_VALUE']].rename(columns={'DATA_VALUE': 'TMIN'}).set_index('DATE')\n",
    "precip_df = precipitation[['DATE', 'DATA_VALUE']].rename(columns={'DATA_VALUE': 'PRCP'}).set_index('DATE')\n",
    "\n",
    "# Convert to degrees Celsius\n",
    "tmax_df['TMAX'] = tmax_df.TMAX/10\n",
    "tmin_df['TMIN'] = tmin_df.TMIN/10\n",
    "\n",
    "df = pd.DataFrame({'TMAX':tmax_df.TMAX,\n",
    "                   'TMIN':tmin_df.TMIN})"
   ]
  },
  {
   "cell_type": "code",
   "execution_count": 61,
   "metadata": {
    "tags": []
   },
   "outputs": [],
   "source": [
    "subset = df.loc[(df.index.month == 7)]"
   ]
  },
  {
   "cell_type": "code",
   "execution_count": 68,
   "metadata": {
    "tags": []
   },
   "outputs": [
    {
     "data": {},
     "metadata": {},
     "output_type": "display_data"
    },
    {
     "data": {
      "application/vnd.holoviews_exec.v0+json": "",
      "text/html": [
       "<div id='5400'>\n",
       "  <div class=\"bk-root\" id=\"2cf81512-8e84-4c85-8525-73f4282bc95c\" data-root-id=\"5400\"></div>\n",
       "</div>\n",
       "<script type=\"application/javascript\">(function(root) {\n",
       "  function embed_document(root) {\n",
       "    var docs_json = {\"c62fce09-3003-41f4-becd-b27fa3499d7e\":{\"defs\":[{\"extends\":null,\"module\":null,\"name\":\"ReactiveHTML1\",\"overrides\":[],\"properties\":[]},{\"extends\":null,\"module\":null,\"name\":\"FlexBox1\",\"overrides\":[],\"properties\":[{\"default\":\"flex-start\",\"kind\":null,\"name\":\"align_content\"},{\"default\":\"flex-start\",\"kind\":null,\"name\":\"align_items\"},{\"default\":\"row\",\"kind\":null,\"name\":\"flex_direction\"},{\"default\":\"wrap\",\"kind\":null,\"name\":\"flex_wrap\"},{\"default\":\"flex-start\",\"kind\":null,\"name\":\"justify_content\"}]},{\"extends\":null,\"module\":null,\"name\":\"GridStack1\",\"overrides\":[],\"properties\":[{\"default\":\"warn\",\"kind\":null,\"name\":\"mode\"},{\"default\":null,\"kind\":null,\"name\":\"ncols\"},{\"default\":null,\"kind\":null,\"name\":\"nrows\"},{\"default\":true,\"kind\":null,\"name\":\"allow_resize\"},{\"default\":true,\"kind\":null,\"name\":\"allow_drag\"},{\"default\":[],\"kind\":null,\"name\":\"state\"}]},{\"extends\":null,\"module\":null,\"name\":\"click1\",\"overrides\":[],\"properties\":[{\"default\":\"\",\"kind\":null,\"name\":\"terminal_output\"},{\"default\":\"\",\"kind\":null,\"name\":\"debug_name\"},{\"default\":0,\"kind\":null,\"name\":\"clears\"}]},{\"extends\":null,\"module\":null,\"name\":\"NotificationAreaBase1\",\"overrides\":[],\"properties\":[{\"default\":\"bottom-right\",\"kind\":null,\"name\":\"position\"},{\"default\":0,\"kind\":null,\"name\":\"_clear\"}]},{\"extends\":null,\"module\":null,\"name\":\"NotificationArea1\",\"overrides\":[],\"properties\":[{\"default\":[],\"kind\":null,\"name\":\"notifications\"},{\"default\":\"bottom-right\",\"kind\":null,\"name\":\"position\"},{\"default\":0,\"kind\":null,\"name\":\"_clear\"},{\"default\":[{\"background\":\"#ffc107\",\"icon\":{\"className\":\"fas fa-exclamation-triangle\",\"color\":\"white\",\"tagName\":\"i\"},\"type\":\"warning\"},{\"background\":\"#007bff\",\"icon\":{\"className\":\"fas fa-info-circle\",\"color\":\"white\",\"tagName\":\"i\"},\"type\":\"info\"}],\"kind\":null,\"name\":\"types\"}]},{\"extends\":null,\"module\":null,\"name\":\"Notification\",\"overrides\":[],\"properties\":[{\"default\":null,\"kind\":null,\"name\":\"background\"},{\"default\":3000,\"kind\":null,\"name\":\"duration\"},{\"default\":null,\"kind\":null,\"name\":\"icon\"},{\"default\":\"\",\"kind\":null,\"name\":\"message\"},{\"default\":null,\"kind\":null,\"name\":\"notification_type\"},{\"default\":false,\"kind\":null,\"name\":\"_destroyed\"}]},{\"extends\":null,\"module\":null,\"name\":\"TemplateActions1\",\"overrides\":[],\"properties\":[{\"default\":0,\"kind\":null,\"name\":\"open_modal\"},{\"default\":0,\"kind\":null,\"name\":\"close_modal\"}]},{\"extends\":null,\"module\":null,\"name\":\"MaterialTemplateActions1\",\"overrides\":[],\"properties\":[{\"default\":0,\"kind\":null,\"name\":\"open_modal\"},{\"default\":0,\"kind\":null,\"name\":\"close_modal\"}]}],\"roots\":{\"references\":[{\"attributes\":{\"days\":[1,15]},\"id\":\"5469\",\"type\":\"DaysTicker\"},{\"attributes\":{\"active_drag\":{\"id\":\"5422\"},\"active_scroll\":{\"id\":\"5423\"},\"tools\":[{\"id\":\"5403\"},{\"id\":\"5421\"},{\"id\":\"5422\"},{\"id\":\"5423\"},{\"id\":\"5424\"},{\"id\":\"5425\"}]},\"id\":\"5427\",\"type\":\"Toolbar\"},{\"attributes\":{},\"id\":\"5425\",\"type\":\"ResetTool\"},{\"attributes\":{},\"id\":\"5418\",\"type\":\"BasicTicker\"},{\"attributes\":{\"days\":[1,4,7,10,13,16,19,22,25,28]},\"id\":\"5467\",\"type\":\"DaysTicker\"},{\"attributes\":{},\"id\":\"5411\",\"type\":\"LinearScale\"},{\"attributes\":{\"coordinates\":null,\"group\":null,\"text\":\"July Maximum Temperature at Midway Airport\",\"text_color\":\"black\",\"text_font_size\":\"12pt\"},\"id\":\"5405\",\"type\":\"Title\"},{\"attributes\":{\"mantissas\":[1,2,5],\"max_interval\":500.0,\"num_minor_ticks\":0},\"id\":\"5463\",\"type\":\"AdaptiveTicker\"},{\"attributes\":{\"axis\":{\"id\":\"5417\"},\"coordinates\":null,\"dimension\":1,\"grid_line_color\":null,\"group\":null,\"ticker\":null},\"id\":\"5420\",\"type\":\"Grid\"},{\"attributes\":{\"end\":43.43,\"reset_end\":43.43,\"reset_start\":15.47,\"start\":15.47,\"tags\":[[[\"TMAX\",\"TMAX\",null]]]},\"id\":\"5402\",\"type\":\"Range1d\"},{\"attributes\":{},\"id\":\"5435\",\"type\":\"Selection\"},{\"attributes\":{},\"id\":\"5421\",\"type\":\"SaveTool\"},{\"attributes\":{\"days\":[1,8,15,22]},\"id\":\"5468\",\"type\":\"DaysTicker\"},{\"attributes\":{\"months\":[0,2,4,6,8,10]},\"id\":\"5471\",\"type\":\"MonthsTicker\"},{\"attributes\":{\"axis_label\":\"Temperature (degC)\",\"coordinates\":null,\"formatter\":{\"id\":\"5447\"},\"group\":null,\"major_label_policy\":{\"id\":\"5448\"},\"ticker\":{\"id\":\"5418\"}},\"id\":\"5417\",\"type\":\"LinearAxis\"},{\"attributes\":{\"axis_label\":\"Year\",\"coordinates\":null,\"formatter\":{\"id\":\"5444\"},\"group\":null,\"major_label_policy\":{\"id\":\"5445\"},\"ticker\":{\"id\":\"5414\"}},\"id\":\"5413\",\"type\":\"DatetimeAxis\"},{\"attributes\":{\"axis\":{\"id\":\"5413\"},\"coordinates\":null,\"grid_line_color\":null,\"group\":null,\"ticker\":null},\"id\":\"5416\",\"type\":\"Grid\"},{\"attributes\":{},\"id\":\"5447\",\"type\":\"BasicTickFormatter\"},{\"attributes\":{\"source\":{\"id\":\"5434\"}},\"id\":\"5441\",\"type\":\"CDSView\"},{\"attributes\":{\"overlay\":{\"id\":\"5426\"}},\"id\":\"5424\",\"type\":\"BoxZoomTool\"},{\"attributes\":{\"num_minor_ticks\":5,\"tickers\":[{\"id\":\"5463\"},{\"id\":\"5464\"},{\"id\":\"5465\"},{\"id\":\"5466\"},{\"id\":\"5467\"},{\"id\":\"5468\"},{\"id\":\"5469\"},{\"id\":\"5470\"},{\"id\":\"5471\"},{\"id\":\"5472\"},{\"id\":\"5473\"},{\"id\":\"5474\"}]},\"id\":\"5414\",\"type\":\"DatetimeTicker\"},{\"attributes\":{\"angle\":{\"value\":0.0},\"fill_alpha\":{\"value\":1.0},\"fill_color\":{\"value\":\"#30a2da\"},\"hatch_alpha\":{\"value\":1.0},\"hatch_color\":{\"value\":\"#30a2da\"},\"hatch_scale\":{\"value\":12.0},\"hatch_weight\":{\"value\":1.0},\"line_alpha\":{\"value\":1.0},\"line_cap\":{\"value\":\"butt\"},\"line_color\":{\"value\":\"#30a2da\"},\"line_dash\":{\"value\":[]},\"line_dash_offset\":{\"value\":0},\"line_join\":{\"value\":\"bevel\"},\"line_width\":{\"value\":1},\"marker\":{\"value\":\"circle\"},\"size\":{\"value\":5.477225575051661},\"tags\":[\"apply_ranges\"],\"x\":{\"field\":\"DATE\"},\"y\":{\"field\":\"TMAX\"}},\"id\":\"5442\",\"type\":\"Scatter\"},{\"attributes\":{\"months\":[0,4,8]},\"id\":\"5472\",\"type\":\"MonthsTicker\"},{\"attributes\":{\"end\":1786466880000.0,\"reset_end\":1786466880000.0,\"reset_start\":-1436978880000.0,\"start\":-1436978880000.0,\"tags\":[[[\"DATE\",\"DATE\",null]]]},\"id\":\"5401\",\"type\":\"Range1d\"},{\"attributes\":{},\"id\":\"5423\",\"type\":\"WheelZoomTool\"},{\"attributes\":{\"months\":[0,6]},\"id\":\"5473\",\"type\":\"MonthsTicker\"},{\"attributes\":{\"callback\":null,\"formatters\":{\"@{DATE}\":\"datetime\"},\"renderers\":[{\"id\":\"5440\"}],\"tags\":[\"hv_created\"],\"tooltips\":[[\"DATE\",\"@{DATE}{%F %T}\"],[\"TMAX\",\"@{TMAX}\"]]},\"id\":\"5403\",\"type\":\"HoverTool\"},{\"attributes\":{\"children\":[{\"id\":\"5404\"}],\"height\":300,\"margin\":[0,0,0,0],\"name\":\"Row23184\",\"sizing_mode\":\"fixed\",\"tags\":[\"embedded\"],\"width\":700},\"id\":\"5400\",\"type\":\"Row\"},{\"attributes\":{\"fill_alpha\":{\"value\":0.1},\"fill_color\":{\"value\":\"#30a2da\"},\"hatch_alpha\":{\"value\":0.1},\"hatch_color\":{\"value\":\"#30a2da\"},\"line_alpha\":{\"value\":0.1},\"line_color\":{\"value\":\"#30a2da\"},\"size\":{\"value\":5.477225575051661},\"tags\":[\"apply_ranges\"],\"x\":{\"field\":\"DATE\"},\"y\":{\"field\":\"TMAX\"}},\"id\":\"5438\",\"type\":\"Scatter\"},{\"attributes\":{\"months\":[0,1,2,3,4,5,6,7,8,9,10,11]},\"id\":\"5470\",\"type\":\"MonthsTicker\"},{\"attributes\":{\"fill_alpha\":{\"value\":0.2},\"fill_color\":{\"value\":\"#30a2da\"},\"hatch_alpha\":{\"value\":0.2},\"hatch_color\":{\"value\":\"#30a2da\"},\"line_alpha\":{\"value\":0.2},\"line_color\":{\"value\":\"#30a2da\"},\"size\":{\"value\":5.477225575051661},\"tags\":[\"apply_ranges\"],\"x\":{\"field\":\"DATE\"},\"y\":{\"field\":\"TMAX\"}},\"id\":\"5439\",\"type\":\"Scatter\"},{\"attributes\":{},\"id\":\"5445\",\"type\":\"AllLabels\"},{\"attributes\":{},\"id\":\"5409\",\"type\":\"LinearScale\"},{\"attributes\":{},\"id\":\"5460\",\"type\":\"UnionRenderers\"},{\"attributes\":{\"coordinates\":null,\"data_source\":{\"id\":\"5434\"},\"glyph\":{\"id\":\"5437\"},\"group\":null,\"hover_glyph\":null,\"muted_glyph\":{\"id\":\"5439\"},\"nonselection_glyph\":{\"id\":\"5438\"},\"selection_glyph\":{\"id\":\"5442\"},\"view\":{\"id\":\"5441\"}},\"id\":\"5440\",\"type\":\"GlyphRenderer\"},{\"attributes\":{\"below\":[{\"id\":\"5413\"}],\"center\":[{\"id\":\"5416\"},{\"id\":\"5420\"}],\"height\":300,\"left\":[{\"id\":\"5417\"}],\"margin\":[5,5,5,5],\"min_border_bottom\":10,\"min_border_left\":10,\"min_border_right\":10,\"min_border_top\":10,\"output_backend\":\"webgl\",\"renderers\":[{\"id\":\"5440\"}],\"sizing_mode\":\"fixed\",\"title\":{\"id\":\"5405\"},\"toolbar\":{\"id\":\"5427\"},\"width\":700,\"x_range\":{\"id\":\"5401\"},\"x_scale\":{\"id\":\"5409\"},\"y_range\":{\"id\":\"5402\"},\"y_scale\":{\"id\":\"5411\"}},\"id\":\"5404\",\"subtype\":\"Figure\",\"type\":\"Plot\"},{\"attributes\":{},\"id\":\"5422\",\"type\":\"PanTool\"},{\"attributes\":{},\"id\":\"5444\",\"type\":\"DatetimeTickFormatter\"},{\"attributes\":{\"base\":24,\"mantissas\":[1,2,4,6,8,12],\"max_interval\":43200000.0,\"min_interval\":3600000.0,\"num_minor_ticks\":0},\"id\":\"5465\",\"type\":\"AdaptiveTicker\"},{\"attributes\":{\"data\":{\"DATE\":{\"__ndarray__\":\"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\",\"dtype\":\"float64\",\"order\":\"little\",\"shape\":[2541]},\"TMAX\":{\"__ndarray__\":\"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\",\"dtype\":\"float64\",\"order\":\"little\",\"shape\":[2541]}},\"selected\":{\"id\":\"5435\"},\"selection_policy\":{\"id\":\"5460\"}},\"id\":\"5434\",\"type\":\"ColumnDataSource\"},{\"attributes\":{},\"id\":\"5448\",\"type\":\"AllLabels\"},{\"attributes\":{\"bottom_units\":\"screen\",\"coordinates\":null,\"fill_alpha\":0.5,\"fill_color\":\"lightgrey\",\"group\":null,\"left_units\":\"screen\",\"level\":\"overlay\",\"line_alpha\":1.0,\"line_color\":\"black\",\"line_dash\":[4,4],\"line_width\":2,\"right_units\":\"screen\",\"syncable\":false,\"top_units\":\"screen\"},\"id\":\"5426\",\"type\":\"BoxAnnotation\"},{\"attributes\":{\"base\":60,\"mantissas\":[1,2,5,10,15,20,30],\"max_interval\":1800000.0,\"min_interval\":1000.0,\"num_minor_ticks\":0},\"id\":\"5464\",\"type\":\"AdaptiveTicker\"},{\"attributes\":{\"fill_color\":{\"value\":\"#30a2da\"},\"hatch_color\":{\"value\":\"#30a2da\"},\"line_color\":{\"value\":\"#30a2da\"},\"size\":{\"value\":5.477225575051661},\"tags\":[\"apply_ranges\"],\"x\":{\"field\":\"DATE\"},\"y\":{\"field\":\"TMAX\"}},\"id\":\"5437\",\"type\":\"Scatter\"},{\"attributes\":{\"days\":[1,2,3,4,5,6,7,8,9,10,11,12,13,14,15,16,17,18,19,20,21,22,23,24,25,26,27,28,29,30,31]},\"id\":\"5466\",\"type\":\"DaysTicker\"},{\"attributes\":{},\"id\":\"5474\",\"type\":\"YearsTicker\"}],\"root_ids\":[\"5400\"]},\"title\":\"Bokeh Application\",\"version\":\"2.4.3\"}};\n",
       "    var render_items = [{\"docid\":\"c62fce09-3003-41f4-becd-b27fa3499d7e\",\"root_ids\":[\"5400\"],\"roots\":{\"5400\":\"2cf81512-8e84-4c85-8525-73f4282bc95c\"}}];\n",
       "    root.Bokeh.embed.embed_items_notebook(docs_json, render_items);\n",
       "    for (const render_item of render_items) {\n",
       "      for (const root_id of render_item.root_ids) {\n",
       "\tconst id_el = document.getElementById(root_id)\n",
       "\tif (id_el.children.length && (id_el.children[0].className === 'bk-root')) {\n",
       "\t  const root_el = id_el.children[0]\n",
       "\t  root_el.id = root_el.id + '-rendered'\n",
       "\t}\n",
       "      }\n",
       "    }\n",
       "  }\n",
       "  if (root.Bokeh !== undefined && root.Bokeh.Panel !== undefined) {\n",
       "    embed_document(root);\n",
       "  } else {\n",
       "    var attempts = 0;\n",
       "    var timer = setInterval(function(root) {\n",
       "      if (root.Bokeh !== undefined && root.Bokeh.Panel !== undefined) {\n",
       "        clearInterval(timer);\n",
       "        embed_document(root);\n",
       "      } else if (document.readyState == \"complete\") {\n",
       "        attempts++;\n",
       "        if (attempts > 200) {\n",
       "          clearInterval(timer);\n",
       "          console.log(\"Bokeh: ERROR: Unable to run BokehJS code because BokehJS library is missing\");\n",
       "        }\n",
       "      }\n",
       "    }, 25, root)\n",
       "  }\n",
       "})(window);</script>"
      ],
      "text/plain": [
       ":Scatter   [DATE]   (TMAX)"
      ]
     },
     "execution_count": 68,
     "metadata": {
      "application/vnd.holoviews_exec.v0+json": {
       "id": "5400"
      }
     },
     "output_type": "execute_result"
    }
   ],
   "source": [
    "subset.TMAX.hvplot.scatter(xlabel='Year',\n",
    "                           ylabel='Temperature (degC)',\n",
    "                           title='July Maximum Temperature at Midway Airport')"
   ]
  },
  {
   "cell_type": "markdown",
   "metadata": {},
   "source": [
    "## Last Section\n",
    "\n",
    "If you're comfortable, and as we briefly used for our embedded logo up top, you can embed raw html into Jupyter Markdown cells (edit to see):"
   ]
  },
  {
   "cell_type": "markdown",
   "metadata": {},
   "source": [
    "<div class=\"admonition alert alert-info\">\n",
    "    <p class=\"admonition-title\" style=\"font-weight:bold\">Info</p>\n",
    "    Your relevant information here!\n",
    "</div>"
   ]
  },
  {
   "cell_type": "markdown",
   "metadata": {},
   "source": [
    "Feel free to copy this around and edit or play around with yourself. Some other `admonitions` you can put in:"
   ]
  },
  {
   "cell_type": "markdown",
   "metadata": {},
   "source": [
    "<div class=\"admonition alert alert-success\">\n",
    "    <p class=\"admonition-title\" style=\"font-weight:bold\">Success</p>\n",
    "    We got this done after all!\n",
    "</div>"
   ]
  },
  {
   "cell_type": "markdown",
   "metadata": {},
   "source": [
    "<div class=\"admonition alert alert-warning\">\n",
    "    <p class=\"admonition-title\" style=\"font-weight:bold\">Warning</p>\n",
    "    Be careful!\n",
    "</div>"
   ]
  },
  {
   "cell_type": "markdown",
   "metadata": {},
   "source": [
    "<div class=\"admonition alert alert-danger\">\n",
    "    <p class=\"admonition-title\" style=\"font-weight:bold\">Danger</p>\n",
    "    Scary stuff be here.\n",
    "</div>"
   ]
  },
  {
   "cell_type": "markdown",
   "metadata": {},
   "source": [
    "We also suggest checking out Jupyter Book's [brief demonstration](https://jupyterbook.org/content/metadata.html#jupyter-cell-tags) on adding cell tags to your cells in Jupyter Notebook, Lab, or manually. Using these cell tags can allow you to [customize](https://jupyterbook.org/interactive/hiding.html) how your code content is displayed and even [demonstrate errors](https://jupyterbook.org/content/execute.html#dealing-with-code-that-raises-errors) without altogether crashing our loyal army of machines!"
   ]
  },
  {
   "cell_type": "markdown",
   "metadata": {},
   "source": [
    "---"
   ]
  },
  {
   "cell_type": "markdown",
   "metadata": {},
   "source": [
    "## Summary\n",
    "Add one final `---` marking the end of your body of content, and then conclude with a brief single paragraph summarizing at a high level the key pieces that were learned and how they tied to your objectives. Look to reiterate what the most important takeaways were.\n",
    "\n",
    "### What's next?\n",
    "Let Jupyter book tie this to the next (sequential) piece of content that people could move on to down below and in the sidebar. However, if this page uniquely enables your reader to tackle other nonsequential concepts throughout this book, or even external content, link to it here!"
   ]
  },
  {
   "cell_type": "markdown",
   "metadata": {},
   "source": [
    "## Resources and references\n",
    "Finally, be rigorous in your citations and references as necessary. Give credit where credit is due. Also, feel free to link to relevant external material, further reading, documentation, etc. Then you're done! Give yourself a quick review, a high five, and send us a pull request. A few final notes:\n",
    " - `Kernel > Restart Kernel and Run All Cells...` to confirm that your notebook will cleanly run from start to finish\n",
    " - `Kernel > Restart Kernel and Clear All Outputs...` before committing your notebook, our machines will do the heavy lifting\n",
    " - Take credit! Provide author contact information if you'd like; if so, consider adding information here at the bottom of your notebook\n",
    " - Give credit! Attribute appropriate authorship for referenced code, information, images, etc.\n",
    " - Only include what you're legally allowed: **no copyright infringement or plagiarism**\n",
    " \n",
    "Thank you for your contribution!"
   ]
  }
 ],
 "metadata": {
  "kernelspec": {
   "display_name": "Python 3 (ipykernel)",
   "language": "python",
   "name": "python3"
  },
  "language_info": {
   "codemirror_mode": {
    "name": "ipython",
    "version": 3
   },
   "file_extension": ".py",
   "mimetype": "text/x-python",
   "name": "python",
   "nbconvert_exporter": "python",
   "pygments_lexer": "ipython3",
   "version": "3.9.12"
  },
  "nbdime-conflicts": {
   "local_diff": [
    {
     "diff": [
      {
       "diff": [
        {
         "key": 0,
         "op": "addrange",
         "valuelist": [
          "Python 3"
         ]
        },
        {
         "key": 0,
         "length": 1,
         "op": "removerange"
        }
       ],
       "key": "display_name",
       "op": "patch"
      }
     ],
     "key": "kernelspec",
     "op": "patch"
    }
   ],
   "remote_diff": [
    {
     "diff": [
      {
       "diff": [
        {
         "key": 0,
         "op": "addrange",
         "valuelist": [
          "Python3"
         ]
        },
        {
         "key": 0,
         "length": 1,
         "op": "removerange"
        }
       ],
       "key": "display_name",
       "op": "patch"
      }
     ],
     "key": "kernelspec",
     "op": "patch"
    }
   ]
  },
  "toc-autonumbering": false
 },
 "nbformat": 4,
 "nbformat_minor": 4
}
